{
 "cells": [
  {
   "cell_type": "markdown",
   "id": "20b72332",
   "metadata": {},
   "source": [
    "# 2.1 Collecting Initial Data"
   ]
  },
  {
   "cell_type": "code",
   "execution_count": 1,
   "id": "c00512cb",
   "metadata": {},
   "outputs": [
    {
     "name": "stderr",
     "output_type": "stream",
     "text": [
      "WARNING: An illegal reflective access operation has occurred\n",
      "WARNING: Illegal reflective access by org.apache.spark.unsafe.Platform (file:/home/ubuntu/spark-3.2.1-bin-hadoop2.7/jars/spark-unsafe_2.12-3.2.1.jar) to constructor java.nio.DirectByteBuffer(long,int)\n",
      "WARNING: Please consider reporting this to the maintainers of org.apache.spark.unsafe.Platform\n",
      "WARNING: Use --illegal-access=warn to enable warnings of further illegal reflective access operations\n",
      "WARNING: All illegal access operations will be denied in a future release\n",
      "Using Spark's default log4j profile: org/apache/spark/log4j-defaults.properties\n",
      "Setting default log level to \"WARN\".\n",
      "To adjust logging level use sc.setLogLevel(newLevel). For SparkR, use setLogLevel(newLevel).\n",
      "23/10/12 10:46:23 WARN NativeCodeLoader: Unable to load native-hadoop library for your platform... using builtin-java classes where applicable\n"
     ]
    },
    {
     "name": "stdout",
     "output_type": "stream",
     "text": [
      "root\n",
      " |-- id: long (nullable = true)\n",
      " |-- age: long (nullable = true)\n",
      " |-- gender: string (nullable = true)\n",
      " |-- height: double (nullable = true)\n",
      " |-- weight: double (nullable = true)\n",
      " |-- ap_hi: long (nullable = true)\n",
      " |-- ap_lo: long (nullable = true)\n",
      " |-- cholesterol: long (nullable = true)\n",
      " |-- gluc: long (nullable = true)\n",
      " |-- smoke: long (nullable = true)\n",
      " |-- alco: long (nullable = true)\n",
      " |-- active: long (nullable = true)\n",
      " |-- mock: double (nullable = true)\n",
      " |-- cardio: long (nullable = true)\n",
      "\n"
     ]
    }
   ],
   "source": [
    "# Must be included at the beginning of each new notebook. Remember to change the app name.\n",
    "import findspark\n",
    "findspark.init('/home/ubuntu/spark-3.2.1-bin-hadoop2.7')\n",
    "import pyspark\n",
    "from pyspark.sql import SparkSession\n",
    "spark = SparkSession.builder.appName('operations').getOrCreate()\n",
    "spark.sparkContext.setLogLevel(\"ERROR\")\n",
    "# Schemas can only be inferred for CSV files. \n",
    "import pandas as pd\n",
    "df_pandas = pd.read_excel(\"dataset/cardio.xlsx\")\n",
    "df = spark.createDataFrame(df_pandas)\n",
    "# df = spark.read.xlsx('dataset/cardio.xlsx', inferSchema=True, header=True)\n",
    "df.printSchema()"
   ]
  },
  {
   "cell_type": "markdown",
   "id": "8d00e378",
   "metadata": {},
   "source": [
    "# 2.2 – Data description"
   ]
  },
  {
   "cell_type": "code",
   "execution_count": 2,
   "id": "1f9fcbf3",
   "metadata": {},
   "outputs": [
    {
     "name": "stderr",
     "output_type": "stream",
     "text": [
      "\r",
      "[Stage 0:>                                                          (0 + 1) / 1]\r"
     ]
    },
    {
     "name": "stdout",
     "output_type": "stream",
     "text": [
      "+---+-----+------+------+------+-----+-----+-----------+----+-----+----+------+----+------+\n",
      "| id|  age|gender|height|weight|ap_hi|ap_lo|cholesterol|gluc|smoke|alco|active|mock|cardio|\n",
      "+---+-----+------+------+------+-----+-----+-----------+----+-----+----+------+----+------+\n",
      "|  0|18393|   men|   NaN|  62.0|  110|   80|          1|   1|    0|   0|     1| NaN|     0|\n",
      "|  1|20228| women| 156.0|  85.0|  140|   90|          3|   1|    0|   0|     1| 1.0|     1|\n",
      "|  2|18857| women| 165.0|  64.0|  130|   70|          3|   1|    0|   0|     0| 1.0|     1|\n",
      "|  3|17623|   men| 169.0|  82.0|  150|  100|          1|   1|    0|   0|     1| NaN|     1|\n",
      "|  4|17474| women|   NaN|  56.0|  100|   60|          1|   1|    0|   0|     0| NaN|     0|\n",
      "|  8|21914| women| 151.0|  67.0|  120|   80|          2|   2|    0|   0|     0| 1.0|     0|\n",
      "|  9|22113| women| 157.0|  93.0|  130|   80|          3|   1|    0|   0|     1| 1.0|     0|\n",
      "| 12|22584|   men| 178.0|  95.0|  130|   90|          3|   3|    0|   0|     1| 1.0|     1|\n",
      "| 13|17668| women| 158.0|  71.0|  110|   70|          1|   1|    0|   0|     1| 1.0|     0|\n",
      "| 14|19834| women| 164.0|  68.0|  110|   60|          1|   1|    0|   0|     0| 1.0|     0|\n",
      "| 15|22530| women| 169.0|  80.0|  120|   80|          1|   1|    0|   0|     1| NaN|     0|\n",
      "| 16|18815|   men| 173.0|  60.0|  120|   80|          1|   1|    0|   0|     1| NaN|     0|\n",
      "| 18|14791|   men| 165.0|  60.0|  120|   80|          1|   1|    0|   0|     0| 1.0|     0|\n",
      "| 21|19809| women| 158.0|  78.0|  110|   70|          1|   1|    0|   0|     1| 1.0|     0|\n",
      "| 23|14532|   men| 181.0|  95.0|  130|   90|          1|   1|    1|   1|     1| NaN|     0|\n",
      "| 24|16782|   men| 172.0| 112.0|  120|   80|          1|   1|    0|   0|     0| NaN|     1|\n",
      "| 25|21296| women| 170.0|  75.0|  130|   70|          1|   1|    0|   0|     0| NaN|     0|\n",
      "| 27|16747| women| 158.0|  52.0|  110|   70|          1|   3|    0|   0|     1| NaN|     0|\n",
      "| 28|17482| women| 154.0|  68.0|  100|   70|          1|   1|    0|   0|     0| 1.0|     0|\n",
      "| 29|21755|   men| 162.0|  56.0|  120|   70|          1|   1|    1|   0|     1| NaN|     0|\n",
      "+---+-----+------+------+------+-----+-----+-----------+----+-----+----+------+----+------+\n",
      "only showing top 20 rows\n",
      "\n"
     ]
    },
    {
     "name": "stderr",
     "output_type": "stream",
     "text": [
      "\r",
      "                                                                                \r"
     ]
    }
   ],
   "source": [
    "# Let's get a better look at the data.\n",
    "df.show()"
   ]
  },
  {
   "cell_type": "code",
   "execution_count": 3,
   "id": "ac9ad593",
   "metadata": {},
   "outputs": [
    {
     "data": {
      "text/plain": [
       "[Row(id=0, age=18393, gender='men', height=nan, weight=62.0, ap_hi=110, ap_lo=80, cholesterol=1, gluc=1, smoke=0, alco=0, active=1, mock=nan, cardio=0)]"
      ]
     },
     "execution_count": 3,
     "metadata": {},
     "output_type": "execute_result"
    }
   ],
   "source": [
    "# Instead, let's just grab the first row. Much neater! \n",
    "df.head(1)"
   ]
  },
  {
   "cell_type": "code",
   "execution_count": 4,
   "id": "e85ff89f",
   "metadata": {
    "scrolled": true
   },
   "outputs": [
    {
     "name": "stderr",
     "output_type": "stream",
     "text": [
      "\r",
      "[Stage 2:>                                                          (0 + 2) / 2]\r"
     ]
    },
    {
     "name": "stdout",
     "output_type": "stream",
     "text": [
      "+---+---+------+------+------+-----+-----+-----------+----+-----+----+------+-----+------+\n",
      "| id|age|gender|height|weight|ap_hi|ap_lo|cholesterol|gluc|smoke|alco|active| mock|cardio|\n",
      "+---+---+------+------+------+-----+-----+-----------+----+-----+----+------+-----+------+\n",
      "|  0|  0|     0|     2|     0|    0|    0|          0|   0|    0|   0|     0|33109|     0|\n",
      "+---+---+------+------+------+-----+-----+-----------+----+-----+----+------+-----+------+\n",
      "\n"
     ]
    },
    {
     "name": "stderr",
     "output_type": "stream",
     "text": [
      "\r",
      "                                                                                \r"
     ]
    }
   ],
   "source": [
    "# show missing value \n",
    "import pyspark.sql.functions as F\n",
    "df_agg = df.agg(\n",
    "    *[F.count(F.when(F.isnan(c), c)).alias(c) for c in df.columns])\n",
    "df_agg.show()\n",
    "# missing value columns: height (2/60078) and mock 55%(33109 / 60078)"
   ]
  },
  {
   "cell_type": "code",
   "execution_count": 5,
   "id": "72c7de70",
   "metadata": {},
   "outputs": [
    {
     "name": "stdout",
     "output_type": "stream",
     "text": [
      "+-------+--------+------+-------+-------+-------+-----------+-------+\n",
      "|summary|     age|height| weight|  ap_hi|  ap_lo|cholesterol|   gluc|\n",
      "+-------+--------+------+-------+-------+-------+-----------+-------+\n",
      "|  count| 66078.0| 66078|66078.0|66078.0|66078.0|    66078.0|66078.0|\n",
      "|   mean|19436.08|   NaN|  74.19| 128.37|  95.59|       1.36|   1.22|\n",
      "| stddev| 2471.41|   NaN|  41.19| 152.14| 180.83|       0.67|   0.57|\n",
      "|    min| 10798.0|  55.0|    5.0| -150.0|  -70.0|        1.0|    1.0|\n",
      "|    max| 23713.0|   NaN|10000.0|16020.0|11000.0|        3.0|    3.0|\n",
      "+-------+--------+------+-------+-------+-------+-----------+-------+\n",
      "\n"
     ]
    }
   ],
   "source": [
    "# description of numeric features\n",
    "\n",
    "df_describe = df.describe(['age','height','weight','ap_hi','ap_lo', 'cholesterol', 'gluc'])\n",
    "\n",
    "df_describe.selectExpr('summary', 'round(age, 2) as age', 'height', 'round(weight, 2) as weight',\n",
    "                      'round(ap_hi, 2) as ap_hi', 'round(ap_lo, 2) as ap_lo', 'round(cholesterol, 2) as cholesterol', 'round(gluc, 2) as gluc').show() "
   ]
  },
  {
   "cell_type": "code",
   "execution_count": 6,
   "id": "a4f2bc9d",
   "metadata": {},
   "outputs": [
    {
     "name": "stdout",
     "output_type": "stream",
     "text": [
      "+------+-----+\n",
      "|gender|count|\n",
      "+------+-----+\n",
      "|   men|23095|\n",
      "| women|42983|\n",
      "+------+-----+\n",
      "\n",
      "+-----+-----+\n",
      "|smoke|count|\n",
      "+-----+-----+\n",
      "|    0|60243|\n",
      "|    1| 5835|\n",
      "+-----+-----+\n",
      "\n",
      "+----+-----+\n",
      "|alco|count|\n",
      "+----+-----+\n",
      "|   0|62529|\n",
      "|   1| 3549|\n",
      "+----+-----+\n",
      "\n",
      "+------+-----+\n",
      "|active|count|\n",
      "+------+-----+\n",
      "|     0|12881|\n",
      "|     1|53197|\n",
      "+------+-----+\n",
      "\n",
      "+----+-----+\n",
      "|mock|count|\n",
      "+----+-----+\n",
      "| NaN|33109|\n",
      "| 1.0|32969|\n",
      "+----+-----+\n",
      "\n",
      "+------+-----+\n",
      "|cardio|count|\n",
      "+------+-----+\n",
      "|     0|35021|\n",
      "|     1|31057|\n",
      "+------+-----+\n",
      "\n"
     ]
    }
   ],
   "source": [
    "# description of categoric features\n",
    "df.groupBy('gender').count().show()\n",
    "df.groupBy('smoke').count().show()\n",
    "df.groupBy('alco').count().show()\n",
    "df.groupBy('active').count().show()\n",
    "df.groupBy('mock').count().show()\n",
    "df.groupBy('cardio').count().show()"
   ]
  },
  {
   "cell_type": "code",
   "execution_count": 7,
   "id": "3a6e48c0",
   "metadata": {},
   "outputs": [
    {
     "name": "stdout",
     "output_type": "stream",
     "text": [
      "+-----------+-----------+----+\n",
      "|      col_1|      col_2|corr|\n",
      "+-----------+-----------+----+\n",
      "|        age|      ap_hi|0.02|\n",
      "|        age|      ap_lo|0.02|\n",
      "|        age|cholesterol|0.15|\n",
      "|        age|       gluc| 0.1|\n",
      "|        age|     cardio|0.24|\n",
      "|      ap_hi|        age|0.02|\n",
      "|      ap_hi|      ap_lo|0.02|\n",
      "|      ap_hi|cholesterol|0.03|\n",
      "|      ap_hi|       gluc|0.01|\n",
      "|      ap_hi|     cardio|0.06|\n",
      "|      ap_lo|        age|0.02|\n",
      "|      ap_lo|      ap_hi|0.02|\n",
      "|      ap_lo|cholesterol|0.02|\n",
      "|      ap_lo|       gluc|0.01|\n",
      "|      ap_lo|     cardio|0.07|\n",
      "|cholesterol|        age|0.15|\n",
      "|cholesterol|      ap_hi|0.03|\n",
      "|cholesterol|      ap_lo|0.02|\n",
      "|cholesterol|       gluc|0.45|\n",
      "|cholesterol|     cardio|0.22|\n",
      "+-----------+-----------+----+\n",
      "only showing top 20 rows\n",
      "\n"
     ]
    }
   ],
   "source": [
    "from pyspark.ml.stat import Correlation\n",
    "from pyspark.ml.feature import VectorAssembler\n",
    "\n",
    "corr_cols = ['age','ap_hi','ap_lo', 'cholesterol', 'gluc', 'cardio']\n",
    "corr_result = []\n",
    "for c1 in corr_cols:\n",
    "    for c2 in corr_cols:\n",
    "        if c1 != c2:\n",
    "            corr_result.append((c1, c2, round(df.corr(c1, c2),2)))\n",
    "df_corr = spark.createDataFrame(corr_result, ['col_1', 'col_2', 'corr'])\n",
    "df_corr.show()"
   ]
  },
  {
   "cell_type": "code",
   "execution_count": 8,
   "id": "2051b47a",
   "metadata": {},
   "outputs": [
    {
     "name": "stdout",
     "output_type": "stream",
     "text": [
      "+------+--------+---------+---------+---------------+--------+\n",
      "|cardio| avg_age|avg_ap_hi|avg_ap_lo|avg_cholesterol|avg_gluc|\n",
      "+------+--------+---------+---------+---------------+--------+\n",
      "|     0|18881.62|   120.43|    84.25|           1.22|    1.18|\n",
      "|     1|20061.31|   137.32|   108.38|           1.52|    1.28|\n",
      "+------+--------+---------+---------+---------------+--------+\n",
      "\n"
     ]
    }
   ],
   "source": [
    "from pyspark.sql.functions import sum,avg,max,count,isnan, min\n",
    "df_avg = df.groupBy(\"cardio\").agg(avg('age').alias(\"avg_age\"), avg('ap_hi').alias(\"avg_ap_hi\"), \n",
    "                         avg('ap_lo').alias(\"avg_ap_lo\"),avg('cholesterol').alias(\"avg_cholesterol\"),\n",
    "                         avg('gluc').alias(\"avg_gluc\"))\n",
    "df_avg.selectExpr('cardio','round(avg_age, 2) as avg_age','round(avg_ap_hi, 2) as avg_ap_hi','round(avg_ap_lo, 2) as avg_ap_lo',\n",
    "                 'round(avg_cholesterol, 2) as avg_cholesterol','round(avg_gluc, 2) as avg_gluc').show()"
   ]
  },
  {
   "cell_type": "code",
   "execution_count": 9,
   "id": "8e41f5fd",
   "metadata": {},
   "outputs": [],
   "source": [
    "from pyspark.sql.functions import col, create_map, lit\n",
    "from itertools import chain\n",
    "\n",
    "dictionary_cardio = {0: 'Negative', 1: 'Positive'}\n",
    "\n",
    "mapping_cardio = create_map([lit(x) for x in chain(*dictionary_cardio.items())])\n",
    "df = df.withColumn('cardio_label', mapping_cardio[col('cardio')])"
   ]
  },
  {
   "cell_type": "markdown",
   "id": "87ab965d",
   "metadata": {},
   "source": [
    "# 2.3 - Data exploration"
   ]
  },
  {
   "cell_type": "code",
   "execution_count": 10,
   "id": "4db5c627",
   "metadata": {},
   "outputs": [
    {
     "data": {
      "image/png": "[encoded data removed]",
      "text/plain": [
       "<Figure size 432x288 with 1 Axes>"
      ]
     },
     "metadata": {
      "needs_background": "light"
     },
     "output_type": "display_data"
    },
    {
     "data": {
      "image/png": "[encoded data removed]",
      "text/plain": [
       "<Figure size 440.875x360 with 1 Axes>"
      ]
     },
     "metadata": {
      "needs_background": "light"
     },
     "output_type": "display_data"
    },
    {
     "data": {
      "image/png": "[encoded data removed]",
      "text/plain": [
       "<Figure size 432x288 with 1 Axes>"
      ]
     },
     "metadata": {
      "needs_background": "light"
     },
     "output_type": "display_data"
    },
    {
     "data": {
      "image/png": "[encoded data removed]",
      "text/plain": [
       "<Figure size 440.875x360 with 1 Axes>"
      ]
     },
     "metadata": {
      "needs_background": "light"
     },
     "output_type": "display_data"
    },
    {
     "data": {
      "image/png": "[encoded data removed]",
      "text/plain": [
       "<Figure size 432x288 with 1 Axes>"
      ]
     },
     "metadata": {
      "needs_background": "light"
     },
     "output_type": "display_data"
    },
    {
     "data": {
      "image/png": "[encoded data removed]",
      "text/plain": [
       "<Figure size 440.875x360 with 1 Axes>"
      ]
     },
     "metadata": {
      "needs_background": "light"
     },
     "output_type": "display_data"
    },
    {
     "data": {
      "image/png": "[encoded data removed]",
      "text/plain": [
       "<Figure size 432x288 with 1 Axes>"
      ]
     },
     "metadata": {
      "needs_background": "light"
     },
     "output_type": "display_data"
    },
    {
     "data": {
      "image/png": "[encoded data removed]",
      "text/plain": [
       "<Figure size 440.875x360 with 1 Axes>"
      ]
     },
     "metadata": {
      "needs_background": "light"
     },
     "output_type": "display_data"
    },
    {
     "data": {
      "image/png": "[encoded data removed]",
      "text/plain": [
       "<Figure size 432x288 with 1 Axes>"
      ]
     },
     "metadata": {
      "needs_background": "light"
     },
     "output_type": "display_data"
    },
    {
     "data": {
      "image/png": "[encoded data removed]",
      "text/plain": [
       "<Figure size 440.875x360 with 1 Axes>"
      ]
     },
     "metadata": {
      "needs_background": "light"
     },
     "output_type": "display_data"
    },
    {
     "data": {
      "image/png": "[encoded data removed]",
      "text/plain": [
       "<Figure size 432x288 with 1 Axes>"
      ]
     },
     "metadata": {
      "needs_background": "light"
     },
     "output_type": "display_data"
    },
    {
     "data": {
      "image/png": "[encoded data removed]",
      "text/plain": [
       "<Figure size 432x288 with 1 Axes>"
      ]
     },
     "metadata": {
      "needs_background": "light"
     },
     "output_type": "display_data"
    },
    {
     "data": {
      "image/png": "[encoded data removed]",
      "text/plain": [
       "<Figure size 432x288 with 1 Axes>"
      ]
     },
     "metadata": {
      "needs_background": "light"
     },
     "output_type": "display_data"
    },
    {
     "data": {
      "image/png": "[encoded data removed]",
      "text/plain": [
       "<Figure size 432x288 with 1 Axes>"
      ]
     },
     "metadata": {
      "needs_background": "light"
     },
     "output_type": "display_data"
    },
    {
     "data": {
      "image/png": "[encoded data removed]",
      "text/plain": [
       "<Figure size 432x288 with 1 Axes>"
      ]
     },
     "metadata": {
      "needs_background": "light"
     },
     "output_type": "display_data"
    },
    {
     "data": {
      "image/png": "[encoded data removed]",
      "text/plain": [
       "<Figure size 432x288 with 1 Axes>"
      ]
     },
     "metadata": {
      "needs_background": "light"
     },
     "output_type": "display_data"
    }
   ],
   "source": [
    "df_pd = df.toPandas()\n",
    "from matplotlib import pyplot as plt\n",
    "\n",
    "# visualization\n",
    "import seaborn as sns\n",
    "\n",
    "# for numerical data\n",
    "for c in ['age', 'height', 'weight', 'ap_hi', 'ap_lo']:\n",
    "    sns.boxplot(data=df_pd, x=c, y = 'cardio_label')\n",
    "    sns.displot(data=df_pd, x=c, hue='cardio_label', kind=\"kde\")\n",
    "    plt.show()\n",
    "\n",
    "# for categorical data\n",
    "for c in ['gender', 'cholesterol', 'gluc', 'smoke', 'alco', 'active']:\n",
    "    sns.barplot(data=df_pd[[c, 'cardio_label']].groupby(['cardio_label', c]).size().reset_index(name = 'counts'),x = c, y='counts', hue='cardio_label')\n",
    "    plt.show()"
   ]
  },
  {
   "cell_type": "markdown",
   "id": "45bc3ae6",
   "metadata": {},
   "source": [
    "# 2.4 - Data Quality"
   ]
  },
  {
   "cell_type": "code",
   "execution_count": 11,
   "id": "c9ab2e4d",
   "metadata": {},
   "outputs": [],
   "source": [
    "import numpy as np\n",
    "# Through the box plots, we can see that there are some outliers in age, height, weight, \n",
    "# ap_hi, ap_lo\n",
    "# use the IQR method to find the lower fence and upper fence\n",
    "def get_iqr_fence(df_array):\n",
    "    gap = np.percentile(list(df_array), [25, 75])\n",
    "    iqr = gap[1] - gap[0]\n",
    "    lower_fence = gap[0] - 1.5 * iqr\n",
    "    upper_fence = gap[1] + 1.5 * iqr\n",
    "    return lower_fence, upper_fence"
   ]
  },
  {
   "cell_type": "code",
   "execution_count": 12,
   "id": "735abf6d",
   "metadata": {},
   "outputs": [
    {
     "name": "stderr",
     "output_type": "stream",
     "text": [
      "                                                                                \r"
     ]
    },
    {
     "data": {
      "text/html": [
       "<div>\n",
       "<style scoped>\n",
       "    .dataframe tbody tr th:only-of-type {\n",
       "        vertical-align: middle;\n",
       "    }\n",
       "\n",
       "    .dataframe tbody tr th {\n",
       "        vertical-align: top;\n",
       "    }\n",
       "\n",
       "    .dataframe thead th {\n",
       "        text-align: right;\n",
       "    }\n",
       "</style>\n",
       "<table border=\"1\" class=\"dataframe\">\n",
       "  <thead>\n",
       "    <tr style=\"text-align: right;\">\n",
       "      <th></th>\n",
       "      <th>col</th>\n",
       "      <th>missing</th>\n",
       "      <th>lower_fence</th>\n",
       "      <th>upper_fence</th>\n",
       "      <th>outliers_number</th>\n",
       "      <th>outliers_percent %</th>\n",
       "    </tr>\n",
       "  </thead>\n",
       "  <tbody>\n",
       "    <tr>\n",
       "      <th>0</th>\n",
       "      <td>age</td>\n",
       "      <td>0</td>\n",
       "      <td>12102.5</td>\n",
       "      <td>26824.5</td>\n",
       "      <td>4</td>\n",
       "      <td>0</td>\n",
       "    </tr>\n",
       "    <tr>\n",
       "      <th>1</th>\n",
       "      <td>height</td>\n",
       "      <td>2</td>\n",
       "      <td>142.5</td>\n",
       "      <td>186.5</td>\n",
       "      <td>486</td>\n",
       "      <td>1</td>\n",
       "    </tr>\n",
       "    <tr>\n",
       "      <th>2</th>\n",
       "      <td>weight</td>\n",
       "      <td>0</td>\n",
       "      <td>39.5</td>\n",
       "      <td>107.5</td>\n",
       "      <td>1685</td>\n",
       "      <td>3</td>\n",
       "    </tr>\n",
       "    <tr>\n",
       "      <th>3</th>\n",
       "      <td>ap_hi</td>\n",
       "      <td>0</td>\n",
       "      <td>90.0</td>\n",
       "      <td>170.0</td>\n",
       "      <td>1318</td>\n",
       "      <td>2</td>\n",
       "    </tr>\n",
       "    <tr>\n",
       "      <th>4</th>\n",
       "      <td>ap_lo</td>\n",
       "      <td>0</td>\n",
       "      <td>65.0</td>\n",
       "      <td>105.0</td>\n",
       "      <td>4382</td>\n",
       "      <td>7</td>\n",
       "    </tr>\n",
       "  </tbody>\n",
       "</table>\n",
       "</div>"
      ],
      "text/plain": [
       "      col  missing  lower_fence  upper_fence  outliers_number  \\\n",
       "0     age        0      12102.5      26824.5                4   \n",
       "1  height        2        142.5        186.5              486   \n",
       "2  weight        0         39.5        107.5             1685   \n",
       "3   ap_hi        0         90.0        170.0             1318   \n",
       "4   ap_lo        0         65.0        105.0             4382   \n",
       "\n",
       "   outliers_percent %  \n",
       "0                   0  \n",
       "1                   1  \n",
       "2                   3  \n",
       "3                   2  \n",
       "4                   7  "
      ]
     },
     "execution_count": 12,
     "metadata": {},
     "output_type": "execute_result"
    }
   ],
   "source": [
    "quality_list_num = []\n",
    "\n",
    "schema = df.schema\n",
    "df_pd = df.toPandas()\n",
    "df_temp = spark.createDataFrame(df_pd,schema=schema)\n",
    "del df_pd\n",
    "\n",
    "for c in ['age', 'height', 'weight', 'ap_hi', 'ap_lo']:\n",
    "    temp_dict = {'col': c, 'missing': df.select([F.count(F.when(F.isnan(c), True)).alias(c)]).collect()[0][c]}\n",
    "    mean_default = df.filter(~isnan(c)).agg(F.mean(c)).collect()\n",
    "    df_temp = df_temp.na.fill(mean_default[0][0], subset=[c])\n",
    "    lower_fence, upper_fence = get_iqr_fence(df_temp.select(c).collect())\n",
    "    temp_dict.update({\n",
    "        'lower_fence': lower_fence, 'upper_fence': upper_fence,\n",
    "        'outliers_number': df_temp.filter( (df_temp[c] < lower_fence) | (df_temp[c] > upper_fence) ).count(),\n",
    "        'outliers_percent %': round(df_temp.filter( (df_temp[c] < lower_fence) | (df_temp[c] > upper_fence) ).count() * 100 / df_temp.count())\n",
    "    })\n",
    "    quality_list_num.append(temp_dict)\n",
    "    \n",
    "df_quality_num = pd.DataFrame(quality_list_num)\n",
    "    \n",
    "df_quality_num.head(10)"
   ]
  },
  {
   "cell_type": "code",
   "execution_count": 13,
   "id": "51e1ed09",
   "metadata": {},
   "outputs": [
    {
     "data": {
      "text/html": [
       "<div>\n",
       "<style scoped>\n",
       "    .dataframe tbody tr th:only-of-type {\n",
       "        vertical-align: middle;\n",
       "    }\n",
       "\n",
       "    .dataframe tbody tr th {\n",
       "        vertical-align: top;\n",
       "    }\n",
       "\n",
       "    .dataframe thead th {\n",
       "        text-align: right;\n",
       "    }\n",
       "</style>\n",
       "<table border=\"1\" class=\"dataframe\">\n",
       "  <thead>\n",
       "    <tr style=\"text-align: right;\">\n",
       "      <th></th>\n",
       "      <th>col</th>\n",
       "      <th>missing</th>\n",
       "      <th>possible_values</th>\n",
       "    </tr>\n",
       "  </thead>\n",
       "  <tbody>\n",
       "    <tr>\n",
       "      <th>0</th>\n",
       "      <td>gender</td>\n",
       "      <td>0</td>\n",
       "      <td>2</td>\n",
       "    </tr>\n",
       "    <tr>\n",
       "      <th>1</th>\n",
       "      <td>cholesterol</td>\n",
       "      <td>0</td>\n",
       "      <td>3</td>\n",
       "    </tr>\n",
       "    <tr>\n",
       "      <th>2</th>\n",
       "      <td>gluc</td>\n",
       "      <td>0</td>\n",
       "      <td>3</td>\n",
       "    </tr>\n",
       "    <tr>\n",
       "      <th>3</th>\n",
       "      <td>smoke</td>\n",
       "      <td>0</td>\n",
       "      <td>2</td>\n",
       "    </tr>\n",
       "    <tr>\n",
       "      <th>4</th>\n",
       "      <td>alco</td>\n",
       "      <td>0</td>\n",
       "      <td>2</td>\n",
       "    </tr>\n",
       "    <tr>\n",
       "      <th>5</th>\n",
       "      <td>active</td>\n",
       "      <td>0</td>\n",
       "      <td>2</td>\n",
       "    </tr>\n",
       "    <tr>\n",
       "      <th>6</th>\n",
       "      <td>mock</td>\n",
       "      <td>33109</td>\n",
       "      <td>2</td>\n",
       "    </tr>\n",
       "  </tbody>\n",
       "</table>\n",
       "</div>"
      ],
      "text/plain": [
       "           col  missing  possible_values\n",
       "0       gender        0                2\n",
       "1  cholesterol        0                3\n",
       "2         gluc        0                3\n",
       "3        smoke        0                2\n",
       "4         alco        0                2\n",
       "5       active        0                2\n",
       "6         mock    33109                2"
      ]
     },
     "execution_count": 13,
     "metadata": {},
     "output_type": "execute_result"
    }
   ],
   "source": [
    "from pyspark.sql.functions import countDistinct\n",
    "quality_list_cat = []\n",
    "for c in ['gender', 'cholesterol', 'gluc', 'smoke', 'alco', 'active', 'mock']:\n",
    "    quality_list_cat.append({'col': c, 'missing': df.select([F.count(F.when(F.isnan(c), True)).alias(c)]).collect()[0][c], \n",
    "                             'possible_values': df.select(countDistinct(c).alias(c)).collect()[0][c]})\n",
    "    \n",
    "df_quality_cat = pd.DataFrame(quality_list_cat)\n",
    "    \n",
    "df_quality_cat.head(10)"
   ]
  },
  {
   "cell_type": "markdown",
   "id": "47854bd6",
   "metadata": {},
   "source": [
    "# 3.1 Data Selection"
   ]
  },
  {
   "cell_type": "code",
   "execution_count": 14,
   "id": "18b16cc2",
   "metadata": {},
   "outputs": [
    {
     "name": "stdout",
     "output_type": "stream",
     "text": [
      "+---+-----+------+------+------+-----+-----+-----------+----+-----+----+------+------+------------+\n",
      "| id|  age|gender|height|weight|ap_hi|ap_lo|cholesterol|gluc|smoke|alco|active|cardio|cardio_label|\n",
      "+---+-----+------+------+------+-----+-----+-----------+----+-----+----+------+------+------------+\n",
      "|  0|18393|   men|   NaN|  62.0|  110|   80|          1|   1|    0|   0|     1|     0|    Negative|\n",
      "|  1|20228| women| 156.0|  85.0|  140|   90|          3|   1|    0|   0|     1|     1|    Positive|\n",
      "|  2|18857| women| 165.0|  64.0|  130|   70|          3|   1|    0|   0|     0|     1|    Positive|\n",
      "|  3|17623|   men| 169.0|  82.0|  150|  100|          1|   1|    0|   0|     1|     1|    Positive|\n",
      "|  4|17474| women|   NaN|  56.0|  100|   60|          1|   1|    0|   0|     0|     0|    Negative|\n",
      "|  8|21914| women| 151.0|  67.0|  120|   80|          2|   2|    0|   0|     0|     0|    Negative|\n",
      "|  9|22113| women| 157.0|  93.0|  130|   80|          3|   1|    0|   0|     1|     0|    Negative|\n",
      "| 12|22584|   men| 178.0|  95.0|  130|   90|          3|   3|    0|   0|     1|     1|    Positive|\n",
      "| 13|17668| women| 158.0|  71.0|  110|   70|          1|   1|    0|   0|     1|     0|    Negative|\n",
      "| 14|19834| women| 164.0|  68.0|  110|   60|          1|   1|    0|   0|     0|     0|    Negative|\n",
      "| 15|22530| women| 169.0|  80.0|  120|   80|          1|   1|    0|   0|     1|     0|    Negative|\n",
      "| 16|18815|   men| 173.0|  60.0|  120|   80|          1|   1|    0|   0|     1|     0|    Negative|\n",
      "| 18|14791|   men| 165.0|  60.0|  120|   80|          1|   1|    0|   0|     0|     0|    Negative|\n",
      "| 21|19809| women| 158.0|  78.0|  110|   70|          1|   1|    0|   0|     1|     0|    Negative|\n",
      "| 23|14532|   men| 181.0|  95.0|  130|   90|          1|   1|    1|   1|     1|     0|    Negative|\n",
      "| 24|16782|   men| 172.0| 112.0|  120|   80|          1|   1|    0|   0|     0|     1|    Positive|\n",
      "| 25|21296| women| 170.0|  75.0|  130|   70|          1|   1|    0|   0|     0|     0|    Negative|\n",
      "| 27|16747| women| 158.0|  52.0|  110|   70|          1|   3|    0|   0|     1|     0|    Negative|\n",
      "| 28|17482| women| 154.0|  68.0|  100|   70|          1|   1|    0|   0|     0|     0|    Negative|\n",
      "| 29|21755|   men| 162.0|  56.0|  120|   70|          1|   1|    1|   0|     1|     0|    Negative|\n",
      "+---+-----+------+------+------+-----+-----+-----------+----+-----+----+------+------+------------+\n",
      "only showing top 20 rows\n",
      "\n"
     ]
    }
   ],
   "source": [
    "# drop the column with high percentage of missing value\n",
    "df = df.drop('mock')\n",
    "df.show()"
   ]
  },
  {
   "cell_type": "markdown",
   "id": "b870c50d",
   "metadata": {},
   "source": [
    "# 3.2 Cleaning the data"
   ]
  },
  {
   "cell_type": "markdown",
   "id": "04e81e15",
   "metadata": {},
   "source": [
    "## 3.2.1 Handling missing values"
   ]
  },
  {
   "cell_type": "code",
   "execution_count": 15,
   "id": "12cd14ba",
   "metadata": {},
   "outputs": [
    {
     "name": "stdout",
     "output_type": "stream",
     "text": [
      "+---+---+------+------+------+-----+-----+-----------+----+-----+----+------+------+------------+\n",
      "| id|age|gender|height|weight|ap_hi|ap_lo|cholesterol|gluc|smoke|alco|active|cardio|cardio_label|\n",
      "+---+---+------+------+------+-----+-----+-----------+----+-----+----+------+------+------------+\n",
      "|  0|  0|     0|     0|     0|    0|    0|          0|   0|    0|   0|     0|     0|           0|\n",
      "+---+---+------+------+------+-----+-----+-----------+----+-----+----+------+------+------------+\n",
      "\n"
     ]
    },
    {
     "name": "stderr",
     "output_type": "stream",
     "text": [
      "\r",
      "[Stage 210:>                                                        (0 + 2) / 2]\r",
      "\r",
      "                                                                                \r"
     ]
    }
   ],
   "source": [
    "mean_height = df.filter(~isnan('height')).agg(F.mean('height')).collect()\n",
    "df = df.na.fill(mean_height[0][0], subset=['height'])\n",
    "df_agg = df.agg(\n",
    "    *[F.count(F.when(F.isnan(c), c)).alias(c) for c in df.columns])\n",
    "df_agg.show()"
   ]
  },
  {
   "cell_type": "markdown",
   "id": "bc226d00",
   "metadata": {},
   "source": [
    "## 3.2.2 Handling outliers and extremes"
   ]
  },
  {
   "cell_type": "code",
   "execution_count": 16,
   "id": "2d8dc623",
   "metadata": {},
   "outputs": [
    {
     "name": "stdout",
     "output_type": "stream",
     "text": [
      "age (12102.5, 26824.5)\n",
      "height (142.5, 186.5)\n",
      "weight (39.5, 107.5)\n",
      "ap_hi (90.0, 170.0)\n",
      "ap_lo (65.0, 105.0)\n"
     ]
    }
   ],
   "source": [
    "for c in ['age', 'height', 'weight', 'ap_hi', 'ap_lo']:\n",
    "    print(c, get_iqr_fence(df.select(c).collect()))"
   ]
  },
  {
   "cell_type": "code",
   "execution_count": 17,
   "id": "403adfd3",
   "metadata": {},
   "outputs": [
    {
     "data": {
      "image/png": "[encoded data removed]",
      "text/plain": [
       "<Figure size 432x288 with 1 Axes>"
      ]
     },
     "metadata": {
      "needs_background": "light"
     },
     "output_type": "display_data"
    },
    {
     "data": {
      "image/png": "[encoded data removed]",
      "text/plain": [
       "<Figure size 440.875x360 with 1 Axes>"
      ]
     },
     "metadata": {
      "needs_background": "light"
     },
     "output_type": "display_data"
    },
    {
     "data": {
      "image/png": "[encoded data removed]",
      "text/plain": [
       "<Figure size 432x288 with 1 Axes>"
      ]
     },
     "metadata": {
      "needs_background": "light"
     },
     "output_type": "display_data"
    },
    {
     "data": {
      "image/png": "[encoded data removed]",
      "text/plain": [
       "<Figure size 440.875x360 with 1 Axes>"
      ]
     },
     "metadata": {
      "needs_background": "light"
     },
     "output_type": "display_data"
    },
    {
     "data": {
      "image/png": "[encoded data removed]",
      "text/plain": [
       "<Figure size 432x288 with 1 Axes>"
      ]
     },
     "metadata": {
      "needs_background": "light"
     },
     "output_type": "display_data"
    },
    {
     "data": {
      "image/png": "[encoded data removed]",
      "text/plain": [
       "<Figure size 440.875x360 with 1 Axes>"
      ]
     },
     "metadata": {
      "needs_background": "light"
     },
     "output_type": "display_data"
    },
    {
     "data": {
      "image/png": "[encoded data removed]",
      "text/plain": [
       "<Figure size 432x288 with 1 Axes>"
      ]
     },
     "metadata": {
      "needs_background": "light"
     },
     "output_type": "display_data"
    },
    {
     "data": {
      "image/png": "[encoded data removed]",
      "text/plain": [
       "<Figure size 440.875x360 with 1 Axes>"
      ]
     },
     "metadata": {
      "needs_background": "light"
     },
     "output_type": "display_data"
    },
    {
     "data": {
      "image/png": "[encoded data removed]",
      "text/plain": [
       "<Figure size 432x288 with 1 Axes>"
      ]
     },
     "metadata": {
      "needs_background": "light"
     },
     "output_type": "display_data"
    },
    {
     "data": {
      "image/png": "[encoded data removed]",
      "text/plain": [
       "<Figure size 440.875x360 with 1 Axes>"
      ]
     },
     "metadata": {
      "needs_background": "light"
     },
     "output_type": "display_data"
    }
   ],
   "source": [
    "# the range make sense\n",
    "# then filter the outliers\n",
    "df_filter = spark.createDataFrame(df.toPandas(),schema=df.schema)\n",
    "for c in ['age', 'height', 'weight', 'ap_hi', 'ap_lo']:\n",
    "    lower_fence, upper_fence = get_iqr_fence(df_filter.select(c).collect())\n",
    "    df_filter = df_filter.filter( (df_filter[c] >= lower_fence) & (df_filter[c] <= upper_fence) )\n",
    "    \n",
    "#     df_filter = df_filter[(df_filter[c] >= lower_fence) & (df_filter[c] <= upper_fence)]\n",
    "#     df_filter.reset_index(inplace = True, drop = True)\n",
    "\n",
    "df_filter_pd = df_filter.toPandas()\n",
    "\n",
    "# plot again\n",
    "# for prepocessing numerical data\n",
    "for c in ['age', 'height', 'weight', 'ap_hi', 'ap_lo']:\n",
    "    sns.boxplot(data=df_filter_pd, x=c, y = 'cardio_label')\n",
    "    sns.displot(data=df_filter_pd, x=c, hue='cardio_label', kind=\"kde\")\n",
    "    plt.show()"
   ]
  },
  {
   "cell_type": "markdown",
   "id": "4a836578",
   "metadata": {},
   "source": [
    "# 3.3 Constructing/Deriving a New Feature"
   ]
  },
  {
   "cell_type": "code",
   "execution_count": 18,
   "id": "10eb5b86",
   "metadata": {},
   "outputs": [
    {
     "name": "stdout",
     "output_type": "stream",
     "text": [
      "+------+-------+-------+-------+\n",
      "|cardio|avg_age|min_age|max_age|\n",
      "+------+-------+-------+-------+\n",
      "|     0|  51.83|  39.13|  64.87|\n",
      "|     1|  55.03|  39.14|  64.97|\n",
      "+------+-------+-------+-------+\n",
      "\n"
     ]
    }
   ],
   "source": [
    "# age constructing\n",
    "from pyspark.sql.functions import col\n",
    "\n",
    "df_filter = df_filter.withColumn(\"age\", col(\"age\") / 365)\n",
    "\n",
    "df_ap_agg = df_filter.groupBy(\"cardio\").agg(avg('age').alias(\"avg_age\"), min('age').alias(\"min_age\"), \n",
    "                         max('age').alias(\"max_age\"))\n",
    "df_ap_agg.selectExpr('cardio','round(avg_age, 2) as avg_age','round(min_age, 2) as min_age','round(max_age, 2) as max_age').show()"
   ]
  },
  {
   "cell_type": "code",
   "execution_count": 22,
   "id": "369c6387",
   "metadata": {},
   "outputs": [],
   "source": [
    "# age categorize\n",
    "def get_age_category(x):\n",
    "    if  x < 50:\n",
    "        return 'Adults'\n",
    "    elif x < 60:\n",
    "        return 'Middle-aged'\n",
    "    else:\n",
    "        return 'Elderly'"
   ]
  },
  {
   "cell_type": "code",
   "execution_count": 23,
   "id": "20a931dd",
   "metadata": {},
   "outputs": [],
   "source": [
    "from pyspark.sql.types import *\n",
    "UDF = F.udf(get_age_category, StringType())\n",
    "df_filter = df_filter.withColumn(\"age_refeature\", UDF(\"age\"))"
   ]
  },
  {
   "cell_type": "code",
   "execution_count": 24,
   "id": "af400b37",
   "metadata": {},
   "outputs": [
    {
     "name": "stdout",
     "output_type": "stream",
     "text": [
      "+-------------+-----+\n",
      "|age_refeature|count|\n",
      "+-------------+-----+\n",
      "|  Middle-aged|30081|\n",
      "|      Elderly|10903|\n",
      "|       Adults|18058|\n",
      "+-------------+-----+\n",
      "\n"
     ]
    }
   ],
   "source": [
    "df_filter.groupBy('age_refeature').count().show()"
   ]
  },
  {
   "cell_type": "code",
   "execution_count": 74,
   "id": "4e362b42",
   "metadata": {},
   "outputs": [],
   "source": [
    "# reclassify gender\n",
    "# then convert gender: 0: women, 1: man\n",
    "\n",
    "dictionary_gender = {'women': '1', 'men': '2'}\n",
    "\n",
    "mapping_gender = create_map([lit(x) for x in chain(*dictionary_gender.items())])\n",
    "df_filter = df_filter.withColumn('gender', mapping_gender[col('gender')])"
   ]
  },
  {
   "cell_type": "code",
   "execution_count": 75,
   "id": "da15e1e1",
   "metadata": {},
   "outputs": [],
   "source": [
    "# construct new feature BMI\n",
    "df_filter = df_filter.withColumn('bmi', col('weight')*10000/(col('height')*col('height')))\n",
    "\n",
    "# df_filter['bmi'] = df_filter['weight'] * 10000 / (df_filter['height'] * df_filter['height'])"
   ]
  },
  {
   "cell_type": "code",
   "execution_count": 76,
   "id": "9e919b07",
   "metadata": {},
   "outputs": [
    {
     "name": "stdout",
     "output_type": "stream",
     "text": [
      "ap_hi ap_lo 0.7062257727114598\n",
      "+------+---------+---------+---------+---------+---------+---------+\n",
      "|cardio|avg_ap_hi|min_ap_hi|max_ap_hi|avg_ap_lo|min_ap_lo|max_ap_lo|\n",
      "+------+---------+---------+---------+---------+---------+---------+\n",
      "|     0|   120.32|       90|      170|    79.15|       65|      105|\n",
      "|     1|   132.71|       90|      170|    84.31|       65|      105|\n",
      "+------+---------+---------+---------+---------+---------+---------+\n",
      "\n"
     ]
    }
   ],
   "source": [
    "# print(df_filter[['ap_hi', 'ap_lo']].corr())\n",
    "print('ap_hi', 'ap_lo', df_filter.corr('ap_hi', 'ap_lo'))\n",
    "# print(round(df_filter[['ap_hi','ap_lo', 'cardio']].groupby('cardio').describe().transpose(), 2))\n",
    "df_ap_agg = df_filter.groupBy(\"cardio\").agg(avg('ap_hi').alias(\"avg_ap_hi\"), min('ap_hi').alias(\"min_ap_hi\"), \n",
    "                         max('ap_hi').alias(\"max_ap_hi\"),avg('ap_lo').alias(\"avg_ap_lo\"), min('ap_lo').alias(\"min_ap_lo\"), \n",
    "                         max('ap_lo').alias(\"max_ap_lo\"))\n",
    "df_ap_agg.selectExpr('cardio','round(avg_ap_hi, 2) as avg_ap_hi','round(min_ap_hi, 2) as min_ap_hi','round(max_ap_hi, 2) as max_ap_hi',\n",
    "                 'round(avg_ap_lo, 2) as avg_ap_lo','round(min_ap_lo, 2) as min_ap_lo', 'round(max_ap_lo, 2) as max_ap_lo').show()"
   ]
  },
  {
   "cell_type": "code",
   "execution_count": 77,
   "id": "53a28832",
   "metadata": {},
   "outputs": [
    {
     "name": "stdout",
     "output_type": "stream",
     "text": [
      "+------+----------+----------+----------+----------+----------+----------+\n",
      "|cardio|avg_ap_gap|min_ap_gap|max_ap_gap|avg_ap_mul|min_ap_mul|max_ap_mul|\n",
      "+------+----------+----------+----------+----------+----------+----------+\n",
      "|     0|     41.17|       -10|       103|   9568.78|      5850|     17472|\n",
      "|     1|      48.4|        -5|       100|  11265.77|      5850|     17680|\n",
      "+------+----------+----------+----------+----------+----------+----------+\n",
      "\n"
     ]
    }
   ],
   "source": [
    "# construct new feature ap_gap and ap_mul\n",
    "df_filter = df_filter.withColumn('ap_gap', col('ap_hi') - col('ap_lo'))\n",
    "df_filter = df_filter.withColumn('ap_mul', col('ap_hi') * col('ap_lo'))\n",
    "\n",
    "df_ap_agg = df_filter.groupBy(\"cardio\").agg(avg('ap_gap').alias(\"avg_ap_gap\"), min('ap_gap').alias(\"min_ap_gap\"), \n",
    "                         max('ap_gap').alias(\"max_ap_gap\"),avg('ap_mul').alias(\"avg_ap_mul\"), min('ap_mul').alias(\"min_ap_mul\"), \n",
    "                         max('ap_mul').alias(\"max_ap_mul\"))\n",
    "df_ap_agg.selectExpr('cardio','round(avg_ap_gap, 2) as avg_ap_gap','round(min_ap_gap, 2) as min_ap_gap','round(max_ap_gap, 2) as max_ap_gap',\n",
    "                 'round(avg_ap_mul, 2) as avg_ap_mul','round(min_ap_mul, 2) as min_ap_mul', 'round(max_ap_mul, 2) as max_ap_mul').show()"
   ]
  },
  {
   "cell_type": "code",
   "execution_count": 78,
   "id": "e9588147",
   "metadata": {
    "scrolled": true
   },
   "outputs": [
    {
     "data": {
      "image/png": "[encoded data removed]",
      "text/plain": [
       "<Figure size 432x288 with 1 Axes>"
      ]
     },
     "metadata": {
      "needs_background": "light"
     },
     "output_type": "display_data"
    },
    {
     "data": {
      "image/png": "[encoded data removed]",
      "text/plain": [
       "<Figure size 440.875x360 with 1 Axes>"
      ]
     },
     "metadata": {
      "needs_background": "light"
     },
     "output_type": "display_data"
    },
    {
     "data": {
      "image/png": "[encoded data removed]",
      "text/plain": [
       "<Figure size 432x288 with 1 Axes>"
      ]
     },
     "metadata": {
      "needs_background": "light"
     },
     "output_type": "display_data"
    },
    {
     "data": {
      "image/png": "[encoded data removed]",
      "text/plain": [
       "<Figure size 440.875x360 with 1 Axes>"
      ]
     },
     "metadata": {
      "needs_background": "light"
     },
     "output_type": "display_data"
    }
   ],
   "source": [
    "df_filter_pd = df_filter.toPandas()\n",
    "\n",
    "# plot again\n",
    "# for prepocessing numerical data\n",
    "for c in ['ap_gap', 'ap_mul']:\n",
    "    sns.boxplot(data=df_filter_pd, x=c, y = 'cardio_label')\n",
    "    sns.displot(data=df_filter_pd, x=c, hue='cardio_label', kind=\"kde\")\n",
    "    plt.show()"
   ]
  },
  {
   "cell_type": "code",
   "execution_count": 79,
   "id": "7fe2b817",
   "metadata": {},
   "outputs": [
    {
     "name": "stdout",
     "output_type": "stream",
     "text": [
      "bmi ap_hi 0.24300173648927936\n",
      "+------+-------+-------+-------+---------+---------+---------+\n",
      "|cardio|avg_bmi|min_bmi|max_bmi|avg_ap_hi|min_ap_hi|max_ap_hi|\n",
      "+------+-------+-------+-------+---------+---------+---------+\n",
      "|     0|  26.31|  14.61|  49.73|   120.32|       90|      170|\n",
      "|     1|  27.94|  13.52|  50.89|   132.71|       90|      170|\n",
      "+------+-------+-------+-------+---------+---------+---------+\n",
      "\n"
     ]
    }
   ],
   "source": [
    "# print(df_filter[['bmi', 'ap_hi']].corr())\n",
    "print('bmi', 'ap_hi', df_filter.corr('bmi', 'ap_hi'))\n",
    "df_ap_agg = df_filter.groupBy(\"cardio\").agg(avg('bmi').alias(\"avg_bmi\"), min('bmi').alias(\"min_bmi\"), \n",
    "                         max('bmi').alias(\"max_bmi\"),avg('ap_hi').alias(\"avg_ap_hi\"), min('ap_hi').alias(\"min_ap_hi\"), \n",
    "                         max('ap_hi').alias(\"max_ap_hi\"))\n",
    "df_ap_agg.selectExpr('cardio','round(avg_bmi, 2) as avg_bmi','round(min_bmi, 2) as min_bmi','round(max_bmi, 2) as max_bmi',\n",
    "                 'round(avg_ap_hi, 2) as avg_ap_hi','round(min_ap_hi, 2) as min_ap_hi', 'round(max_ap_hi, 2) as max_ap_hi').show()"
   ]
  },
  {
   "cell_type": "code",
   "execution_count": 80,
   "id": "86782aae",
   "metadata": {},
   "outputs": [
    {
     "name": "stdout",
     "output_type": "stream",
     "text": [
      "+------+------------+------------+------------+\n",
      "|cardio|avg_bmi_aphi|min_bmi_aphi|max_bmi_aphi|\n",
      "+------+------------+------------+------------+\n",
      "|     0|     8950.25|     2825.93|    22140.52|\n",
      "|     1|    11193.14|     3112.99|    22993.03|\n",
      "+------+------------+------------+------------+\n",
      "\n"
     ]
    }
   ],
   "source": [
    "# consttruct new feature bmi_aphi\n",
    "\n",
    "df_filter = df_filter.withColumn('bmi_aphi', (col('bmi') - col('ap_hi'))**2)\n",
    "\n",
    "df_ap_agg = df_filter.groupBy(\"cardio\").agg(avg('bmi_aphi').alias(\"avg_bmi_aphi\"), min('bmi_aphi').alias(\"min_bmi_aphi\"), \n",
    "                         max('bmi_aphi').alias(\"max_bmi_aphi\"))\n",
    "df_ap_agg.selectExpr('cardio','round(avg_bmi_aphi, 2) as avg_bmi_aphi','round(min_bmi_aphi, 2) as min_bmi_aphi','round(max_bmi_aphi, 2) as max_bmi_aphi').show()"
   ]
  },
  {
   "cell_type": "code",
   "execution_count": 81,
   "id": "68ad2af7",
   "metadata": {},
   "outputs": [
    {
     "data": {
      "image/png": "[encoded data removed]",
      "text/plain": [
       "<Figure size 432x288 with 1 Axes>"
      ]
     },
     "metadata": {
      "needs_background": "light"
     },
     "output_type": "display_data"
    },
    {
     "data": {
      "image/png": "[encoded data removed]",
      "text/plain": [
       "<Figure size 440.875x360 with 1 Axes>"
      ]
     },
     "metadata": {
      "needs_background": "light"
     },
     "output_type": "display_data"
    }
   ],
   "source": [
    "df_filter_pd = df_filter.toPandas()\n",
    "\n",
    "# plot again\n",
    "# for prepocessing numerical data\n",
    "sns.boxplot(data=df_filter_pd, x='bmi_aphi', y = 'cardio_label')\n",
    "sns.displot(data=df_filter_pd, x='bmi_aphi', hue='cardio_label', kind=\"kde\")\n",
    "plt.show()"
   ]
  },
  {
   "cell_type": "markdown",
   "id": "455d02c1",
   "metadata": {},
   "source": [
    "# 3.4Data Integration"
   ]
  },
  {
   "cell_type": "code",
   "execution_count": 82,
   "id": "b72bd094",
   "metadata": {},
   "outputs": [],
   "source": [
    "# merge dataset\n",
    "df_creff = pd.read_excel('dataset/creff.xlsx')\n",
    "df_creff = spark.createDataFrame(df_creff)\n",
    "\n",
    "df_filter = df_filter.join(df_creff, df_filter.id == df_creff.id, 'inner')"
   ]
  },
  {
   "cell_type": "code",
   "execution_count": 83,
   "id": "cef3254c",
   "metadata": {},
   "outputs": [
    {
     "name": "stdout",
     "output_type": "stream",
     "text": [
      "+------------------+\n",
      "|             creff|\n",
      "+------------------+\n",
      "| 61.16424657534246|\n",
      "|  71.0906301369863|\n",
      "| 71.59586301369863|\n",
      "| 58.78997260273973|\n",
      "| 63.73430136986301|\n",
      "| 65.04213698630137|\n",
      "|  66.3536712328767|\n",
      "| 62.18112328767124|\n",
      "|58.436876712328775|\n",
      "| 60.49898630136987|\n",
      "| 60.10643835616439|\n",
      "| 54.33682191780822|\n",
      "| 58.85408219178082|\n",
      "|  72.6674794520548|\n",
      "| 75.29104109589042|\n",
      "|  56.6906301369863|\n",
      "| 61.92468493150685|\n",
      "|57.601232876712324|\n",
      "| 71.97139726027397|\n",
      "| 62.96597260273972|\n",
      "+------------------+\n",
      "only showing top 20 rows\n",
      "\n"
     ]
    },
    {
     "name": "stderr",
     "output_type": "stream",
     "text": [
      "\r",
      "[Stage 3605:>                                                       (0 + 2) / 2]\r",
      "\r",
      "                                                                                \r"
     ]
    }
   ],
   "source": [
    "df_filter.select('creff').show()"
   ]
  },
  {
   "cell_type": "code",
   "execution_count": 84,
   "id": "7fc2519f",
   "metadata": {},
   "outputs": [
    {
     "name": "stderr",
     "output_type": "stream",
     "text": [
      "\r",
      "[Stage 3611:>                                                       (0 + 2) / 2]\r",
      "\r",
      "                                                                                \r"
     ]
    },
    {
     "data": {
      "image/png": "[encoded data removed]",
      "text/plain": [
       "<Figure size 432x288 with 1 Axes>"
      ]
     },
     "metadata": {
      "needs_background": "light"
     },
     "output_type": "display_data"
    },
    {
     "data": {
      "image/png": "[encoded data removed]",
      "text/plain": [
       "<Figure size 440.875x360 with 1 Axes>"
      ]
     },
     "metadata": {
      "needs_background": "light"
     },
     "output_type": "display_data"
    }
   ],
   "source": [
    "# plot\n",
    "df_filter_pd = df_filter.toPandas()\n",
    "sns.boxplot(data=df_filter_pd, x='creff', y = 'cardio_label')\n",
    "sns.displot(data=df_filter_pd, x='creff', hue='cardio_label', kind=\"kde\")\n",
    "plt.show()"
   ]
  },
  {
   "cell_type": "code",
   "execution_count": 85,
   "id": "aab7ca24",
   "metadata": {},
   "outputs": [
    {
     "data": {
      "image/png": "[encoded data removed]",
      "text/plain": [
       "<Figure size 432x288 with 1 Axes>"
      ]
     },
     "metadata": {
      "needs_background": "light"
     },
     "output_type": "display_data"
    },
    {
     "data": {
      "image/png": "[encoded data removed]",
      "text/plain": [
       "<Figure size 440.875x360 with 1 Axes>"
      ]
     },
     "metadata": {
      "needs_background": "light"
     },
     "output_type": "display_data"
    }
   ],
   "source": [
    "# deal with outliers\n",
    "lower_fence, upper_fence = get_iqr_fence(df_filter.select('creff').collect())\n",
    "df_filter = df_filter.filter( (df_filter['creff'] >= lower_fence) & (df_filter['creff'] <= upper_fence) )\n",
    "\n",
    "# plot again\n",
    "df_filter_pd = df_filter.toPandas()\n",
    "sns.boxplot(data=df_filter_pd, x='creff', y = 'cardio_label')\n",
    "sns.displot(data=df_filter_pd, x='creff', hue='cardio_label', kind=\"kde\")\n",
    "plt.show()"
   ]
  },
  {
   "cell_type": "markdown",
   "id": "9254b5b1",
   "metadata": {},
   "source": [
    "# 4.Data Transformation"
   ]
  },
  {
   "cell_type": "code",
   "execution_count": 86,
   "id": "a347bd40",
   "metadata": {},
   "outputs": [],
   "source": [
    "from pyspark.ml import Pipeline\n",
    "from pyspark.ml.classification import (RandomForestClassifier, GBTClassifier, DecisionTreeClassifier)\n",
    "from pyspark.ml.evaluation import MulticlassClassificationEvaluator"
   ]
  },
  {
   "cell_type": "code",
   "execution_count": 87,
   "id": "d319440d",
   "metadata": {},
   "outputs": [
    {
     "name": "stdout",
     "output_type": "stream",
     "text": [
      "root\n",
      " |-- id: long (nullable = true)\n",
      " |-- age: double (nullable = true)\n",
      " |-- gender: string (nullable = true)\n",
      " |-- height: double (nullable = false)\n",
      " |-- weight: double (nullable = true)\n",
      " |-- ap_hi: long (nullable = true)\n",
      " |-- ap_lo: long (nullable = true)\n",
      " |-- cholesterol: long (nullable = true)\n",
      " |-- gluc: long (nullable = true)\n",
      " |-- smoke: long (nullable = true)\n",
      " |-- alco: long (nullable = true)\n",
      " |-- active: long (nullable = true)\n",
      " |-- cardio: long (nullable = true)\n",
      " |-- cardio_label: string (nullable = true)\n",
      " |-- age_refeature: string (nullable = true)\n",
      " |-- bmi: double (nullable = true)\n",
      " |-- ap_gap: long (nullable = true)\n",
      " |-- ap_mul: long (nullable = true)\n",
      " |-- bmi_aphi: double (nullable = true)\n",
      " |-- id: long (nullable = true)\n",
      " |-- creff: double (nullable = true)\n",
      "\n"
     ]
    }
   ],
   "source": [
    "df_filter.printSchema()"
   ]
  },
  {
   "cell_type": "code",
   "execution_count": 88,
   "id": "a4affa0e",
   "metadata": {},
   "outputs": [],
   "source": [
    "from pyspark.ml.feature import StringIndexer, OneHotEncoder, StandardScaler\n",
    "# Convert the categorical labels in the 'Species' column to numerical values\n",
    "label_indexer = StringIndexer(inputCol=\"cardio\", outputCol=\"label\")\n",
    "data = label_indexer.fit(df_filter).transform(df_filter)\n",
    "\n",
    "data = data.withColumn('gender', data.gender.cast('int'))\n",
    "\n",
    "# Assemble the feature columns into a single vector column\n",
    "assembler = VectorAssembler(inputCols=['age', 'height', 'weight', 'ap_hi', \n",
    "                                       'ap_lo', 'bmi', 'creff', \n",
    "                                       'cholesterol', 'gluc', 'smoke', 'alco', 'active', \n",
    "                                       'gender', 'ap_gap', 'ap_mul', 'bmi_aphi'], outputCol=\"features\",handleInvalid=\"skip\")\n",
    "data = assembler.transform(data)\n"
   ]
  },
  {
   "cell_type": "code",
   "execution_count": 95,
   "id": "3e52cbef",
   "metadata": {},
   "outputs": [
    {
     "name": "stderr",
     "output_type": "stream",
     "text": [
      "                                                                                \r"
     ]
    },
    {
     "name": "stdout",
     "output_type": "stream",
     "text": [
      "[('age', 0.10529286733858252), ('height', 0.0), ('weight', 0.0), ('ap_hi', 0.8013787807396513), ('ap_lo', 0.0), ('bmi', 0.0034905864208185093), ('creff', 0.0), ('cholesterol', 0.07730044348334365), ('gluc', 0.005458943346115292), ('smoke', 0.0006061722232781559), ('alco', 0.0), ('active', 0.0017924661763522834), ('gender', 0.0), ('ap_gap', 0.004215378777602431), ('ap_mul', 0.0), ('bmi_aphi', 0.0004643614942558809)]\n"
     ]
    }
   ],
   "source": [
    "dt_classifier = DecisionTreeClassifier(labelCol=\"label\", featuresCol=\"features\")\n",
    "model = dt_classifier.fit(data)\n",
    "print(list(zip(assembler.getInputCols(), model.featureImportances)))"
   ]
  },
  {
   "cell_type": "code",
   "execution_count": 101,
   "id": "b7053d70",
   "metadata": {},
   "outputs": [
    {
     "data": {
      "text/html": [
       "<div>\n",
       "<style scoped>\n",
       "    .dataframe tbody tr th:only-of-type {\n",
       "        vertical-align: middle;\n",
       "    }\n",
       "\n",
       "    .dataframe tbody tr th {\n",
       "        vertical-align: top;\n",
       "    }\n",
       "\n",
       "    .dataframe thead th {\n",
       "        text-align: right;\n",
       "    }\n",
       "</style>\n",
       "<table border=\"1\" class=\"dataframe\">\n",
       "  <thead>\n",
       "    <tr style=\"text-align: right;\">\n",
       "      <th></th>\n",
       "      <th>col</th>\n",
       "      <th>importance</th>\n",
       "    </tr>\n",
       "  </thead>\n",
       "  <tbody>\n",
       "    <tr>\n",
       "      <th>3</th>\n",
       "      <td>ap_hi</td>\n",
       "      <td>0.801379</td>\n",
       "    </tr>\n",
       "    <tr>\n",
       "      <th>0</th>\n",
       "      <td>age</td>\n",
       "      <td>0.105293</td>\n",
       "    </tr>\n",
       "    <tr>\n",
       "      <th>7</th>\n",
       "      <td>cholesterol</td>\n",
       "      <td>0.077300</td>\n",
       "    </tr>\n",
       "    <tr>\n",
       "      <th>8</th>\n",
       "      <td>gluc</td>\n",
       "      <td>0.005459</td>\n",
       "    </tr>\n",
       "    <tr>\n",
       "      <th>13</th>\n",
       "      <td>ap_gap</td>\n",
       "      <td>0.004215</td>\n",
       "    </tr>\n",
       "    <tr>\n",
       "      <th>5</th>\n",
       "      <td>bmi</td>\n",
       "      <td>0.003491</td>\n",
       "    </tr>\n",
       "    <tr>\n",
       "      <th>11</th>\n",
       "      <td>active</td>\n",
       "      <td>0.001792</td>\n",
       "    </tr>\n",
       "    <tr>\n",
       "      <th>9</th>\n",
       "      <td>smoke</td>\n",
       "      <td>0.000606</td>\n",
       "    </tr>\n",
       "    <tr>\n",
       "      <th>15</th>\n",
       "      <td>bmi_aphi</td>\n",
       "      <td>0.000464</td>\n",
       "    </tr>\n",
       "    <tr>\n",
       "      <th>1</th>\n",
       "      <td>height</td>\n",
       "      <td>0.000000</td>\n",
       "    </tr>\n",
       "    <tr>\n",
       "      <th>2</th>\n",
       "      <td>weight</td>\n",
       "      <td>0.000000</td>\n",
       "    </tr>\n",
       "    <tr>\n",
       "      <th>4</th>\n",
       "      <td>ap_lo</td>\n",
       "      <td>0.000000</td>\n",
       "    </tr>\n",
       "    <tr>\n",
       "      <th>6</th>\n",
       "      <td>creff</td>\n",
       "      <td>0.000000</td>\n",
       "    </tr>\n",
       "    <tr>\n",
       "      <th>10</th>\n",
       "      <td>alco</td>\n",
       "      <td>0.000000</td>\n",
       "    </tr>\n",
       "    <tr>\n",
       "      <th>12</th>\n",
       "      <td>gender</td>\n",
       "      <td>0.000000</td>\n",
       "    </tr>\n",
       "    <tr>\n",
       "      <th>14</th>\n",
       "      <td>ap_mul</td>\n",
       "      <td>0.000000</td>\n",
       "    </tr>\n",
       "  </tbody>\n",
       "</table>\n",
       "</div>"
      ],
      "text/plain": [
       "            col  importance\n",
       "3         ap_hi    0.801379\n",
       "0           age    0.105293\n",
       "7   cholesterol    0.077300\n",
       "8          gluc    0.005459\n",
       "13       ap_gap    0.004215\n",
       "5           bmi    0.003491\n",
       "11       active    0.001792\n",
       "9         smoke    0.000606\n",
       "15     bmi_aphi    0.000464\n",
       "1        height    0.000000\n",
       "2        weight    0.000000\n",
       "4         ap_lo    0.000000\n",
       "6         creff    0.000000\n",
       "10         alco    0.000000\n",
       "12       gender    0.000000\n",
       "14       ap_mul    0.000000"
      ]
     },
     "execution_count": 101,
     "metadata": {},
     "output_type": "execute_result"
    }
   ],
   "source": [
    "dt_important_df = pd.DataFrame({'col': assembler.getInputCols(), 'importance': list(model.featureImportances)})\n",
    "dt_important_df.sort_values(by = 'importance', ascending = False, inplace = True)\n",
    "dt_important_df.head(20)"
   ]
  },
  {
   "cell_type": "markdown",
   "id": "7cdbdcfc",
   "metadata": {},
   "source": [
    "# 4.2 Data Projection"
   ]
  },
  {
   "cell_type": "code",
   "execution_count": 90,
   "id": "095e15db",
   "metadata": {},
   "outputs": [],
   "source": [
    "# standardization\n",
    "\n",
    "# Define StandardScaler\n",
    "scaler = StandardScaler(inputCol=\"features\", outputCol=\"scaledFeatures\", withStd=True, withMean=True)\n",
    "\n",
    "# Compute summary statistics and generate StandardScalerModel\n",
    "scalerModel = scaler.fit(data)\n",
    "\n",
    "# Normalize each feature to have unit standard deviation and zero mean\n",
    "scaledData = scalerModel.transform(data)"
   ]
  },
  {
   "cell_type": "code",
   "execution_count": 91,
   "id": "44db6dd2",
   "metadata": {},
   "outputs": [
    {
     "data": {
      "image/png": "[encoded data removed]",
      "text/plain": [
       "<Figure size 432x288 with 1 Axes>"
      ]
     },
     "metadata": {
      "needs_background": "light"
     },
     "output_type": "display_data"
    },
    {
     "data": {
      "image/png": "[encoded data removed]",
      "text/plain": [
       "<Figure size 440.875x360 with 1 Axes>"
      ]
     },
     "metadata": {
      "needs_background": "light"
     },
     "output_type": "display_data"
    },
    {
     "data": {
      "image/png": "[encoded data removed]",
      "text/plain": [
       "<Figure size 432x288 with 1 Axes>"
      ]
     },
     "metadata": {
      "needs_background": "light"
     },
     "output_type": "display_data"
    },
    {
     "data": {
      "image/png": "[encoded data removed]",
      "text/plain": [
       "<Figure size 440.875x360 with 1 Axes>"
      ]
     },
     "metadata": {
      "needs_background": "light"
     },
     "output_type": "display_data"
    },
    {
     "data": {
      "image/png": "[encoded data removed]",
      "text/plain": [
       "<Figure size 432x288 with 1 Axes>"
      ]
     },
     "metadata": {
      "needs_background": "light"
     },
     "output_type": "display_data"
    },
    {
     "data": {
      "image/png": "[encoded data removed]",
      "text/plain": [
       "<Figure size 440.875x360 with 1 Axes>"
      ]
     },
     "metadata": {
      "needs_background": "light"
     },
     "output_type": "display_data"
    },
    {
     "data": {
      "image/png": "[encoded data removed]",
      "text/plain": [
       "<Figure size 432x288 with 1 Axes>"
      ]
     },
     "metadata": {
      "needs_background": "light"
     },
     "output_type": "display_data"
    },
    {
     "data": {
      "image/png": "[encoded data removed]",
      "text/plain": [
       "<Figure size 440.875x360 with 1 Axes>"
      ]
     },
     "metadata": {
      "needs_background": "light"
     },
     "output_type": "display_data"
    }
   ],
   "source": [
    "df_filter_pd = scaledData.toPandas()\n",
    "for c in ['weight', 'bmi', 'creff', 'age']:\n",
    "    sns.boxplot(data=df_filter_pd, x=c, y = 'cardio_label')\n",
    "    sns.displot(data=df_filter_pd, x=c, hue='cardio_label', kind=\"kde\")\n",
    "    plt.show()"
   ]
  },
  {
   "cell_type": "code",
   "execution_count": 92,
   "id": "db1e1b7c",
   "metadata": {},
   "outputs": [
    {
     "name": "stderr",
     "output_type": "stream",
     "text": [
      "\r",
      "[Stage 3692:>                                                       (0 + 2) / 2]\r",
      "\r",
      "                                                                                \r"
     ]
    },
    {
     "name": "stdout",
     "output_type": "stream",
     "text": [
      "boostData\n"
     ]
    },
    {
     "name": "stderr",
     "output_type": "stream",
     "text": [
      "                                                                                \r"
     ]
    },
    {
     "name": "stdout",
     "output_type": "stream",
     "text": [
      "+------+-----+\n",
      "|cardio|count|\n",
      "+------+-----+\n",
      "|     0|31535|\n",
      "|     1|31421|\n",
      "+------+-----+\n",
      "\n",
      "scaledData\n",
      "+------+-----+\n",
      "|cardio|count|\n",
      "+------+-----+\n",
      "|     0|31535|\n",
      "|     1|27313|\n",
      "+------+-----+\n",
      "\n"
     ]
    }
   ],
   "source": [
    "# Boost the imbalance of target label\n",
    "# then deal with the imbalance of target\n",
    "from pyspark.sql.functions import explode, array\n",
    "#spliting df by classes\n",
    "major_df = scaledData.filter(col('cardio') == 0)\n",
    "minor_df = scaledData.filter(col('cardio') == 1)\n",
    "#ratio of number observation major vs minor class\n",
    "r = int(major_df.count()/minor_df.count())\n",
    " \n",
    "# duplicate the minority rows\n",
    "boostData = minor_df.withColumn(\"dummy\", explode(array([lit(x) for x in range(r)]))).drop('dummy').sample(True, 0.15, 42)\n",
    "\n",
    "boostData = scaledData.unionAll(boostData)\n",
    "print('boostData')\n",
    "boostData.groupBy('cardio').count().show()\n",
    "print('scaledData')\n",
    "scaledData.groupBy('cardio').count().show()"
   ]
  },
  {
   "cell_type": "markdown",
   "id": "16a752ec",
   "metadata": {},
   "source": [
    "# 6. Data-Mining Algorithms Selection"
   ]
  },
  {
   "cell_type": "code",
   "execution_count": 93,
   "id": "eb73f732",
   "metadata": {},
   "outputs": [],
   "source": [
    "train_data, test_data = boostData.randomSplit([.9,.1])"
   ]
  },
  {
   "cell_type": "markdown",
   "id": "19d177a9",
   "metadata": {},
   "source": [
    "## 6.1.1 Data Mining Objective: CART algorithm"
   ]
  },
  {
   "cell_type": "code",
   "execution_count": 94,
   "id": "cc5b29f6",
   "metadata": {},
   "outputs": [
    {
     "name": "stderr",
     "output_type": "stream",
     "text": [
      "                                                                                \r"
     ]
    },
    {
     "name": "stdout",
     "output_type": "stream",
     "text": [
      "DTC\n"
     ]
    },
    {
     "name": "stderr",
     "output_type": "stream",
     "text": [
      "                                                                                \r"
     ]
    },
    {
     "name": "stdout",
     "output_type": "stream",
     "text": [
      "ACCURACY: 0.7181 F1: 0.7162 auc: 0.5775\n"
     ]
    }
   ],
   "source": [
    "from pyspark.ml.evaluation import BinaryClassificationEvaluator, MulticlassClassificationEvaluator\n",
    "\n",
    "evaluatorMulti = MulticlassClassificationEvaluator(labelCol=\"label\", predictionCol=\"prediction\")\n",
    "evaluator = BinaryClassificationEvaluator(labelCol=\"label\")\n",
    "\n",
    "dtc = DecisionTreeClassifier(labelCol='label',featuresCol='scaledFeatures')\n",
    "dtc_model = dtc.fit(train_data)\n",
    "dtc_predictions = dtc_model.transform(test_data)\n",
    "\n",
    "print(\"DTC\")\n",
    "predictionAndTarget = dtc_model.transform(test_data).select(\"label\", \"prediction\")\n",
    "# Get metrics\n",
    "acc = evaluatorMulti.evaluate(predictionAndTarget, {evaluatorMulti.metricName: \"accuracy\"})\n",
    "f1 = evaluatorMulti.evaluate(predictionAndTarget, {evaluatorMulti.metricName: \"f1\"})\n",
    "weightedPrecision = evaluatorMulti.evaluate(predictionAndTarget, {evaluatorMulti.metricName: \"weightedPrecision\"})\n",
    "weightedRecall = evaluatorMulti.evaluate(predictionAndTarget, {evaluatorMulti.metricName: \"weightedRecall\"})\n",
    "auc = evaluator.evaluate(dtc_predictions)\n",
    "print('ACCURACY: %.4f'%acc, 'F1: %.4f'%f1, 'auc: %.4f'%auc)"
   ]
  },
  {
   "cell_type": "markdown",
   "id": "0af19245",
   "metadata": {},
   "source": [
    "## 6.1.2 Data Mining Objective: Logistic Regression algorithm"
   ]
  },
  {
   "cell_type": "code",
   "execution_count": 52,
   "id": "fb69aa67",
   "metadata": {},
   "outputs": [
    {
     "name": "stderr",
     "output_type": "stream",
     "text": [
      "                                                                                \r"
     ]
    },
    {
     "name": "stdout",
     "output_type": "stream",
     "text": [
      "LRC\n"
     ]
    },
    {
     "name": "stderr",
     "output_type": "stream",
     "text": [
      "                                                                                \r"
     ]
    },
    {
     "name": "stdout",
     "output_type": "stream",
     "text": [
      "ACCURACY: 0.7197 F1: 0.7189 auc: 0.7849\n"
     ]
    }
   ],
   "source": [
    "from pyspark.ml.evaluation import BinaryClassificationEvaluator, MulticlassClassificationEvaluator\n",
    "\n",
    "evaluatorMulti = MulticlassClassificationEvaluator(labelCol=\"label\", predictionCol=\"prediction\")\n",
    "evaluator = BinaryClassificationEvaluator(labelCol=\"label\")\n",
    "\n",
    "lrc = LogisticRegression(labelCol='label',featuresCol='scaledFeatures')\n",
    "lrc_model = lrc.fit(train_data)\n",
    "lrc_predictions = lrc_model.transform(test_data)\n",
    "\n",
    "print(\"LRC\")\n",
    "predictionAndTarget = lrc_model.transform(test_data).select(\"label\", \"prediction\")\n",
    "# Get metrics\n",
    "acc = evaluatorMulti.evaluate(predictionAndTarget, {evaluatorMulti.metricName: \"accuracy\"})\n",
    "f1 = evaluatorMulti.evaluate(predictionAndTarget, {evaluatorMulti.metricName: \"f1\"})\n",
    "weightedPrecision = evaluatorMulti.evaluate(predictionAndTarget, {evaluatorMulti.metricName: \"weightedPrecision\"})\n",
    "weightedRecall = evaluatorMulti.evaluate(predictionAndTarget, {evaluatorMulti.metricName: \"weightedRecall\"})\n",
    "auc = evaluator.evaluate(lrc_predictions)\n",
    "print('ACCURACY: %.4f'%acc, 'F1: %.4f'%f1, 'auc: %.4f'%auc)"
   ]
  },
  {
   "cell_type": "markdown",
   "id": "97f28c50",
   "metadata": {},
   "source": [
    "## 6.1.3 Data Mining Objective: Random Forest"
   ]
  },
  {
   "cell_type": "code",
   "execution_count": 53,
   "id": "7f6a57ff",
   "metadata": {},
   "outputs": [
    {
     "name": "stderr",
     "output_type": "stream",
     "text": [
      "                                                                                \r"
     ]
    },
    {
     "name": "stdout",
     "output_type": "stream",
     "text": [
      "RFC\n"
     ]
    },
    {
     "name": "stderr",
     "output_type": "stream",
     "text": [
      "                                                                                \r"
     ]
    },
    {
     "name": "stdout",
     "output_type": "stream",
     "text": [
      "ACCURACY: 0.7167 F1: 0.7155 auc: 0.7645\n"
     ]
    }
   ],
   "source": [
    "from pyspark.ml.evaluation import BinaryClassificationEvaluator, MulticlassClassificationEvaluator\n",
    "\n",
    "evaluatorMulti = MulticlassClassificationEvaluator(labelCol=\"label\", predictionCol=\"prediction\")\n",
    "evaluator = BinaryClassificationEvaluator(labelCol=\"label\")\n",
    "\n",
    "rfc = RandomForestClassifier(labelCol='label',featuresCol='scaledFeatures')\n",
    "rfc_model = rfc.fit(train_data)\n",
    "rfc_predictions = rfc_model.transform(test_data)\n",
    "\n",
    "print(\"RFC\")\n",
    "predictionAndTarget = rfc_model.transform(test_data).select(\"label\", \"prediction\")\n",
    "# Get metrics\n",
    "acc = evaluatorMulti.evaluate(predictionAndTarget, {evaluatorMulti.metricName: \"accuracy\"})\n",
    "f1 = evaluatorMulti.evaluate(predictionAndTarget, {evaluatorMulti.metricName: \"f1\"})\n",
    "weightedPrecision = evaluatorMulti.evaluate(predictionAndTarget, {evaluatorMulti.metricName: \"weightedPrecision\"})\n",
    "weightedRecall = evaluatorMulti.evaluate(predictionAndTarget, {evaluatorMulti.metricName: \"weightedRecall\"})\n",
    "auc = evaluator.evaluate(rfc_predictions)\n",
    "print('ACCURACY: %.4f'%acc, 'F1: %.4f'%f1, 'auc: %.4f'%auc)"
   ]
  },
  {
   "cell_type": "markdown",
   "id": "8a6893ba",
   "metadata": {},
   "source": [
    "## 6.1.4 Data Mining Objective: XGBoost"
   ]
  },
  {
   "cell_type": "code",
   "execution_count": 54,
   "id": "08680d8c",
   "metadata": {},
   "outputs": [
    {
     "name": "stderr",
     "output_type": "stream",
     "text": [
      "2023-10-12 08:04:52,534 INFO XGBoost-PySpark: _fit Running xgboost-2.0.0 on 1 workers with\n",
      "\tbooster params: {'objective': 'binary:logistic', 'device': 'cpu', 'nthread': 1}\n",
      "\ttrain_call_kwargs_params: {'verbose_eval': True, 'num_boost_round': 100}\n",
      "\tdmatrix_kwargs: {'nthread': 1, 'missing': nan}\n",
      "[08:04:57] task 0 got new rank 0                                    (0 + 1) / 1]\n",
      "2023-10-12 08:04:58,794 INFO XGBoost-PySpark: _fit Finished xgboost training!   \n"
     ]
    },
    {
     "name": "stdout",
     "output_type": "stream",
     "text": [
      "XGC\n"
     ]
    },
    {
     "name": "stderr",
     "output_type": "stream",
     "text": [
      "INFO:XGBoost-PySpark:Do the inference on the CPUs                               \n",
      "INFO:XGBoost-PySpark:Do the inference on the CPUs\n",
      "INFO:XGBoost-PySpark:Do the inference on the CPUs                   (2 + 2) / 4]\n",
      "2023-10-12 08:05:10,735 INFO XGBoost-PySpark: predict_udf Do the inference on the CPUs\n",
      "                                                                                \r"
     ]
    },
    {
     "name": "stdout",
     "output_type": "stream",
     "text": [
      "ACCURACY: 0.7167 F1: 0.7155 auc: 0.7935\n"
     ]
    }
   ],
   "source": [
    "from pyspark.ml.evaluation import BinaryClassificationEvaluator, MulticlassClassificationEvaluator\n",
    "\n",
    "evaluatorMulti = MulticlassClassificationEvaluator(labelCol=\"label\", predictionCol=\"prediction\")\n",
    "evaluator = BinaryClassificationEvaluator(labelCol=\"label\")\n",
    "\n",
    "xgc = SparkXGBClassifier(features_col=\"scaledFeatures\", label_col=\"label\",)\n",
    "xgc_model = xgc.fit(train_data)\n",
    "xgc_predictions = xgc_model.transform(test_data)\n",
    "\n",
    "print(\"XGC\")\n",
    "predictionAndTarget = rfc_model.transform(test_data).select(\"label\", \"prediction\")\n",
    "# Get metrics\n",
    "acc = evaluatorMulti.evaluate(predictionAndTarget, {evaluatorMulti.metricName: \"accuracy\"})\n",
    "f1 = evaluatorMulti.evaluate(predictionAndTarget, {evaluatorMulti.metricName: \"f1\"})\n",
    "weightedPrecision = evaluatorMulti.evaluate(predictionAndTarget, {evaluatorMulti.metricName: \"weightedPrecision\"})\n",
    "weightedRecall = evaluatorMulti.evaluate(predictionAndTarget, {evaluatorMulti.metricName: \"weightedRecall\"})\n",
    "auc = evaluator.evaluate(xgc_predictions)\n",
    "print('ACCURACY: %.4f'%acc, 'F1: %.4f'%f1, 'auc: %.4f'%auc)"
   ]
  },
  {
   "cell_type": "code",
   "execution_count": 55,
   "id": "9aefcaf8",
   "metadata": {},
   "outputs": [
    {
     "name": "stdout",
     "output_type": "stream",
     "text": [
      "col: height importance: 444.0\n",
      "col: weight importance: 604.0\n",
      "col: ap_hi importance: 122.0\n",
      "col: ap_lo importance: 153.0\n",
      "col: bmi importance: 543.0\n",
      "col: creff importance: 922.0\n",
      "col: cholesterol importance: 179.0\n",
      "col: gluc importance: 134.0\n",
      "col: smoke importance: 84.0\n",
      "col: alco importance: 46.0\n",
      "col: active importance: 110.0\n",
      "col: gender importance: 74.0\n",
      "col: ap_gap importance: 207.0\n",
      "col: ap_mul importance: 247.0\n",
      "col: bmi_aphi importance: 798.0\n"
     ]
    },
    {
     "data": {
      "image/png": "[encoded data removed]",
      "text/plain": [
       "<Figure size 432x288 with 1 Axes>"
      ]
     },
     "metadata": {
      "needs_background": "light"
     },
     "output_type": "display_data"
    }
   ],
   "source": [
    "col_list = []\n",
    "importance_list = []\n",
    "for c, v in zip(assembler.getInputCols(), xgc_model.get_feature_importances().values()):\n",
    "    col_list.append(c)\n",
    "    importance_list.append(v)\n",
    "    print('col: %s'%c, 'importance: %.1f'%v)\n",
    "\n",
    "plt.figure()\n",
    "plt.title(\"Feature importances\")\n",
    "plt.barh(col_list, importance_list, color=\"b\")\n",
    "plt.show()"
   ]
  },
  {
   "cell_type": "markdown",
   "id": "a232323c",
   "metadata": {},
   "source": [
    "# 6.3 Build/Select Model with Algorithm/Model Parameters"
   ]
  },
  {
   "cell_type": "code",
   "execution_count": 42,
   "id": "9d35d4ad",
   "metadata": {},
   "outputs": [
    {
     "name": "stderr",
     "output_type": "stream",
     "text": [
      "2023-10-12 07:11:31,345 INFO XGBoost-PySpark: _fit Running xgboost-2.0.0 on 1 workers with\n",
      "\tbooster params: {'objective': 'binary:logistic', 'device': 'cpu', 'max_depth': 5, 'nthread': 1}\n",
      "\ttrain_call_kwargs_params: {'verbose_eval': True, 'num_boost_round': 100}\n",
      "\tdmatrix_kwargs: {'nthread': 1, 'missing': nan}\n",
      "[07:11:35] task 0 got new rank 0                                    (0 + 1) / 1]\n",
      "2023-10-12 07:11:36,787 INFO XGBoost-PySpark: _fit Finished xgboost training!   \n"
     ]
    },
    {
     "name": "stdout",
     "output_type": "stream",
     "text": [
      "XGC\n"
     ]
    },
    {
     "name": "stderr",
     "output_type": "stream",
     "text": [
      "2023-10-12 07:11:39,330 INFO XGBoost-PySpark: predict_udf Do the inference on the CPUs\n",
      "INFO:XGBoost-PySpark:Do the inference on the CPUs\n",
      "2023-10-12 07:11:39,752 INFO XGBoost-PySpark: predict_udf Do the inference on the CPUs\n",
      "INFO:XGBoost-PySpark:Do the inference on the CPUs                   (2 + 2) / 4]\n",
      "INFO:XGBoost-PySpark:Do the inference on the CPUs                               \n",
      "2023-10-12 07:11:42,112 INFO XGBoost-PySpark: predict_udf Do the inference on the CPUs\n",
      "2023-10-12 07:11:42,634 INFO XGBoost-PySpark: predict_udf Do the inference on the CPUs\n",
      "INFO:XGBoost-PySpark:Do the inference on the CPUs\n",
      "2023-10-12 07:11:44,684 INFO XGBoost-PySpark: predict_udf Do the inference on the CPUs\n",
      "INFO:XGBoost-PySpark:Do the inference on the CPUs\n",
      "INFO:XGBoost-PySpark:Do the inference on the CPUs\n",
      "2023-10-12 07:11:45,131 INFO XGBoost-PySpark: predict_udf Do the inference on the CPUs\n",
      "2023-10-12 07:11:47,314 INFO XGBoost-PySpark: predict_udf Do the inference on the CPUs\n",
      "INFO:XGBoost-PySpark:Do the inference on the CPUs\n",
      "2023-10-12 07:11:47,615 INFO XGBoost-PySpark: predict_udf Do the inference on the CPUs\n",
      "INFO:XGBoost-PySpark:Do the inference on the CPUs\n",
      "INFO:XGBoost-PySpark:Do the inference on the CPUs                               \n",
      "2023-10-12 07:11:50,160 INFO XGBoost-PySpark: predict_udf Do the inference on the CPUs\n",
      "INFO:XGBoost-PySpark:Do the inference on the CPUs                   (2 + 2) / 4]\n",
      "2023-10-12 07:11:50,602 INFO XGBoost-PySpark: predict_udf Do the inference on the CPUs\n",
      "                                                                                \r"
     ]
    },
    {
     "name": "stdout",
     "output_type": "stream",
     "text": [
      "ACCURACY: 0.7264 F1: 0.7256 auc: 0.7935\n"
     ]
    }
   ],
   "source": [
    "from pyspark.ml.evaluation import BinaryClassificationEvaluator, MulticlassClassificationEvaluator\n",
    "\n",
    "evaluatorMulti = MulticlassClassificationEvaluator(labelCol=\"label\", predictionCol=\"prediction\")\n",
    "evaluator = BinaryClassificationEvaluator(labelCol=\"label\")\n",
    "\n",
    "xgc = SparkXGBClassifier(features_col=\"scaledFeatures\",\n",
    "                         label_col=\"label\",max_depth = 5, n_estimators = 100)\n",
    "xgc_model = xgc.fit(train_data)\n",
    "xgc_predictions = xgc_model.transform(test_data)\n",
    "\n",
    "print(\"XGC\")\n",
    "predictionAndTarget = xgc_model.transform(test_data).select(\"label\", \"prediction\")\n",
    "# Get metrics\n",
    "acc = evaluatorMulti.evaluate(predictionAndTarget, {evaluatorMulti.metricName: \"accuracy\"})\n",
    "f1 = evaluatorMulti.evaluate(predictionAndTarget, {evaluatorMulti.metricName: \"f1\"})\n",
    "weightedPrecision = evaluatorMulti.evaluate(predictionAndTarget, {evaluatorMulti.metricName: \"weightedPrecision\"})\n",
    "weightedRecall = evaluatorMulti.evaluate(predictionAndTarget, {evaluatorMulti.metricName: \"weightedRecall\"})\n",
    "auc = evaluator.evaluate(xgc_predictions)\n",
    "print('ACCURACY: %.4f'%acc, 'F1: %.4f'%f1, 'auc: %.4f'%auc)"
   ]
  },
  {
   "cell_type": "markdown",
   "id": "6c073f0c",
   "metadata": {},
   "source": [
    "# 7.Data Mining"
   ]
  },
  {
   "cell_type": "markdown",
   "id": "deda873d",
   "metadata": {},
   "source": [
    "\n",
    "## 7.1 Creating Logical Tests"
   ]
  },
  {
   "cell_type": "code",
   "execution_count": 43,
   "id": "4b18d670",
   "metadata": {},
   "outputs": [
    {
     "name": "stderr",
     "output_type": "stream",
     "text": [
      "2023-10-12 07:11:55,295 INFO XGBoost-PySpark: _fit Running xgboost-2.0.0 on 1 workers with\n",
      "\tbooster params: {'objective': 'binary:logistic', 'device': 'cpu', 'max_depth': 5, 'nthread': 1}\n",
      "\ttrain_call_kwargs_params: {'verbose_eval': True, 'num_boost_round': 20}\n",
      "\tdmatrix_kwargs: {'nthread': 1, 'missing': nan}\n",
      "[07:11:58] task 0 got new rank 0                                    (0 + 1) / 1]\n",
      "2023-10-12 07:12:00,156 INFO XGBoost-PySpark: _fit Finished xgboost training!   \n"
     ]
    },
    {
     "name": "stdout",
     "output_type": "stream",
     "text": [
      "XGC\n"
     ]
    },
    {
     "name": "stderr",
     "output_type": "stream",
     "text": [
      "INFO:XGBoost-PySpark:Do the inference on the CPUs                               \n",
      "2023-10-12 07:12:02,825 INFO XGBoost-PySpark: predict_udf Do the inference on the CPUs\n",
      "2023-10-12 07:12:03,248 INFO XGBoost-PySpark: predict_udf Do the inference on the CPUs\n",
      "INFO:XGBoost-PySpark:Do the inference on the CPUs\n",
      "INFO:XGBoost-PySpark:Do the inference on the CPUs                               \n",
      "2023-10-12 07:12:05,738 INFO XGBoost-PySpark: predict_udf Do the inference on the CPUs\n",
      "INFO:XGBoost-PySpark:Do the inference on the CPUs                   (2 + 2) / 4]\n",
      "2023-10-12 07:12:06,104 INFO XGBoost-PySpark: predict_udf Do the inference on the CPUs\n",
      "2023-10-12 07:12:08,305 INFO XGBoost-PySpark: predict_udf Do the inference on the CPUs\n",
      "INFO:XGBoost-PySpark:Do the inference on the CPUs\n",
      "2023-10-12 07:12:08,854 INFO XGBoost-PySpark: predict_udf Do the inference on the CPUs\n",
      "INFO:XGBoost-PySpark:Do the inference on the CPUs\n",
      "2023-10-12 07:12:11,131 INFO XGBoost-PySpark: predict_udf Do the inference on the CPUs\n",
      "INFO:XGBoost-PySpark:Do the inference on the CPUs\n",
      "2023-10-12 07:12:11,409 INFO XGBoost-PySpark: predict_udf Do the inference on the CPUs\n",
      "INFO:XGBoost-PySpark:Do the inference on the CPUs\n",
      "2023-10-12 07:12:13,501 INFO XGBoost-PySpark: predict_udf Do the inference on the CPUs\n",
      "INFO:XGBoost-PySpark:Do the inference on the CPUs\n",
      "2023-10-12 07:12:14,279 INFO XGBoost-PySpark: predict_udf Do the inference on the CPUs\n",
      "INFO:XGBoost-PySpark:Do the inference on the CPUs\n",
      "INFO:XGBoost-PySpark:Do the inference on the CPUs                               \n",
      "2023-10-12 07:12:17,297 INFO XGBoost-PySpark: predict_udf Do the inference on the CPUs\n",
      "INFO:XGBoost-PySpark:Do the inference on the CPUs\n",
      "2023-10-12 07:12:17,581 INFO XGBoost-PySpark: predict_udf Do the inference on the CPUs\n"
     ]
    },
    {
     "name": "stdout",
     "output_type": "stream",
     "text": [
      "train   ACCURACY: 0.7309 F1: 0.7295 auc: 0.7981\n",
      "test    ACCURACY: 0.7224 F1: 0.7210 auc: 0.7831\n"
     ]
    }
   ],
   "source": [
    "from pyspark.ml.evaluation import BinaryClassificationEvaluator, MulticlassClassificationEvaluator\n",
    "\n",
    "evaluatorMulti = MulticlassClassificationEvaluator(labelCol=\"label\", predictionCol=\"prediction\")\n",
    "evaluator = BinaryClassificationEvaluator(labelCol=\"label\")\n",
    "\n",
    "xgc = SparkXGBClassifier(features_col=\"scaledFeatures\",\n",
    "                         label_col=\"label\",max_depth = 5, n_estimators = 20)\n",
    "xgc_model = xgc.fit(train_data)\n",
    "xgc_predictions_test = xgc_model.transform(test_data)\n",
    "xgc_predictions_train = xgc_model.transform(train_data)\n",
    "\n",
    "print(\"XGC\")\n",
    "predictionAndTargetTrain = xgc_model.transform(train_data).select(\"label\", \"prediction\")\n",
    "predictionAndTargetTest = xgc_model.transform(test_data).select(\"label\", \"prediction\")\n",
    "# Get metrics\n",
    "acc_train = evaluatorMulti.evaluate(predictionAndTargetTrain, {evaluatorMulti.metricName: \"accuracy\"})\n",
    "acc_test = evaluatorMulti.evaluate(predictionAndTargetTest, {evaluatorMulti.metricName: \"accuracy\"})\n",
    "f1_train = evaluatorMulti.evaluate(predictionAndTargetTrain, {evaluatorMulti.metricName: \"f1\"})\n",
    "f1_test = evaluatorMulti.evaluate(predictionAndTargetTest, {evaluatorMulti.metricName: \"f1\"})\n",
    "auc_train = evaluator.evaluate(xgc_predictions_train)\n",
    "auc_test = evaluator.evaluate(xgc_predictions_test)\n",
    "print('train  ','ACCURACY: %.4f'%acc_train, 'F1: %.4f'%f1_train, 'auc: %.4f'%auc_train)\n",
    "print('test   ','ACCURACY: %.4f'%acc_test, 'F1: %.4f'%f1_test, 'auc: %.4f'%auc_test)"
   ]
  },
  {
   "cell_type": "code",
   "execution_count": 44,
   "id": "895ed016",
   "metadata": {},
   "outputs": [
    {
     "name": "stdout",
     "output_type": "stream",
     "text": [
      "col: height importance: 57.0\n",
      "col: weight importance: 58.0\n",
      "col: ap_hi importance: 32.0\n",
      "col: ap_lo importance: 16.0\n",
      "col: bmi importance: 91.0\n",
      "col: creff importance: 102.0\n",
      "col: cholesterol importance: 36.0\n",
      "col: gluc importance: 26.0\n",
      "col: smoke importance: 13.0\n",
      "col: alco importance: 11.0\n",
      "col: active importance: 15.0\n",
      "col: gender importance: 6.0\n",
      "col: ap_gap importance: 18.0\n",
      "col: ap_mul importance: 38.0\n",
      "col: bmi_aphi importance: 71.0\n"
     ]
    },
    {
     "data": {
      "image/png": "[encoded data removed]",
      "text/plain": [
       "<Figure size 432x288 with 1 Axes>"
      ]
     },
     "metadata": {
      "needs_background": "light"
     },
     "output_type": "display_data"
    }
   ],
   "source": [
    "col_list = []\n",
    "importance_list = []\n",
    "for c, v in zip(assembler.getInputCols(), xgc_model.get_feature_importances().values()):\n",
    "    col_list.append(c)\n",
    "    importance_list.append(v)\n",
    "    print('col: %s'%c, 'importance: %.1f'%v)\n",
    "\n",
    "plt.figure()\n",
    "plt.title(\"Feature importances\")\n",
    "plt.barh(col_list, importance_list, color=\"b\")\n",
    "plt.show()"
   ]
  },
  {
   "cell_type": "code",
   "execution_count": 46,
   "id": "8bc39974",
   "metadata": {},
   "outputs": [
    {
     "name": "stderr",
     "output_type": "stream",
     "text": [
      "2023-10-12 07:26:53,083 INFO XGBoost-PySpark: _fit Running xgboost-2.0.0 on 1 workers with\n",
      "\tbooster params: {'objective': 'binary:logistic', 'device': 'cpu', 'max_depth': 6, 'nthread': 1}\n",
      "\ttrain_call_kwargs_params: {'verbose_eval': True, 'num_boost_round': 200}\n",
      "\tdmatrix_kwargs: {'nthread': 1, 'missing': nan}\n",
      "[07:26:56] task 0 got new rank 0                                    (0 + 1) / 1]\n",
      "2023-10-12 07:26:58,803 INFO XGBoost-PySpark: _fit Finished xgboost training!   \n",
      "INFO:XGBoost-PySpark:Do the inference on the CPUs                               \n",
      "2023-10-12 07:27:01,043 INFO XGBoost-PySpark: predict_udf Do the inference on the CPUs\n",
      "INFO:XGBoost-PySpark:Do the inference on the CPUs\n",
      "2023-10-12 07:27:01,470 INFO XGBoost-PySpark: predict_udf Do the inference on the CPUs\n",
      "INFO:XGBoost-PySpark:Do the inference on the CPUs\n",
      "INFO:XGBoost-PySpark:Do the inference on the CPUs\n",
      "2023-10-12 07:27:03,669 INFO XGBoost-PySpark: predict_udf Do the inference on the CPUs\n",
      "INFO:XGBoost-PySpark:Do the inference on the CPUs\n",
      "INFO:XGBoost-PySpark:Do the inference on the CPUs\n",
      "INFO:XGBoost-PySpark:Do the inference on the CPUs                   (2 + 2) / 4]\n",
      "2023-10-12 07:27:04,037 INFO XGBoost-PySpark: predict_udf Do the inference on the CPUs\n",
      "INFO:XGBoost-PySpark:Do the inference on the CPUs\n",
      "2023-10-12 07:27:06,220 INFO XGBoost-PySpark: predict_udf Do the inference on the CPUs\n",
      "INFO:XGBoost-PySpark:Do the inference on the CPUs\n",
      "INFO:XGBoost-PySpark:Do the inference on the CPUs\n",
      "2023-10-12 07:27:06,666 INFO XGBoost-PySpark: predict_udf Do the inference on the CPUs\n",
      "INFO:XGBoost-PySpark:Do the inference on the CPUs\n",
      "INFO:XGBoost-PySpark:Do the inference on the CPUs\n",
      "2023-10-12 07:27:08,534 INFO XGBoost-PySpark: predict_udf Do the inference on the CPUs\n",
      "INFO:XGBoost-PySpark:Do the inference on the CPUs\n",
      "INFO:XGBoost-PySpark:Do the inference on the CPUs\n",
      "2023-10-12 07:27:08,884 INFO XGBoost-PySpark: predict_udf Do the inference on the CPUs\n",
      "INFO:XGBoost-PySpark:Do the inference on the CPUs\n",
      "INFO:XGBoost-PySpark:Do the inference on the CPUs                   (2 + 2) / 4]\n",
      "2023-10-12 07:27:11,287 INFO XGBoost-PySpark: predict_udf Do the inference on the CPUs\n",
      "INFO:XGBoost-PySpark:Do the inference on the CPUs\n",
      "INFO:XGBoost-PySpark:Do the inference on the CPUs\n",
      "INFO:XGBoost-PySpark:Do the inference on the CPUs\n",
      "2023-10-12 07:27:11,621 INFO XGBoost-PySpark: predict_udf Do the inference on the CPUs\n",
      "INFO:XGBoost-PySpark:Do the inference on the CPUs\n"
     ]
    },
    {
     "name": "stdout",
     "output_type": "stream",
     "text": [
      "test size: 0.05 ACCURACY: 0.7214 F1: 0.7205 auc: 0.7876\n"
     ]
    },
    {
     "name": "stderr",
     "output_type": "stream",
     "text": [
      "2023-10-12 07:27:16,096 INFO XGBoost-PySpark: _fit Running xgboost-2.0.0 on 1 workers with\n",
      "\tbooster params: {'objective': 'binary:logistic', 'device': 'cpu', 'max_depth': 6, 'nthread': 1}\n",
      "\ttrain_call_kwargs_params: {'verbose_eval': True, 'num_boost_round': 200}\n",
      "\tdmatrix_kwargs: {'nthread': 1, 'missing': nan}\n",
      "[07:27:19] task 0 got new rank 0                                    (0 + 1) / 1]\n",
      "2023-10-12 07:27:21,785 INFO XGBoost-PySpark: _fit Finished xgboost training!   \n",
      "INFO:XGBoost-PySpark:Do the inference on the CPUs                               \n",
      "2023-10-12 07:27:23,922 INFO XGBoost-PySpark: predict_udf Do the inference on the CPUs\n",
      "INFO:XGBoost-PySpark:Do the inference on the CPUs\n",
      "2023-10-12 07:27:24,153 INFO XGBoost-PySpark: predict_udf Do the inference on the CPUs\n",
      "INFO:XGBoost-PySpark:Do the inference on the CPUs\n",
      "INFO:XGBoost-PySpark:Do the inference on the CPUs=====>             (3 + 1) / 4]\n",
      "INFO:XGBoost-PySpark:Do the inference on the CPUs                               \n",
      "2023-10-12 07:27:26,234 INFO XGBoost-PySpark: predict_udf Do the inference on the CPUs\n",
      "INFO:XGBoost-PySpark:Do the inference on the CPUs\n",
      "INFO:XGBoost-PySpark:Do the inference on the CPUs                   (2 + 2) / 4]\n",
      "2023-10-12 07:27:26,661 INFO XGBoost-PySpark: predict_udf Do the inference on the CPUs\n",
      "INFO:XGBoost-PySpark:Do the inference on the CPUs\n",
      "INFO:XGBoost-PySpark:Do the inference on the CPUs                               \n",
      "2023-10-12 07:27:28,736 INFO XGBoost-PySpark: predict_udf Do the inference on the CPUs\n",
      "INFO:XGBoost-PySpark:Do the inference on the CPUs\n",
      "INFO:XGBoost-PySpark:Do the inference on the CPUs\n",
      "2023-10-12 07:27:29,027 INFO XGBoost-PySpark: predict_udf Do the inference on the CPUs\n",
      "INFO:XGBoost-PySpark:Do the inference on the CPUs\n",
      "2023-10-12 07:27:30,895 INFO XGBoost-PySpark: predict_udf Do the inference on the CPUs\n",
      "INFO:XGBoost-PySpark:Do the inference on the CPUs\n",
      "INFO:XGBoost-PySpark:Do the inference on the CPUs\n",
      "INFO:XGBoost-PySpark:Do the inference on the CPUs\n",
      "2023-10-12 07:27:31,349 INFO XGBoost-PySpark: predict_udf Do the inference on the CPUs\n",
      "INFO:XGBoost-PySpark:Do the inference on the CPUs\n",
      "INFO:XGBoost-PySpark:Do the inference on the CPUs                               \n",
      "2023-10-12 07:27:33,314 INFO XGBoost-PySpark: predict_udf Do the inference on the CPUs\n",
      "INFO:XGBoost-PySpark:Do the inference on the CPUs\n",
      "INFO:XGBoost-PySpark:Do the inference on the CPUs\n",
      "2023-10-12 07:27:33,652 INFO XGBoost-PySpark: predict_udf Do the inference on the CPUs\n",
      "INFO:XGBoost-PySpark:Do the inference on the CPUs\n"
     ]
    },
    {
     "name": "stdout",
     "output_type": "stream",
     "text": [
      "test size: 0.10 ACCURACY: 0.7217 F1: 0.7212 auc: 0.7853\n"
     ]
    },
    {
     "name": "stderr",
     "output_type": "stream",
     "text": [
      "2023-10-12 07:27:38,156 INFO XGBoost-PySpark: _fit Running xgboost-2.0.0 on 1 workers with\n",
      "\tbooster params: {'objective': 'binary:logistic', 'device': 'cpu', 'max_depth': 6, 'nthread': 1}\n",
      "\ttrain_call_kwargs_params: {'verbose_eval': True, 'num_boost_round': 200}\n",
      "\tdmatrix_kwargs: {'nthread': 1, 'missing': nan}\n",
      "[07:27:41] task 0 got new rank 0                                    (0 + 1) / 1]\n",
      "2023-10-12 07:27:43,684 INFO XGBoost-PySpark: _fit Finished xgboost training!   \n",
      "2023-10-12 07:27:45,855 INFO XGBoost-PySpark: predict_udf Do the inference on the CPUs\n",
      "INFO:XGBoost-PySpark:Do the inference on the CPUs\n",
      "INFO:XGBoost-PySpark:Do the inference on the CPUs\n",
      "INFO:XGBoost-PySpark:Do the inference on the CPUs                   (2 + 2) / 4]\n",
      "2023-10-12 07:27:46,335 INFO XGBoost-PySpark: predict_udf Do the inference on the CPUs\n",
      "INFO:XGBoost-PySpark:Do the inference on the CPUs\n",
      "2023-10-12 07:27:48,323 INFO XGBoost-PySpark: predict_udf Do the inference on the CPUs\n",
      "INFO:XGBoost-PySpark:Do the inference on the CPUs\n",
      "INFO:XGBoost-PySpark:Do the inference on the CPUs\n",
      "2023-10-12 07:27:48,734 INFO XGBoost-PySpark: predict_udf Do the inference on the CPUs\n",
      "INFO:XGBoost-PySpark:Do the inference on the CPUs\n",
      "INFO:XGBoost-PySpark:Do the inference on the CPUs\n",
      "2023-10-12 07:27:50,692 INFO XGBoost-PySpark: predict_udf Do the inference on the CPUs\n",
      "INFO:XGBoost-PySpark:Do the inference on the CPUs\n",
      "INFO:XGBoost-PySpark:Do the inference on the CPUs\n",
      "INFO:XGBoost-PySpark:Do the inference on the CPUs\n",
      "2023-10-12 07:27:51,036 INFO XGBoost-PySpark: predict_udf Do the inference on the CPUs\n",
      "INFO:XGBoost-PySpark:Do the inference on the CPUs\n",
      "INFO:XGBoost-PySpark:Do the inference on the CPUs                               \n",
      "2023-10-12 07:27:52,850 INFO XGBoost-PySpark: predict_udf Do the inference on the CPUs\n",
      "INFO:XGBoost-PySpark:Do the inference on the CPUs\n",
      "INFO:XGBoost-PySpark:Do the inference on the CPUs\n",
      "2023-10-12 07:27:53,213 INFO XGBoost-PySpark: predict_udf Do the inference on the CPUs\n",
      "INFO:XGBoost-PySpark:Do the inference on the CPUs\n",
      "INFO:XGBoost-PySpark:Do the inference on the CPUs                               \n",
      "2023-10-12 07:27:55,079 INFO XGBoost-PySpark: predict_udf Do the inference on the CPUs\n",
      "INFO:XGBoost-PySpark:Do the inference on the CPUs\n",
      "INFO:XGBoost-PySpark:Do the inference on the CPUs\n",
      "2023-10-12 07:27:55,436 INFO XGBoost-PySpark: predict_udf Do the inference on the CPUs\n",
      "INFO:XGBoost-PySpark:Do the inference on the CPUs\n",
      "                                                                                \r"
     ]
    },
    {
     "name": "stdout",
     "output_type": "stream",
     "text": [
      "test size: 0.15 ACCURACY: 0.7284 F1: 0.7279 auc: 0.7923\n"
     ]
    },
    {
     "name": "stderr",
     "output_type": "stream",
     "text": [
      "2023-10-12 07:27:59,510 INFO XGBoost-PySpark: _fit Running xgboost-2.0.0 on 1 workers with\n",
      "\tbooster params: {'objective': 'binary:logistic', 'device': 'cpu', 'max_depth': 6, 'nthread': 1}\n",
      "\ttrain_call_kwargs_params: {'verbose_eval': True, 'num_boost_round': 200}\n",
      "\tdmatrix_kwargs: {'nthread': 1, 'missing': nan}\n",
      "[07:28:02] task 0 got new rank 0                                    (0 + 1) / 1]\n",
      "2023-10-12 07:28:05,024 INFO XGBoost-PySpark: _fit Finished xgboost training!   \n",
      "2023-10-12 07:28:07,084 INFO XGBoost-PySpark: predict_udf Do the inference on the CPUs\n",
      "INFO:XGBoost-PySpark:Do the inference on the CPUs\n",
      "INFO:XGBoost-PySpark:Do the inference on the CPUs\n",
      "2023-10-12 07:28:07,621 INFO XGBoost-PySpark: predict_udf Do the inference on the CPUs\n",
      "INFO:XGBoost-PySpark:Do the inference on the CPUs\n",
      "INFO:XGBoost-PySpark:Do the inference on the CPUs\n",
      "INFO:XGBoost-PySpark:Do the inference on the CPUs                               \n",
      "2023-10-12 07:28:09,635 INFO XGBoost-PySpark: predict_udf Do the inference on the CPUs\n",
      "INFO:XGBoost-PySpark:Do the inference on the CPUs\n",
      "INFO:XGBoost-PySpark:Do the inference on the CPUs\n",
      "2023-10-12 07:28:09,981 INFO XGBoost-PySpark: predict_udf Do the inference on the CPUs\n",
      "INFO:XGBoost-PySpark:Do the inference on the CPUs\n",
      "INFO:XGBoost-PySpark:Do the inference on the CPUs                               \n",
      "2023-10-12 07:28:11,822 INFO XGBoost-PySpark: predict_udf Do the inference on the CPUs\n",
      "INFO:XGBoost-PySpark:Do the inference on the CPUs\n",
      "2023-10-12 07:28:12,134 INFO XGBoost-PySpark: predict_udf Do the inference on the CPUs\n",
      "INFO:XGBoost-PySpark:Do the inference on the CPUs\n",
      "INFO:XGBoost-PySpark:Do the inference on the CPUs                   (2 + 2) / 4]\n",
      "INFO:XGBoost-PySpark:Do the inference on the CPUs                               \n",
      "2023-10-12 07:28:14,018 INFO XGBoost-PySpark: predict_udf Do the inference on the CPUs\n",
      "INFO:XGBoost-PySpark:Do the inference on the CPUs\n",
      "INFO:XGBoost-PySpark:Do the inference on the CPUs                   (2 + 2) / 4]\n",
      "2023-10-12 07:28:14,479 INFO XGBoost-PySpark: predict_udf Do the inference on the CPUs\n",
      "INFO:XGBoost-PySpark:Do the inference on the CPUs\n",
      "INFO:XGBoost-PySpark:Do the inference on the CPUs                               \n",
      "2023-10-12 07:28:16,504 INFO XGBoost-PySpark: predict_udf Do the inference on the CPUs\n",
      "INFO:XGBoost-PySpark:Do the inference on the CPUs\n",
      "INFO:XGBoost-PySpark:Do the inference on the CPUs\n",
      "2023-10-12 07:28:16,875 INFO XGBoost-PySpark: predict_udf Do the inference on the CPUs\n",
      "INFO:XGBoost-PySpark:Do the inference on the CPUs\n"
     ]
    },
    {
     "name": "stdout",
     "output_type": "stream",
     "text": [
      "test size: 0.20 ACCURACY: 0.7297 F1: 0.7293 auc: 0.7915\n"
     ]
    },
    {
     "name": "stderr",
     "output_type": "stream",
     "text": [
      "2023-10-12 07:28:21,031 INFO XGBoost-PySpark: _fit Running xgboost-2.0.0 on 1 workers with\n",
      "\tbooster params: {'objective': 'binary:logistic', 'device': 'cpu', 'max_depth': 6, 'nthread': 1}\n",
      "\ttrain_call_kwargs_params: {'verbose_eval': True, 'num_boost_round': 200}\n",
      "\tdmatrix_kwargs: {'nthread': 1, 'missing': nan}\n",
      "[07:28:24] task 0 got new rank 0                                    (0 + 1) / 1]\n",
      "2023-10-12 07:28:26,327 INFO XGBoost-PySpark: _fit Finished xgboost training!   \n",
      "INFO:XGBoost-PySpark:Do the inference on the CPUs                               \n",
      "2023-10-12 07:28:28,379 INFO XGBoost-PySpark: predict_udf Do the inference on the CPUs\n",
      "INFO:XGBoost-PySpark:Do the inference on the CPUs\n",
      "INFO:XGBoost-PySpark:Do the inference on the CPUs                   (2 + 2) / 4]\n",
      "2023-10-12 07:28:28,920 INFO XGBoost-PySpark: predict_udf Do the inference on the CPUs\n",
      "INFO:XGBoost-PySpark:Do the inference on the CPUs\n",
      "2023-10-12 07:28:30,691 INFO XGBoost-PySpark: predict_udf Do the inference on the CPUs\n",
      "INFO:XGBoost-PySpark:Do the inference on the CPUs\n",
      "INFO:XGBoost-PySpark:Do the inference on the CPUs\n",
      "2023-10-12 07:28:31,082 INFO XGBoost-PySpark: predict_udf Do the inference on the CPUs\n",
      "INFO:XGBoost-PySpark:Do the inference on the CPUs\n",
      "INFO:XGBoost-PySpark:Do the inference on the CPUs                   (2 + 2) / 4]\n",
      "2023-10-12 07:28:33,184 INFO XGBoost-PySpark: predict_udf Do the inference on the CPUs\n",
      "INFO:XGBoost-PySpark:Do the inference on the CPUs\n",
      "INFO:XGBoost-PySpark:Do the inference on the CPUs\n",
      "2023-10-12 07:28:33,409 INFO XGBoost-PySpark: predict_udf Do the inference on the CPUs\n",
      "INFO:XGBoost-PySpark:Do the inference on the CPUs\n",
      "INFO:XGBoost-PySpark:Do the inference on the CPUs=====>             (3 + 1) / 4]\n",
      "INFO:XGBoost-PySpark:Do the inference on the CPUs                               \n",
      "2023-10-12 07:28:35,463 INFO XGBoost-PySpark: predict_udf Do the inference on the CPUs\n",
      "INFO:XGBoost-PySpark:Do the inference on the CPUs\n",
      "INFO:XGBoost-PySpark:Do the inference on the CPUs\n",
      "2023-10-12 07:28:35,817 INFO XGBoost-PySpark: predict_udf Do the inference on the CPUs\n",
      "INFO:XGBoost-PySpark:Do the inference on the CPUs\n",
      "INFO:XGBoost-PySpark:Do the inference on the CPUs                               \n",
      "2023-10-12 07:28:38,039 INFO XGBoost-PySpark: predict_udf Do the inference on the CPUs\n",
      "INFO:XGBoost-PySpark:Do the inference on the CPUs\n",
      "INFO:XGBoost-PySpark:Do the inference on the CPUs                   (1 + 2) / 4]\n",
      "2023-10-12 07:28:38,617 INFO XGBoost-PySpark: predict_udf Do the inference on the CPUs\n",
      "INFO:XGBoost-PySpark:Do the inference on the CPUs\n",
      "                                                                                \r"
     ]
    },
    {
     "name": "stdout",
     "output_type": "stream",
     "text": [
      "test size: 0.25 ACCURACY: 0.7212 F1: 0.7207 auc: 0.7857\n"
     ]
    },
    {
     "name": "stderr",
     "output_type": "stream",
     "text": [
      "2023-10-12 07:28:43,160 INFO XGBoost-PySpark: _fit Running xgboost-2.0.0 on 1 workers with\n",
      "\tbooster params: {'objective': 'binary:logistic', 'device': 'cpu', 'max_depth': 6, 'nthread': 1}\n",
      "\ttrain_call_kwargs_params: {'verbose_eval': True, 'num_boost_round': 200}\n",
      "\tdmatrix_kwargs: {'nthread': 1, 'missing': nan}\n",
      "[07:28:46] task 0 got new rank 0                                    (0 + 1) / 1]\n",
      "2023-10-12 07:28:48,446 INFO XGBoost-PySpark: _fit Finished xgboost training!   \n",
      "INFO:XGBoost-PySpark:Do the inference on the CPUs                               \n",
      "2023-10-12 07:28:50,537 INFO XGBoost-PySpark: predict_udf Do the inference on the CPUs\n",
      "INFO:XGBoost-PySpark:Do the inference on the CPUs\n",
      "INFO:XGBoost-PySpark:Do the inference on the CPUs                   (2 + 2) / 4]\n",
      "2023-10-12 07:28:50,947 INFO XGBoost-PySpark: predict_udf Do the inference on the CPUs\n",
      "INFO:XGBoost-PySpark:Do the inference on the CPUs\n",
      "INFO:XGBoost-PySpark:Do the inference on the CPUs                               \n",
      "2023-10-12 07:28:53,133 INFO XGBoost-PySpark: predict_udf Do the inference on the CPUs\n",
      "INFO:XGBoost-PySpark:Do the inference on the CPUs\n",
      "2023-10-12 07:28:53,598 INFO XGBoost-PySpark: predict_udf Do the inference on the CPUs\n",
      "INFO:XGBoost-PySpark:Do the inference on the CPUs\n",
      "INFO:XGBoost-PySpark:Do the inference on the CPUs\n",
      "INFO:XGBoost-PySpark:Do the inference on the CPUs                               \n",
      "2023-10-12 07:28:55,552 INFO XGBoost-PySpark: predict_udf Do the inference on the CPUs\n",
      "INFO:XGBoost-PySpark:Do the inference on the CPUs\n",
      "2023-10-12 07:28:55,929 INFO XGBoost-PySpark: predict_udf Do the inference on the CPUs\n",
      "INFO:XGBoost-PySpark:Do the inference on the CPUs\n",
      "INFO:XGBoost-PySpark:Do the inference on the CPUs\n",
      "INFO:XGBoost-PySpark:Do the inference on the CPUs                               \n",
      "2023-10-12 07:28:57,806 INFO XGBoost-PySpark: predict_udf Do the inference on the CPUs\n",
      "INFO:XGBoost-PySpark:Do the inference on the CPUs\n",
      "2023-10-12 07:28:58,247 INFO XGBoost-PySpark: predict_udf Do the inference on the CPUs\n",
      "INFO:XGBoost-PySpark:Do the inference on the CPUs\n",
      "INFO:XGBoost-PySpark:Do the inference on the CPUs\n",
      "2023-10-12 07:29:00,136 INFO XGBoost-PySpark: predict_udf Do the inference on the CPUs\n",
      "INFO:XGBoost-PySpark:Do the inference on the CPUs\n",
      "INFO:XGBoost-PySpark:Do the inference on the CPUs\n",
      "INFO:XGBoost-PySpark:Do the inference on the CPUs                   (2 + 2) / 4]\n",
      "2023-10-12 07:29:00,612 INFO XGBoost-PySpark: predict_udf Do the inference on the CPUs\n",
      "INFO:XGBoost-PySpark:Do the inference on the CPUs\n",
      "                                                                                \r"
     ]
    },
    {
     "name": "stdout",
     "output_type": "stream",
     "text": [
      "test size: 0.30 ACCURACY: 0.7241 F1: 0.7235 auc: 0.7879\n"
     ]
    },
    {
     "data": {
      "text/html": [
       "<div>\n",
       "<style scoped>\n",
       "    .dataframe tbody tr th:only-of-type {\n",
       "        vertical-align: middle;\n",
       "    }\n",
       "\n",
       "    .dataframe tbody tr th {\n",
       "        vertical-align: top;\n",
       "    }\n",
       "\n",
       "    .dataframe thead th {\n",
       "        text-align: right;\n",
       "    }\n",
       "</style>\n",
       "<table border=\"1\" class=\"dataframe\">\n",
       "  <thead>\n",
       "    <tr style=\"text-align: right;\">\n",
       "      <th></th>\n",
       "      <th>test_size</th>\n",
       "      <th>accuracy</th>\n",
       "      <th>f1</th>\n",
       "      <th>auc</th>\n",
       "    </tr>\n",
       "  </thead>\n",
       "  <tbody>\n",
       "    <tr>\n",
       "      <th>0</th>\n",
       "      <td>0.05</td>\n",
       "      <td>0.721387</td>\n",
       "      <td>0.720473</td>\n",
       "      <td>0.787650</td>\n",
       "    </tr>\n",
       "    <tr>\n",
       "      <th>1</th>\n",
       "      <td>0.10</td>\n",
       "      <td>0.721717</td>\n",
       "      <td>0.721209</td>\n",
       "      <td>0.785254</td>\n",
       "    </tr>\n",
       "    <tr>\n",
       "      <th>2</th>\n",
       "      <td>0.15</td>\n",
       "      <td>0.728403</td>\n",
       "      <td>0.727899</td>\n",
       "      <td>0.792274</td>\n",
       "    </tr>\n",
       "    <tr>\n",
       "      <th>3</th>\n",
       "      <td>0.20</td>\n",
       "      <td>0.729725</td>\n",
       "      <td>0.729316</td>\n",
       "      <td>0.791546</td>\n",
       "    </tr>\n",
       "    <tr>\n",
       "      <th>4</th>\n",
       "      <td>0.25</td>\n",
       "      <td>0.721153</td>\n",
       "      <td>0.720696</td>\n",
       "      <td>0.785692</td>\n",
       "    </tr>\n",
       "    <tr>\n",
       "      <th>5</th>\n",
       "      <td>0.30</td>\n",
       "      <td>0.724121</td>\n",
       "      <td>0.723515</td>\n",
       "      <td>0.787916</td>\n",
       "    </tr>\n",
       "  </tbody>\n",
       "</table>\n",
       "</div>"
      ],
      "text/plain": [
       "   test_size  accuracy        f1       auc\n",
       "0       0.05  0.721387  0.720473  0.787650\n",
       "1       0.10  0.721717  0.721209  0.785254\n",
       "2       0.15  0.728403  0.727899  0.792274\n",
       "3       0.20  0.729725  0.729316  0.791546\n",
       "4       0.25  0.721153  0.720696  0.785692\n",
       "5       0.30  0.724121  0.723515  0.787916"
      ]
     },
     "execution_count": 46,
     "metadata": {},
     "output_type": "execute_result"
    }
   ],
   "source": [
    "from pyspark.ml.evaluation import BinaryClassificationEvaluator, MulticlassClassificationEvaluator\n",
    "\n",
    "evaluatorMulti = MulticlassClassificationEvaluator(labelCol=\"label\", predictionCol=\"prediction\")\n",
    "evaluator = BinaryClassificationEvaluator(labelCol=\"label\")\n",
    "\n",
    "test_size_performance = []\n",
    "\n",
    "for i in range(6):\n",
    "    test_size = 0.05 + i * 0.05\n",
    "    train_data_temp, test_data_temp = boostData.randomSplit([1-test_size, test_size])\n",
    "    xgc = SparkXGBClassifier(features_col=\"scaledFeatures\",\n",
    "                                 label_col=\"label\",max_depth = 6, n_estimators = 200)\n",
    "    xgc_model = xgc.fit(train_data_temp)\n",
    "    xgc_predictions = xgc_model.transform(test_data_temp)\n",
    "    predictionAndTarget = xgc_model.transform(test_data_temp).select(\"label\", \"prediction\")\n",
    "    # Get metrics\n",
    "    acc = evaluatorMulti.evaluate(predictionAndTarget, {evaluatorMulti.metricName: \"accuracy\"})\n",
    "    f1 = evaluatorMulti.evaluate(predictionAndTarget, {evaluatorMulti.metricName: \"f1\"})\n",
    "    weightedPrecision = evaluatorMulti.evaluate(predictionAndTarget, {evaluatorMulti.metricName: \"weightedPrecision\"})\n",
    "    weightedRecall = evaluatorMulti.evaluate(predictionAndTarget, {evaluatorMulti.metricName: \"weightedRecall\"})\n",
    "    auc = evaluator.evaluate(xgc_predictions)\n",
    "    test_size_performance.append({'test_size': test_size, 'accuracy': acc, 'f1': f1, 'auc': auc})\n",
    "    print('test size: %.2f'%test_size, 'ACCURACY: %.4f'%acc, 'F1: %.4f'%f1, 'auc: %.4f'%auc)\n",
    "\n",
    "test_size_df = pd.DataFrame(test_size_performance)\n",
    "test_size_df.head(10)"
   ]
  },
  {
   "cell_type": "code",
   "execution_count": 44,
   "id": "a8504523",
   "metadata": {},
   "outputs": [
    {
     "name": "stderr",
     "output_type": "stream",
     "text": [
      "2023-10-12 06:15:23,811 INFO XGBoost-PySpark: _fit Running xgboost-2.0.0 on 1 workers with\n",
      "\tbooster params: {'objective': 'binary:logistic', 'device': 'cpu', 'max_depth': 5, 'nthread': 1}\n",
      "\ttrain_call_kwargs_params: {'verbose_eval': True, 'num_boost_round': 50}\n",
      "\tdmatrix_kwargs: {'nthread': 1, 'missing': nan}\n",
      "INFO:XGBoost-PySpark:Running xgboost-2.0.0 on 1 workers with\n",
      "\tbooster params: {'objective': 'binary:logistic', 'device': 'cpu', 'max_depth': 5, 'nthread': 1}\n",
      "\ttrain_call_kwargs_params: {'verbose_eval': True, 'num_boost_round': 50}\n",
      "\tdmatrix_kwargs: {'nthread': 1, 'missing': nan}\n",
      "[06:15:27] task 0 got new rank 0                                    (0 + 1) / 1]\n",
      "2023-10-12 06:15:28,666 INFO XGBoost-PySpark: _fit Finished xgboost training!   \n",
      "INFO:XGBoost-PySpark:Finished xgboost training!\n",
      "INFO:XGBoost-PySpark:Do the inference on the CPUs                               \n",
      "2023-10-12 06:15:32,614 INFO XGBoost-PySpark: predict_udf Do the inference on the CPUs\n",
      "INFO:XGBoost-PySpark:Do the inference on the CPUs\n",
      "2023-10-12 06:15:33,305 INFO XGBoost-PySpark: predict_udf Do the inference on the CPUs\n",
      "INFO:XGBoost-PySpark:Do the inference on the CPUs\n",
      "INFO:XGBoost-PySpark:Do the inference on the CPUs\n",
      "INFO:XGBoost-PySpark:Do the inference on the CPUs                               \n",
      "2023-10-12 06:15:37,215 INFO XGBoost-PySpark: predict_udf Do the inference on the CPUs\n",
      "INFO:XGBoost-PySpark:Do the inference on the CPUs\n",
      "2023-10-12 06:15:37,906 INFO XGBoost-PySpark: predict_udf Do the inference on the CPUs\n",
      "INFO:XGBoost-PySpark:Do the inference on the CPUs\n",
      "INFO:XGBoost-PySpark:Do the inference on the CPUs\n",
      "2023-10-12 06:15:40,514 INFO XGBoost-PySpark: predict_udf Do the inference on the CPUs\n",
      "INFO:XGBoost-PySpark:Do the inference on the CPUs\n",
      "INFO:XGBoost-PySpark:Do the inference on the CPUs\n",
      "INFO:XGBoost-PySpark:Do the inference on the CPUs\n",
      "2023-10-12 06:15:40,882 INFO XGBoost-PySpark: predict_udf Do the inference on the CPUs\n",
      "INFO:XGBoost-PySpark:Do the inference on the CPUs\n",
      "INFO:XGBoost-PySpark:Do the inference on the CPUs                               \n",
      "2023-10-12 06:15:43,138 INFO XGBoost-PySpark: predict_udf Do the inference on the CPUs\n",
      "INFO:XGBoost-PySpark:Do the inference on the CPUs\n",
      "INFO:XGBoost-PySpark:Do the inference on the CPUs                   (2 + 2) / 4]\n",
      "2023-10-12 06:15:43,708 INFO XGBoost-PySpark: predict_udf Do the inference on the CPUs\n",
      "INFO:XGBoost-PySpark:Do the inference on the CPUs\n",
      "INFO:XGBoost-PySpark:Do the inference on the CPUs                               \n",
      "2023-10-12 06:15:46,844 INFO XGBoost-PySpark: predict_udf Do the inference on the CPUs\n",
      "INFO:XGBoost-PySpark:Do the inference on the CPUs\n",
      "2023-10-12 06:15:47,444 INFO XGBoost-PySpark: predict_udf Do the inference on the CPUs\n",
      "INFO:XGBoost-PySpark:Do the inference on the CPUs\n",
      "INFO:XGBoost-PySpark:Do the inference on the CPUs\n",
      "                                                                                \r"
     ]
    },
    {
     "name": "stdout",
     "output_type": "stream",
     "text": [
      "MAX_DEPTH: 5 N_ESTIMATORS: 50 ACCURACY: 0.7301 F1: 0.7293 auc: 0.7932\n"
     ]
    },
    {
     "name": "stderr",
     "output_type": "stream",
     "text": [
      "2023-10-12 06:15:54,561 INFO XGBoost-PySpark: _fit Running xgboost-2.0.0 on 1 workers with\n",
      "\tbooster params: {'objective': 'binary:logistic', 'device': 'cpu', 'max_depth': 5, 'nthread': 1}\n",
      "\ttrain_call_kwargs_params: {'verbose_eval': True, 'num_boost_round': 100}\n",
      "\tdmatrix_kwargs: {'nthread': 1, 'missing': nan}\n",
      "INFO:XGBoost-PySpark:Running xgboost-2.0.0 on 1 workers with\n",
      "\tbooster params: {'objective': 'binary:logistic', 'device': 'cpu', 'max_depth': 5, 'nthread': 1}\n",
      "\ttrain_call_kwargs_params: {'verbose_eval': True, 'num_boost_round': 100}\n",
      "\tdmatrix_kwargs: {'nthread': 1, 'missing': nan}\n",
      "[06:15:59] task 0 got new rank 0                                    (0 + 1) / 1]\n",
      "2023-10-12 06:16:01,320 INFO XGBoost-PySpark: _fit Finished xgboost training!   \n",
      "INFO:XGBoost-PySpark:Finished xgboost training!\n",
      "INFO:XGBoost-PySpark:Do the inference on the CPUs                               \n",
      "2023-10-12 06:16:04,576 INFO XGBoost-PySpark: predict_udf Do the inference on the CPUs\n",
      "INFO:XGBoost-PySpark:Do the inference on the CPUs\n",
      "INFO:XGBoost-PySpark:Do the inference on the CPUs                   (2 + 2) / 4]\n",
      "2023-10-12 06:16:05,045 INFO XGBoost-PySpark: predict_udf Do the inference on the CPUs\n",
      "INFO:XGBoost-PySpark:Do the inference on the CPUs\n",
      "INFO:XGBoost-PySpark:Do the inference on the CPUs                               \n",
      "2023-10-12 06:16:08,821 INFO XGBoost-PySpark: predict_udf Do the inference on the CPUs\n",
      "INFO:XGBoost-PySpark:Do the inference on the CPUs\n",
      "INFO:XGBoost-PySpark:Do the inference on the CPUs                   (2 + 2) / 4]\n",
      "2023-10-12 06:16:09,499 INFO XGBoost-PySpark: predict_udf Do the inference on the CPUs\n",
      "INFO:XGBoost-PySpark:Do the inference on the CPUs\n",
      "2023-10-12 06:16:13,035 INFO XGBoost-PySpark: predict_udf Do the inference on the CPUs\n",
      "INFO:XGBoost-PySpark:Do the inference on the CPUs\n",
      "INFO:XGBoost-PySpark:Do the inference on the CPUs\n",
      "INFO:XGBoost-PySpark:Do the inference on the CPUs                   (2 + 2) / 4]\n",
      "2023-10-12 06:16:13,763 INFO XGBoost-PySpark: predict_udf Do the inference on the CPUs\n",
      "INFO:XGBoost-PySpark:Do the inference on the CPUs\n",
      "INFO:XGBoost-PySpark:Do the inference on the CPUs                               \n",
      "2023-10-12 06:16:17,030 INFO XGBoost-PySpark: predict_udf Do the inference on the CPUs\n",
      "INFO:XGBoost-PySpark:Do the inference on the CPUs\n",
      "INFO:XGBoost-PySpark:Do the inference on the CPUs                   (2 + 2) / 4]\n",
      "2023-10-12 06:16:17,732 INFO XGBoost-PySpark: predict_udf Do the inference on the CPUs\n",
      "INFO:XGBoost-PySpark:Do the inference on the CPUs\n",
      "INFO:XGBoost-PySpark:Do the inference on the CPUs                               \n",
      "2023-10-12 06:16:21,122 INFO XGBoost-PySpark: predict_udf Do the inference on the CPUs\n",
      "INFO:XGBoost-PySpark:Do the inference on the CPUs\n",
      "INFO:XGBoost-PySpark:Do the inference on the CPUs                   (2 + 2) / 4]\n",
      "2023-10-12 06:16:21,869 INFO XGBoost-PySpark: predict_udf Do the inference on the CPUs\n",
      "INFO:XGBoost-PySpark:Do the inference on the CPUs\n",
      "                                                                                \r"
     ]
    },
    {
     "name": "stdout",
     "output_type": "stream",
     "text": [
      "MAX_DEPTH: 5 N_ESTIMATORS: 100 ACCURACY: 0.7314 F1: 0.7308 auc: 0.7971\n"
     ]
    },
    {
     "name": "stderr",
     "output_type": "stream",
     "text": [
      "2023-10-12 06:16:29,278 INFO XGBoost-PySpark: _fit Running xgboost-2.0.0 on 1 workers with\n",
      "\tbooster params: {'objective': 'binary:logistic', 'device': 'cpu', 'max_depth': 5, 'nthread': 1}\n",
      "\ttrain_call_kwargs_params: {'verbose_eval': True, 'num_boost_round': 150}\n",
      "\tdmatrix_kwargs: {'nthread': 1, 'missing': nan}\n",
      "INFO:XGBoost-PySpark:Running xgboost-2.0.0 on 1 workers with\n",
      "\tbooster params: {'objective': 'binary:logistic', 'device': 'cpu', 'max_depth': 5, 'nthread': 1}\n",
      "\ttrain_call_kwargs_params: {'verbose_eval': True, 'num_boost_round': 150}\n",
      "\tdmatrix_kwargs: {'nthread': 1, 'missing': nan}\n",
      "[06:16:34] task 0 got new rank 0                                    (0 + 1) / 1]\n",
      "2023-10-12 06:16:35,975 INFO XGBoost-PySpark: _fit Finished xgboost training!   \n",
      "INFO:XGBoost-PySpark:Finished xgboost training!\n",
      "2023-10-12 06:16:39,517 INFO XGBoost-PySpark: predict_udf Do the inference on the CPUs\n",
      "INFO:XGBoost-PySpark:Do the inference on the CPUs\n",
      "INFO:XGBoost-PySpark:Do the inference on the CPUs\n",
      "INFO:XGBoost-PySpark:Do the inference on the CPUs                   (2 + 2) / 4]\n",
      "2023-10-12 06:16:40,210 INFO XGBoost-PySpark: predict_udf Do the inference on the CPUs\n",
      "INFO:XGBoost-PySpark:Do the inference on the CPUs\n",
      "INFO:XGBoost-PySpark:Do the inference on the CPUs                               \n",
      "2023-10-12 06:16:43,788 INFO XGBoost-PySpark: predict_udf Do the inference on the CPUs\n",
      "INFO:XGBoost-PySpark:Do the inference on the CPUs\n",
      "2023-10-12 06:16:44,367 INFO XGBoost-PySpark: predict_udf Do the inference on the CPUs\n",
      "INFO:XGBoost-PySpark:Do the inference on the CPUs\n",
      "INFO:XGBoost-PySpark:Do the inference on the CPUs\n",
      "INFO:XGBoost-PySpark:Do the inference on the CPUs                               \n",
      "2023-10-12 06:16:47,301 INFO XGBoost-PySpark: predict_udf Do the inference on the CPUs\n",
      "INFO:XGBoost-PySpark:Do the inference on the CPUs\n",
      "INFO:XGBoost-PySpark:Do the inference on the CPUs                   (2 + 2) / 4]\n",
      "2023-10-12 06:16:47,888 INFO XGBoost-PySpark: predict_udf Do the inference on the CPUs\n",
      "INFO:XGBoost-PySpark:Do the inference on the CPUs\n",
      "INFO:XGBoost-PySpark:Do the inference on the CPUs                               \n",
      "2023-10-12 06:16:51,407 INFO XGBoost-PySpark: predict_udf Do the inference on the CPUs\n",
      "INFO:XGBoost-PySpark:Do the inference on the CPUs\n",
      "2023-10-12 06:16:52,167 INFO XGBoost-PySpark: predict_udf Do the inference on the CPUs\n",
      "INFO:XGBoost-PySpark:Do the inference on the CPUs\n",
      "INFO:XGBoost-PySpark:Do the inference on the CPUs\n",
      "2023-10-12 06:16:55,635 INFO XGBoost-PySpark: predict_udf Do the inference on the CPUs\n",
      "INFO:XGBoost-PySpark:Do the inference on the CPUs\n",
      "INFO:XGBoost-PySpark:Do the inference on the CPUs\n",
      "INFO:XGBoost-PySpark:Do the inference on the CPUs                   (1 + 2) / 4]\n",
      "2023-10-12 06:16:56,402 INFO XGBoost-PySpark: predict_udf Do the inference on the CPUs\n",
      "INFO:XGBoost-PySpark:Do the inference on the CPUs\n",
      "                                                                                \r"
     ]
    },
    {
     "name": "stdout",
     "output_type": "stream",
     "text": [
      "MAX_DEPTH: 5 N_ESTIMATORS: 150 ACCURACY: 0.7316 F1: 0.7311 auc: 0.7971\n"
     ]
    },
    {
     "name": "stderr",
     "output_type": "stream",
     "text": [
      "2023-10-12 06:17:03,329 INFO XGBoost-PySpark: _fit Running xgboost-2.0.0 on 1 workers with\n",
      "\tbooster params: {'objective': 'binary:logistic', 'device': 'cpu', 'max_depth': 5, 'nthread': 1}\n",
      "\ttrain_call_kwargs_params: {'verbose_eval': True, 'num_boost_round': 200}\n",
      "\tdmatrix_kwargs: {'nthread': 1, 'missing': nan}\n",
      "INFO:XGBoost-PySpark:Running xgboost-2.0.0 on 1 workers with\n",
      "\tbooster params: {'objective': 'binary:logistic', 'device': 'cpu', 'max_depth': 5, 'nthread': 1}\n",
      "\ttrain_call_kwargs_params: {'verbose_eval': True, 'num_boost_round': 200}\n",
      "\tdmatrix_kwargs: {'nthread': 1, 'missing': nan}\n",
      "[06:17:07] task 0 got new rank 0                                    (0 + 1) / 1]\n",
      "2023-10-12 06:17:10,123 INFO XGBoost-PySpark: _fit Finished xgboost training!   \n",
      "INFO:XGBoost-PySpark:Finished xgboost training!\n",
      "INFO:XGBoost-PySpark:Do the inference on the CPUs                               \n",
      "2023-10-12 06:17:13,724 INFO XGBoost-PySpark: predict_udf Do the inference on the CPUs\n",
      "INFO:XGBoost-PySpark:Do the inference on the CPUs\n",
      "INFO:XGBoost-PySpark:Do the inference on the CPUs                   (2 + 2) / 4]\n",
      "2023-10-12 06:17:14,355 INFO XGBoost-PySpark: predict_udf Do the inference on the CPUs\n",
      "INFO:XGBoost-PySpark:Do the inference on the CPUs\n",
      "INFO:XGBoost-PySpark:Do the inference on the CPUs                               \n",
      "2023-10-12 06:17:17,634 INFO XGBoost-PySpark: predict_udf Do the inference on the CPUs\n",
      "INFO:XGBoost-PySpark:Do the inference on the CPUs\n",
      "INFO:XGBoost-PySpark:Do the inference on the CPUs                   (2 + 2) / 4]\n",
      "2023-10-12 06:17:18,165 INFO XGBoost-PySpark: predict_udf Do the inference on the CPUs\n",
      "INFO:XGBoost-PySpark:Do the inference on the CPUs\n",
      "2023-10-12 06:17:21,451 INFO XGBoost-PySpark: predict_udf Do the inference on the CPUs\n",
      "INFO:XGBoost-PySpark:Do the inference on the CPUs\n",
      "INFO:XGBoost-PySpark:Do the inference on the CPUs\n",
      "2023-10-12 06:17:22,047 INFO XGBoost-PySpark: predict_udf Do the inference on the CPUs\n",
      "INFO:XGBoost-PySpark:Do the inference on the CPUs\n",
      "INFO:XGBoost-PySpark:Do the inference on the CPUs\n",
      "2023-10-12 06:17:25,533 INFO XGBoost-PySpark: predict_udf Do the inference on the CPUs\n",
      "INFO:XGBoost-PySpark:Do the inference on the CPUs\n",
      "INFO:XGBoost-PySpark:Do the inference on the CPUs\n",
      "2023-10-12 06:17:26,210 INFO XGBoost-PySpark: predict_udf Do the inference on the CPUs\n",
      "INFO:XGBoost-PySpark:Do the inference on the CPUs\n",
      "INFO:XGBoost-PySpark:Do the inference on the CPUs=====>             (3 + 1) / 4]\n",
      "INFO:XGBoost-PySpark:Do the inference on the CPUs                               \n",
      "2023-10-12 06:17:29,759 INFO XGBoost-PySpark: predict_udf Do the inference on the CPUs\n",
      "INFO:XGBoost-PySpark:Do the inference on the CPUs\n",
      "INFO:XGBoost-PySpark:Do the inference on the CPUs                   (1 + 2) / 4]\n",
      "2023-10-12 06:17:30,430 INFO XGBoost-PySpark: predict_udf Do the inference on the CPUs\n",
      "INFO:XGBoost-PySpark:Do the inference on the CPUs\n",
      "                                                                                \r"
     ]
    },
    {
     "name": "stdout",
     "output_type": "stream",
     "text": [
      "MAX_DEPTH: 5 N_ESTIMATORS: 200 ACCURACY: 0.7294 F1: 0.7289 auc: 0.7971\n"
     ]
    },
    {
     "name": "stderr",
     "output_type": "stream",
     "text": [
      "2023-10-12 06:17:37,210 INFO XGBoost-PySpark: _fit Running xgboost-2.0.0 on 1 workers with\n",
      "\tbooster params: {'objective': 'binary:logistic', 'device': 'cpu', 'max_depth': 5, 'nthread': 1}\n",
      "\ttrain_call_kwargs_params: {'verbose_eval': True, 'num_boost_round': 250}\n",
      "\tdmatrix_kwargs: {'nthread': 1, 'missing': nan}\n",
      "INFO:XGBoost-PySpark:Running xgboost-2.0.0 on 1 workers with\n",
      "\tbooster params: {'objective': 'binary:logistic', 'device': 'cpu', 'max_depth': 5, 'nthread': 1}\n",
      "\ttrain_call_kwargs_params: {'verbose_eval': True, 'num_boost_round': 250}\n",
      "\tdmatrix_kwargs: {'nthread': 1, 'missing': nan}\n",
      "[06:17:41] task 0 got new rank 0                                    (0 + 1) / 1]\n",
      "2023-10-12 06:17:44,194 INFO XGBoost-PySpark: _fit Finished xgboost training!   \n",
      "INFO:XGBoost-PySpark:Finished xgboost training!\n",
      "INFO:XGBoost-PySpark:Do the inference on the CPUs                               \n",
      "2023-10-12 06:17:47,790 INFO XGBoost-PySpark: predict_udf Do the inference on the CPUs\n",
      "INFO:XGBoost-PySpark:Do the inference on the CPUs\n",
      "INFO:XGBoost-PySpark:Do the inference on the CPUs                   (2 + 2) / 4]\n",
      "2023-10-12 06:17:48,429 INFO XGBoost-PySpark: predict_udf Do the inference on the CPUs\n",
      "INFO:XGBoost-PySpark:Do the inference on the CPUs\n",
      "INFO:XGBoost-PySpark:Do the inference on the CPUs                               \n",
      "2023-10-12 06:17:51,736 INFO XGBoost-PySpark: predict_udf Do the inference on the CPUs\n",
      "INFO:XGBoost-PySpark:Do the inference on the CPUs\n",
      "2023-10-12 06:17:52,268 INFO XGBoost-PySpark: predict_udf Do the inference on the CPUs\n",
      "INFO:XGBoost-PySpark:Do the inference on the CPUs\n",
      "INFO:XGBoost-PySpark:Do the inference on the CPUs=====>             (3 + 1) / 4]\n",
      "2023-10-12 06:17:55,861 INFO XGBoost-PySpark: predict_udf Do the inference on the CPUs\n",
      "INFO:XGBoost-PySpark:Do the inference on the CPUs\n",
      "INFO:XGBoost-PySpark:Do the inference on the CPUs\n",
      "INFO:XGBoost-PySpark:Do the inference on the CPUs                   (2 + 2) / 4]\n",
      "2023-10-12 06:17:56,676 INFO XGBoost-PySpark: predict_udf Do the inference on the CPUs\n",
      "INFO:XGBoost-PySpark:Do the inference on the CPUs\n",
      "INFO:XGBoost-PySpark:Do the inference on the CPUs                               \n",
      "2023-10-12 06:18:00,230 INFO XGBoost-PySpark: predict_udf Do the inference on the CPUs\n",
      "INFO:XGBoost-PySpark:Do the inference on the CPUs\n",
      "2023-10-12 06:18:00,865 INFO XGBoost-PySpark: predict_udf Do the inference on the CPUs\n",
      "INFO:XGBoost-PySpark:Do the inference on the CPUs\n",
      "INFO:XGBoost-PySpark:Do the inference on the CPUs\n",
      "INFO:XGBoost-PySpark:Do the inference on the CPUs                   (0 + 2) / 4]\n",
      "2023-10-12 06:18:04,688 INFO XGBoost-PySpark: predict_udf Do the inference on the CPUs\n",
      "INFO:XGBoost-PySpark:Do the inference on the CPUs\n",
      "INFO:XGBoost-PySpark:Do the inference on the CPUs                   (2 + 2) / 4]\n",
      "2023-10-12 06:18:05,359 INFO XGBoost-PySpark: predict_udf Do the inference on the CPUs\n",
      "INFO:XGBoost-PySpark:Do the inference on the CPUs\n",
      "                                                                                \r"
     ]
    },
    {
     "name": "stdout",
     "output_type": "stream",
     "text": [
      "MAX_DEPTH: 5 N_ESTIMATORS: 250 ACCURACY: 0.7329 F1: 0.7325 auc: 0.7971\n"
     ]
    },
    {
     "name": "stderr",
     "output_type": "stream",
     "text": [
      "2023-10-12 06:18:12,456 INFO XGBoost-PySpark: _fit Running xgboost-2.0.0 on 1 workers with\n",
      "\tbooster params: {'objective': 'binary:logistic', 'device': 'cpu', 'max_depth': 6, 'nthread': 1}\n",
      "\ttrain_call_kwargs_params: {'verbose_eval': True, 'num_boost_round': 50}\n",
      "\tdmatrix_kwargs: {'nthread': 1, 'missing': nan}\n",
      "INFO:XGBoost-PySpark:Running xgboost-2.0.0 on 1 workers with\n",
      "\tbooster params: {'objective': 'binary:logistic', 'device': 'cpu', 'max_depth': 6, 'nthread': 1}\n",
      "\ttrain_call_kwargs_params: {'verbose_eval': True, 'num_boost_round': 50}\n",
      "\tdmatrix_kwargs: {'nthread': 1, 'missing': nan}\n",
      "[06:18:15] task 0 got new rank 0                                    (0 + 1) / 1]\n",
      "2023-10-12 06:18:17,134 INFO XGBoost-PySpark: _fit Finished xgboost training!   \n",
      "INFO:XGBoost-PySpark:Finished xgboost training!\n",
      "INFO:XGBoost-PySpark:Do the inference on the CPUs                               \n",
      "2023-10-12 06:18:19,393 INFO XGBoost-PySpark: predict_udf Do the inference on the CPUs\n",
      "INFO:XGBoost-PySpark:Do the inference on the CPUs\n",
      "INFO:XGBoost-PySpark:Do the inference on the CPUs\n",
      "2023-10-12 06:18:19,750 INFO XGBoost-PySpark: predict_udf Do the inference on the CPUs\n",
      "INFO:XGBoost-PySpark:Do the inference on the CPUs\n",
      "INFO:XGBoost-PySpark:Do the inference on the CPUs                               \n",
      "2023-10-12 06:18:21,661 INFO XGBoost-PySpark: predict_udf Do the inference on the CPUs\n",
      "INFO:XGBoost-PySpark:Do the inference on the CPUs\n",
      "2023-10-12 06:18:21,968 INFO XGBoost-PySpark: predict_udf Do the inference on the CPUs\n",
      "INFO:XGBoost-PySpark:Do the inference on the CPUs\n",
      "INFO:XGBoost-PySpark:Do the inference on the CPUs\n",
      "2023-10-12 06:18:24,038 INFO XGBoost-PySpark: predict_udf Do the inference on the CPUs\n",
      "INFO:XGBoost-PySpark:Do the inference on the CPUs\n",
      "INFO:XGBoost-PySpark:Do the inference on the CPUs\n",
      "2023-10-12 06:18:24,324 INFO XGBoost-PySpark: predict_udf Do the inference on the CPUs\n",
      "INFO:XGBoost-PySpark:Do the inference on the CPUs\n",
      "INFO:XGBoost-PySpark:Do the inference on the CPUs=====>             (3 + 1) / 4]\n",
      "INFO:XGBoost-PySpark:Do the inference on the CPUs                               \n",
      "2023-10-12 06:18:26,349 INFO XGBoost-PySpark: predict_udf Do the inference on the CPUs\n",
      "INFO:XGBoost-PySpark:Do the inference on the CPUs\n",
      "INFO:XGBoost-PySpark:Do the inference on the CPUs                   (2 + 2) / 4]\n",
      "2023-10-12 06:18:26,770 INFO XGBoost-PySpark: predict_udf Do the inference on the CPUs\n",
      "INFO:XGBoost-PySpark:Do the inference on the CPUs\n",
      "INFO:XGBoost-PySpark:Do the inference on the CPUs                               \n",
      "2023-10-12 06:18:28,625 INFO XGBoost-PySpark: predict_udf Do the inference on the CPUs\n",
      "INFO:XGBoost-PySpark:Do the inference on the CPUs\n",
      "INFO:XGBoost-PySpark:Do the inference on the CPUs\n",
      "2023-10-12 06:18:29,006 INFO XGBoost-PySpark: predict_udf Do the inference on the CPUs\n",
      "INFO:XGBoost-PySpark:Do the inference on the CPUs\n",
      "                                                                                \r"
     ]
    },
    {
     "name": "stdout",
     "output_type": "stream",
     "text": [
      "MAX_DEPTH: 6 N_ESTIMATORS: 50 ACCURACY: 0.7333 F1: 0.7326 auc: 0.7962\n"
     ]
    },
    {
     "name": "stderr",
     "output_type": "stream",
     "text": [
      "2023-10-12 06:18:32,995 INFO XGBoost-PySpark: _fit Running xgboost-2.0.0 on 1 workers with\n",
      "\tbooster params: {'objective': 'binary:logistic', 'device': 'cpu', 'max_depth': 6, 'nthread': 1}\n",
      "\ttrain_call_kwargs_params: {'verbose_eval': True, 'num_boost_round': 100}\n",
      "\tdmatrix_kwargs: {'nthread': 1, 'missing': nan}\n",
      "INFO:XGBoost-PySpark:Running xgboost-2.0.0 on 1 workers with\n",
      "\tbooster params: {'objective': 'binary:logistic', 'device': 'cpu', 'max_depth': 6, 'nthread': 1}\n",
      "\ttrain_call_kwargs_params: {'verbose_eval': True, 'num_boost_round': 100}\n",
      "\tdmatrix_kwargs: {'nthread': 1, 'missing': nan}\n",
      "[06:18:36] task 0 got new rank 0                                    (0 + 1) / 1]\n",
      "2023-10-12 06:18:37,858 INFO XGBoost-PySpark: _fit Finished xgboost training!   \n",
      "INFO:XGBoost-PySpark:Finished xgboost training!\n",
      "2023-10-12 06:18:39,869 INFO XGBoost-PySpark: predict_udf Do the inference on the CPUs\n",
      "INFO:XGBoost-PySpark:Do the inference on the CPUs\n",
      "INFO:XGBoost-PySpark:Do the inference on the CPUs\n",
      "INFO:XGBoost-PySpark:Do the inference on the CPUs\n",
      "2023-10-12 06:18:40,247 INFO XGBoost-PySpark: predict_udf Do the inference on the CPUs\n",
      "INFO:XGBoost-PySpark:Do the inference on the CPUs\n",
      "2023-10-12 06:18:42,129 INFO XGBoost-PySpark: predict_udf Do the inference on the CPUs\n",
      "INFO:XGBoost-PySpark:Do the inference on the CPUs\n",
      "INFO:XGBoost-PySpark:Do the inference on the CPUs\n",
      "INFO:XGBoost-PySpark:Do the inference on the CPUs\n",
      "2023-10-12 06:18:42,526 INFO XGBoost-PySpark: predict_udf Do the inference on the CPUs\n",
      "INFO:XGBoost-PySpark:Do the inference on the CPUs\n",
      "INFO:XGBoost-PySpark:Do the inference on the CPUs                               \n",
      "2023-10-12 06:18:44,435 INFO XGBoost-PySpark: predict_udf Do the inference on the CPUs\n",
      "INFO:XGBoost-PySpark:Do the inference on the CPUs\n",
      "2023-10-12 06:18:44,678 INFO XGBoost-PySpark: predict_udf Do the inference on the CPUs\n",
      "INFO:XGBoost-PySpark:Do the inference on the CPUs\n",
      "INFO:XGBoost-PySpark:Do the inference on the CPUs\n",
      "INFO:XGBoost-PySpark:Do the inference on the CPUs                               \n",
      "2023-10-12 06:18:46,682 INFO XGBoost-PySpark: predict_udf Do the inference on the CPUs\n",
      "INFO:XGBoost-PySpark:Do the inference on the CPUs\n",
      "2023-10-12 06:18:46,883 INFO XGBoost-PySpark: predict_udf Do the inference on the CPUs\n",
      "INFO:XGBoost-PySpark:Do the inference on the CPUs\n",
      "INFO:XGBoost-PySpark:Do the inference on the CPUs\n",
      "INFO:XGBoost-PySpark:Do the inference on the CPUs                               \n",
      "2023-10-12 06:18:48,933 INFO XGBoost-PySpark: predict_udf Do the inference on the CPUs\n",
      "INFO:XGBoost-PySpark:Do the inference on the CPUs\n",
      "INFO:XGBoost-PySpark:Do the inference on the CPUs                   (2 + 2) / 4]\n",
      "2023-10-12 06:18:49,346 INFO XGBoost-PySpark: predict_udf Do the inference on the CPUs\n",
      "INFO:XGBoost-PySpark:Do the inference on the CPUs\n",
      "                                                                                \r"
     ]
    },
    {
     "name": "stdout",
     "output_type": "stream",
     "text": [
      "MAX_DEPTH: 6 N_ESTIMATORS: 100 ACCURACY: 0.7299 F1: 0.7293 auc: 0.7964\n"
     ]
    },
    {
     "name": "stderr",
     "output_type": "stream",
     "text": [
      "2023-10-12 06:18:53,408 INFO XGBoost-PySpark: _fit Running xgboost-2.0.0 on 1 workers with\n",
      "\tbooster params: {'objective': 'binary:logistic', 'device': 'cpu', 'max_depth': 6, 'nthread': 1}\n",
      "\ttrain_call_kwargs_params: {'verbose_eval': True, 'num_boost_round': 150}\n",
      "\tdmatrix_kwargs: {'nthread': 1, 'missing': nan}\n",
      "INFO:XGBoost-PySpark:Running xgboost-2.0.0 on 1 workers with\n",
      "\tbooster params: {'objective': 'binary:logistic', 'device': 'cpu', 'max_depth': 6, 'nthread': 1}\n",
      "\ttrain_call_kwargs_params: {'verbose_eval': True, 'num_boost_round': 150}\n",
      "\tdmatrix_kwargs: {'nthread': 1, 'missing': nan}\n",
      "[06:18:56] task 0 got new rank 0                                    (0 + 1) / 1]\n",
      "2023-10-12 06:18:58,585 INFO XGBoost-PySpark: _fit Finished xgboost training!   \n",
      "INFO:XGBoost-PySpark:Finished xgboost training!\n",
      "2023-10-12 06:19:00,655 INFO XGBoost-PySpark: predict_udf Do the inference on the CPUs\n",
      "INFO:XGBoost-PySpark:Do the inference on the CPUs\n",
      "INFO:XGBoost-PySpark:Do the inference on the CPUs\n",
      "INFO:XGBoost-PySpark:Do the inference on the CPUs\n",
      "2023-10-12 06:19:01,124 INFO XGBoost-PySpark: predict_udf Do the inference on the CPUs\n",
      "INFO:XGBoost-PySpark:Do the inference on the CPUs\n",
      "2023-10-12 06:19:03,030 INFO XGBoost-PySpark: predict_udf Do the inference on the CPUs\n",
      "INFO:XGBoost-PySpark:Do the inference on the CPUs\n",
      "INFO:XGBoost-PySpark:Do the inference on the CPUs\n",
      "2023-10-12 06:19:03,369 INFO XGBoost-PySpark: predict_udf Do the inference on the CPUs\n",
      "INFO:XGBoost-PySpark:Do the inference on the CPUs\n",
      "INFO:XGBoost-PySpark:Do the inference on the CPUs\n",
      "2023-10-12 06:19:05,291 INFO XGBoost-PySpark: predict_udf Do the inference on the CPUs\n",
      "INFO:XGBoost-PySpark:Do the inference on the CPUs\n",
      "INFO:XGBoost-PySpark:Do the inference on the CPUs\n",
      "2023-10-12 06:19:05,595 INFO XGBoost-PySpark: predict_udf Do the inference on the CPUs\n",
      "INFO:XGBoost-PySpark:Do the inference on the CPUs\n",
      "INFO:XGBoost-PySpark:Do the inference on the CPUs                   (2 + 2) / 4]\n",
      "INFO:XGBoost-PySpark:Do the inference on the CPUs                               \n",
      "2023-10-12 06:19:07,561 INFO XGBoost-PySpark: predict_udf Do the inference on the CPUs\n",
      "INFO:XGBoost-PySpark:Do the inference on the CPUs\n",
      "INFO:XGBoost-PySpark:Do the inference on the CPUs\n",
      "2023-10-12 06:19:07,908 INFO XGBoost-PySpark: predict_udf Do the inference on the CPUs\n",
      "INFO:XGBoost-PySpark:Do the inference on the CPUs\n",
      "INFO:XGBoost-PySpark:Do the inference on the CPUs                               \n",
      "2023-10-12 06:19:09,782 INFO XGBoost-PySpark: predict_udf Do the inference on the CPUs\n",
      "INFO:XGBoost-PySpark:Do the inference on the CPUs\n",
      "INFO:XGBoost-PySpark:Do the inference on the CPUs                   (2 + 2) / 4]\n",
      "2023-10-12 06:19:10,163 INFO XGBoost-PySpark: predict_udf Do the inference on the CPUs\n",
      "INFO:XGBoost-PySpark:Do the inference on the CPUs\n",
      "                                                                                \r"
     ]
    },
    {
     "name": "stdout",
     "output_type": "stream",
     "text": [
      "MAX_DEPTH: 6 N_ESTIMATORS: 150 ACCURACY: 0.7304 F1: 0.7298 auc: 0.7960\n"
     ]
    },
    {
     "name": "stderr",
     "output_type": "stream",
     "text": [
      "2023-10-12 06:19:14,137 INFO XGBoost-PySpark: _fit Running xgboost-2.0.0 on 1 workers with\n",
      "\tbooster params: {'objective': 'binary:logistic', 'device': 'cpu', 'max_depth': 6, 'nthread': 1}\n",
      "\ttrain_call_kwargs_params: {'verbose_eval': True, 'num_boost_round': 200}\n",
      "\tdmatrix_kwargs: {'nthread': 1, 'missing': nan}\n",
      "INFO:XGBoost-PySpark:Running xgboost-2.0.0 on 1 workers with\n",
      "\tbooster params: {'objective': 'binary:logistic', 'device': 'cpu', 'max_depth': 6, 'nthread': 1}\n",
      "\ttrain_call_kwargs_params: {'verbose_eval': True, 'num_boost_round': 200}\n",
      "\tdmatrix_kwargs: {'nthread': 1, 'missing': nan}\n",
      "[06:19:17] task 0 got new rank 0                                    (0 + 1) / 1]\n",
      "2023-10-12 06:19:19,863 INFO XGBoost-PySpark: _fit Finished xgboost training!   \n",
      "INFO:XGBoost-PySpark:Finished xgboost training!\n",
      "2023-10-12 06:19:21,990 INFO XGBoost-PySpark: predict_udf Do the inference on the CPUs\n",
      "INFO:XGBoost-PySpark:Do the inference on the CPUs\n",
      "INFO:XGBoost-PySpark:Do the inference on the CPUs\n",
      "2023-10-12 06:19:22,346 INFO XGBoost-PySpark: predict_udf Do the inference on the CPUs\n",
      "INFO:XGBoost-PySpark:Do the inference on the CPUs\n",
      "INFO:XGBoost-PySpark:Do the inference on the CPUs\n",
      "2023-10-12 06:19:24,229 INFO XGBoost-PySpark: predict_udf Do the inference on the CPUs\n",
      "INFO:XGBoost-PySpark:Do the inference on the CPUs\n",
      "INFO:XGBoost-PySpark:Do the inference on the CPUs\n",
      "INFO:XGBoost-PySpark:Do the inference on the CPUs\n",
      "2023-10-12 06:19:24,659 INFO XGBoost-PySpark: predict_udf Do the inference on the CPUs\n",
      "INFO:XGBoost-PySpark:Do the inference on the CPUs\n",
      "INFO:XGBoost-PySpark:Do the inference on the CPUs                               \n",
      "2023-10-12 06:19:26,634 INFO XGBoost-PySpark: predict_udf Do the inference on the CPUs\n",
      "INFO:XGBoost-PySpark:Do the inference on the CPUs\n",
      "2023-10-12 06:19:26,976 INFO XGBoost-PySpark: predict_udf Do the inference on the CPUs\n",
      "INFO:XGBoost-PySpark:Do the inference on the CPUs\n",
      "INFO:XGBoost-PySpark:Do the inference on the CPUs\n",
      "INFO:XGBoost-PySpark:Do the inference on the CPUs                               \n",
      "2023-10-12 06:19:28,842 INFO XGBoost-PySpark: predict_udf Do the inference on the CPUs\n",
      "INFO:XGBoost-PySpark:Do the inference on the CPUs\n",
      "2023-10-12 06:19:29,146 INFO XGBoost-PySpark: predict_udf Do the inference on the CPUs\n",
      "INFO:XGBoost-PySpark:Do the inference on the CPUs\n",
      "INFO:XGBoost-PySpark:Do the inference on the CPUs                   (2 + 2) / 4]\n",
      "2023-10-12 06:19:31,214 INFO XGBoost-PySpark: predict_udf Do the inference on the CPUs\n",
      "INFO:XGBoost-PySpark:Do the inference on the CPUs\n",
      "INFO:XGBoost-PySpark:Do the inference on the CPUs\n",
      "2023-10-12 06:19:31,584 INFO XGBoost-PySpark: predict_udf Do the inference on the CPUs\n",
      "INFO:XGBoost-PySpark:Do the inference on the CPUs\n",
      "INFO:XGBoost-PySpark:Do the inference on the CPUs\n",
      "                                                                                \r"
     ]
    },
    {
     "name": "stdout",
     "output_type": "stream",
     "text": [
      "MAX_DEPTH: 6 N_ESTIMATORS: 200 ACCURACY: 0.7306 F1: 0.7302 auc: 0.7955\n"
     ]
    },
    {
     "name": "stderr",
     "output_type": "stream",
     "text": [
      "2023-10-12 06:19:35,534 INFO XGBoost-PySpark: _fit Running xgboost-2.0.0 on 1 workers with\n",
      "\tbooster params: {'objective': 'binary:logistic', 'device': 'cpu', 'max_depth': 6, 'nthread': 1}\n",
      "\ttrain_call_kwargs_params: {'verbose_eval': True, 'num_boost_round': 250}\n",
      "\tdmatrix_kwargs: {'nthread': 1, 'missing': nan}\n",
      "INFO:XGBoost-PySpark:Running xgboost-2.0.0 on 1 workers with\n",
      "\tbooster params: {'objective': 'binary:logistic', 'device': 'cpu', 'max_depth': 6, 'nthread': 1}\n",
      "\ttrain_call_kwargs_params: {'verbose_eval': True, 'num_boost_round': 250}\n",
      "\tdmatrix_kwargs: {'nthread': 1, 'missing': nan}\n",
      "[06:19:38] task 0 got new rank 0                                    (0 + 1) / 1]\n",
      "2023-10-12 06:19:41,172 INFO XGBoost-PySpark: _fit Finished xgboost training!   \n",
      "INFO:XGBoost-PySpark:Finished xgboost training!\n",
      "INFO:XGBoost-PySpark:Do the inference on the CPUs                               \n",
      "2023-10-12 06:19:43,265 INFO XGBoost-PySpark: predict_udf Do the inference on the CPUs\n",
      "INFO:XGBoost-PySpark:Do the inference on the CPUs\n",
      "2023-10-12 06:19:43,592 INFO XGBoost-PySpark: predict_udf Do the inference on the CPUs\n",
      "INFO:XGBoost-PySpark:Do the inference on the CPUs\n",
      "INFO:XGBoost-PySpark:Do the inference on the CPUs=====>             (3 + 1) / 4]\n",
      "INFO:XGBoost-PySpark:Do the inference on the CPUs                               \n",
      "2023-10-12 06:19:45,630 INFO XGBoost-PySpark: predict_udf Do the inference on the CPUs\n",
      "INFO:XGBoost-PySpark:Do the inference on the CPUs\n",
      "INFO:XGBoost-PySpark:Do the inference on the CPUs                   (2 + 2) / 4]\n",
      "2023-10-12 06:19:45,993 INFO XGBoost-PySpark: predict_udf Do the inference on the CPUs\n",
      "INFO:XGBoost-PySpark:Do the inference on the CPUs\n",
      "INFO:XGBoost-PySpark:Do the inference on the CPUs                               \n",
      "2023-10-12 06:19:47,917 INFO XGBoost-PySpark: predict_udf Do the inference on the CPUs\n",
      "INFO:XGBoost-PySpark:Do the inference on the CPUs\n",
      "INFO:XGBoost-PySpark:Do the inference on the CPUs\n",
      "2023-10-12 06:19:48,278 INFO XGBoost-PySpark: predict_udf Do the inference on the CPUs\n",
      "INFO:XGBoost-PySpark:Do the inference on the CPUs\n",
      "2023-10-12 06:19:50,166 INFO XGBoost-PySpark: predict_udf Do the inference on the CPUs\n",
      "INFO:XGBoost-PySpark:Do the inference on the CPUs\n",
      "INFO:XGBoost-PySpark:Do the inference on the CPUs\n",
      "INFO:XGBoost-PySpark:Do the inference on the CPUs\n",
      "2023-10-12 06:19:50,532 INFO XGBoost-PySpark: predict_udf Do the inference on the CPUs\n",
      "INFO:XGBoost-PySpark:Do the inference on the CPUs\n",
      "INFO:XGBoost-PySpark:Do the inference on the CPUs                               \n",
      "2023-10-12 06:19:52,539 INFO XGBoost-PySpark: predict_udf Do the inference on the CPUs\n",
      "INFO:XGBoost-PySpark:Do the inference on the CPUs\n",
      "INFO:XGBoost-PySpark:Do the inference on the CPUs                   (2 + 2) / 4]\n",
      "2023-10-12 06:19:52,862 INFO XGBoost-PySpark: predict_udf Do the inference on the CPUs\n",
      "INFO:XGBoost-PySpark:Do the inference on the CPUs\n",
      "                                                                                \r"
     ]
    },
    {
     "name": "stdout",
     "output_type": "stream",
     "text": [
      "MAX_DEPTH: 6 N_ESTIMATORS: 250 ACCURACY: 0.7317 F1: 0.7314 auc: 0.7953\n"
     ]
    },
    {
     "name": "stderr",
     "output_type": "stream",
     "text": [
      "2023-10-12 06:19:56,766 INFO XGBoost-PySpark: _fit Running xgboost-2.0.0 on 1 workers with\n",
      "\tbooster params: {'objective': 'binary:logistic', 'device': 'cpu', 'max_depth': 7, 'nthread': 1}\n",
      "\ttrain_call_kwargs_params: {'verbose_eval': True, 'num_boost_round': 50}\n",
      "\tdmatrix_kwargs: {'nthread': 1, 'missing': nan}\n",
      "INFO:XGBoost-PySpark:Running xgboost-2.0.0 on 1 workers with\n",
      "\tbooster params: {'objective': 'binary:logistic', 'device': 'cpu', 'max_depth': 7, 'nthread': 1}\n",
      "\ttrain_call_kwargs_params: {'verbose_eval': True, 'num_boost_round': 50}\n",
      "\tdmatrix_kwargs: {'nthread': 1, 'missing': nan}\n",
      "[06:19:59] task 0 got new rank 0                                    (0 + 1) / 1]\n",
      "2023-10-12 06:20:01,485 INFO XGBoost-PySpark: _fit Finished xgboost training!   \n",
      "INFO:XGBoost-PySpark:Finished xgboost training!\n",
      "2023-10-12 06:20:03,588 INFO XGBoost-PySpark: predict_udf Do the inference on the CPUs\n",
      "INFO:XGBoost-PySpark:Do the inference on the CPUs\n",
      "INFO:XGBoost-PySpark:Do the inference on the CPUs\n",
      "2023-10-12 06:20:03,860 INFO XGBoost-PySpark: predict_udf Do the inference on the CPUs\n",
      "INFO:XGBoost-PySpark:Do the inference on the CPUs\n",
      "INFO:XGBoost-PySpark:Do the inference on the CPUs\n",
      "INFO:XGBoost-PySpark:Do the inference on the CPUs                               \n",
      "2023-10-12 06:20:05,918 INFO XGBoost-PySpark: predict_udf Do the inference on the CPUs\n",
      "INFO:XGBoost-PySpark:Do the inference on the CPUs\n",
      "2023-10-12 06:20:06,200 INFO XGBoost-PySpark: predict_udf Do the inference on the CPUs\n",
      "INFO:XGBoost-PySpark:Do the inference on the CPUs\n",
      "INFO:XGBoost-PySpark:Do the inference on the CPUs                   (2 + 2) / 4]\n",
      "2023-10-12 06:20:08,168 INFO XGBoost-PySpark: predict_udf Do the inference on the CPUs\n",
      "INFO:XGBoost-PySpark:Do the inference on the CPUs\n",
      "INFO:XGBoost-PySpark:Do the inference on the CPUs\n",
      "2023-10-12 06:20:08,405 INFO XGBoost-PySpark: predict_udf Do the inference on the CPUs\n",
      "INFO:XGBoost-PySpark:Do the inference on the CPUs\n",
      "INFO:XGBoost-PySpark:Do the inference on the CPUs\n",
      "2023-10-12 06:20:10,531 INFO XGBoost-PySpark: predict_udf Do the inference on the CPUs\n",
      "INFO:XGBoost-PySpark:Do the inference on the CPUs\n",
      "INFO:XGBoost-PySpark:Do the inference on the CPUs\n",
      "2023-10-12 06:20:10,743 INFO XGBoost-PySpark: predict_udf Do the inference on the CPUs\n",
      "INFO:XGBoost-PySpark:Do the inference on the CPUs\n",
      "INFO:XGBoost-PySpark:Do the inference on the CPUs=====>             (3 + 1) / 4]\n",
      "INFO:XGBoost-PySpark:Do the inference on the CPUs                               \n",
      "2023-10-12 06:20:12,763 INFO XGBoost-PySpark: predict_udf Do the inference on the CPUs\n",
      "INFO:XGBoost-PySpark:Do the inference on the CPUs\n",
      "INFO:XGBoost-PySpark:Do the inference on the CPUs\n",
      "2023-10-12 06:20:13,120 INFO XGBoost-PySpark: predict_udf Do the inference on the CPUs\n",
      "INFO:XGBoost-PySpark:Do the inference on the CPUs\n",
      "                                                                                \r"
     ]
    },
    {
     "name": "stdout",
     "output_type": "stream",
     "text": [
      "MAX_DEPTH: 7 N_ESTIMATORS: 50 ACCURACY: 0.7306 F1: 0.7299 auc: 0.7968\n"
     ]
    },
    {
     "name": "stderr",
     "output_type": "stream",
     "text": [
      "2023-10-12 06:20:17,153 INFO XGBoost-PySpark: _fit Running xgboost-2.0.0 on 1 workers with\n",
      "\tbooster params: {'objective': 'binary:logistic', 'device': 'cpu', 'max_depth': 7, 'nthread': 1}\n",
      "\ttrain_call_kwargs_params: {'verbose_eval': True, 'num_boost_round': 100}\n",
      "\tdmatrix_kwargs: {'nthread': 1, 'missing': nan}\n",
      "INFO:XGBoost-PySpark:Running xgboost-2.0.0 on 1 workers with\n",
      "\tbooster params: {'objective': 'binary:logistic', 'device': 'cpu', 'max_depth': 7, 'nthread': 1}\n",
      "\ttrain_call_kwargs_params: {'verbose_eval': True, 'num_boost_round': 100}\n",
      "\tdmatrix_kwargs: {'nthread': 1, 'missing': nan}\n",
      "[06:20:20] task 0 got new rank 0                                    (0 + 1) / 1]\n",
      "2023-10-12 06:20:22,109 INFO XGBoost-PySpark: _fit Finished xgboost training!   \n",
      "INFO:XGBoost-PySpark:Finished xgboost training!\n",
      "INFO:XGBoost-PySpark:Do the inference on the CPUs                               \n",
      "2023-10-12 06:20:24,250 INFO XGBoost-PySpark: predict_udf Do the inference on the CPUs\n",
      "INFO:XGBoost-PySpark:Do the inference on the CPUs\n",
      "INFO:XGBoost-PySpark:Do the inference on the CPUs\n",
      "2023-10-12 06:20:24,558 INFO XGBoost-PySpark: predict_udf Do the inference on the CPUs\n",
      "INFO:XGBoost-PySpark:Do the inference on the CPUs\n",
      "INFO:XGBoost-PySpark:Do the inference on the CPUs                               \n",
      "2023-10-12 06:20:26,599 INFO XGBoost-PySpark: predict_udf Do the inference on the CPUs\n",
      "INFO:XGBoost-PySpark:Do the inference on the CPUs\n",
      "INFO:XGBoost-PySpark:Do the inference on the CPUs\n",
      "2023-10-12 06:20:26,899 INFO XGBoost-PySpark: predict_udf Do the inference on the CPUs\n",
      "INFO:XGBoost-PySpark:Do the inference on the CPUs\n",
      "2023-10-12 06:20:28,770 INFO XGBoost-PySpark: predict_udf Do the inference on the CPUs\n",
      "INFO:XGBoost-PySpark:Do the inference on the CPUs\n",
      "INFO:XGBoost-PySpark:Do the inference on the CPUs\n",
      "INFO:XGBoost-PySpark:Do the inference on the CPUs\n",
      "2023-10-12 06:20:29,171 INFO XGBoost-PySpark: predict_udf Do the inference on the CPUs\n",
      "INFO:XGBoost-PySpark:Do the inference on the CPUs\n",
      "2023-10-12 06:20:31,001 INFO XGBoost-PySpark: predict_udf Do the inference on the CPUs\n",
      "INFO:XGBoost-PySpark:Do the inference on the CPUs\n",
      "INFO:XGBoost-PySpark:Do the inference on the CPUs\n",
      "INFO:XGBoost-PySpark:Do the inference on the CPUs\n",
      "2023-10-12 06:20:31,389 INFO XGBoost-PySpark: predict_udf Do the inference on the CPUs\n",
      "INFO:XGBoost-PySpark:Do the inference on the CPUs\n",
      "INFO:XGBoost-PySpark:Do the inference on the CPUs                               \n",
      "2023-10-12 06:20:33,321 INFO XGBoost-PySpark: predict_udf Do the inference on the CPUs\n",
      "INFO:XGBoost-PySpark:Do the inference on the CPUs\n",
      "INFO:XGBoost-PySpark:Do the inference on the CPUs                   (2 + 2) / 4]\n",
      "2023-10-12 06:20:33,675 INFO XGBoost-PySpark: predict_udf Do the inference on the CPUs\n",
      "INFO:XGBoost-PySpark:Do the inference on the CPUs\n",
      "                                                                                \r"
     ]
    },
    {
     "name": "stdout",
     "output_type": "stream",
     "text": [
      "MAX_DEPTH: 7 N_ESTIMATORS: 100 ACCURACY: 0.7340 F1: 0.7335 auc: 0.7972\n"
     ]
    },
    {
     "name": "stderr",
     "output_type": "stream",
     "text": [
      "2023-10-12 06:20:37,636 INFO XGBoost-PySpark: _fit Running xgboost-2.0.0 on 1 workers with\n",
      "\tbooster params: {'objective': 'binary:logistic', 'device': 'cpu', 'max_depth': 7, 'nthread': 1}\n",
      "\ttrain_call_kwargs_params: {'verbose_eval': True, 'num_boost_round': 150}\n",
      "\tdmatrix_kwargs: {'nthread': 1, 'missing': nan}\n",
      "INFO:XGBoost-PySpark:Running xgboost-2.0.0 on 1 workers with\n",
      "\tbooster params: {'objective': 'binary:logistic', 'device': 'cpu', 'max_depth': 7, 'nthread': 1}\n",
      "\ttrain_call_kwargs_params: {'verbose_eval': True, 'num_boost_round': 150}\n",
      "\tdmatrix_kwargs: {'nthread': 1, 'missing': nan}\n",
      "[06:20:40] task 0 got new rank 0                                    (0 + 1) / 1]\n",
      "2023-10-12 06:20:42,853 INFO XGBoost-PySpark: _fit Finished xgboost training!   \n",
      "INFO:XGBoost-PySpark:Finished xgboost training!\n",
      "2023-10-12 06:20:44,933 INFO XGBoost-PySpark: predict_udf Do the inference on the CPUs\n",
      "INFO:XGBoost-PySpark:Do the inference on the CPUs\n",
      "INFO:XGBoost-PySpark:Do the inference on the CPUs\n",
      "2023-10-12 06:20:45,339 INFO XGBoost-PySpark: predict_udf Do the inference on the CPUs\n",
      "INFO:XGBoost-PySpark:Do the inference on the CPUs\n",
      "INFO:XGBoost-PySpark:Do the inference on the CPUs\n",
      "2023-10-12 06:20:47,260 INFO XGBoost-PySpark: predict_udf Do the inference on the CPUs\n",
      "INFO:XGBoost-PySpark:Do the inference on the CPUs\n",
      "INFO:XGBoost-PySpark:Do the inference on the CPUs\n",
      "INFO:XGBoost-PySpark:Do the inference on the CPUs\n",
      "2023-10-12 06:20:47,632 INFO XGBoost-PySpark: predict_udf Do the inference on the CPUs\n",
      "INFO:XGBoost-PySpark:Do the inference on the CPUs\n",
      "2023-10-12 06:20:49,492 INFO XGBoost-PySpark: predict_udf Do the inference on the CPUs\n",
      "INFO:XGBoost-PySpark:Do the inference on the CPUs\n",
      "INFO:XGBoost-PySpark:Do the inference on the CPUs\n",
      "INFO:XGBoost-PySpark:Do the inference on the CPUs                   (2 + 2) / 4]\n",
      "2023-10-12 06:20:49,902 INFO XGBoost-PySpark: predict_udf Do the inference on the CPUs\n",
      "INFO:XGBoost-PySpark:Do the inference on the CPUs\n",
      "INFO:XGBoost-PySpark:Do the inference on the CPUs                               \n",
      "2023-10-12 06:20:51,785 INFO XGBoost-PySpark: predict_udf Do the inference on the CPUs\n",
      "INFO:XGBoost-PySpark:Do the inference on the CPUs\n",
      "INFO:XGBoost-PySpark:Do the inference on the CPUs                   (2 + 2) / 4]\n",
      "2023-10-12 06:20:52,163 INFO XGBoost-PySpark: predict_udf Do the inference on the CPUs\n",
      "INFO:XGBoost-PySpark:Do the inference on the CPUs\n",
      "2023-10-12 06:20:54,054 INFO XGBoost-PySpark: predict_udf Do the inference on the CPUs\n",
      "INFO:XGBoost-PySpark:Do the inference on the CPUs\n",
      "INFO:XGBoost-PySpark:Do the inference on the CPUs\n",
      "2023-10-12 06:20:54,383 INFO XGBoost-PySpark: predict_udf Do the inference on the CPUs\n",
      "INFO:XGBoost-PySpark:Do the inference on the CPUs\n",
      "INFO:XGBoost-PySpark:Do the inference on the CPUs=====>             (3 + 1) / 4]\n",
      "                                                                                \r"
     ]
    },
    {
     "name": "stdout",
     "output_type": "stream",
     "text": [
      "MAX_DEPTH: 7 N_ESTIMATORS: 150 ACCURACY: 0.7314 F1: 0.7311 auc: 0.7954\n"
     ]
    },
    {
     "name": "stderr",
     "output_type": "stream",
     "text": [
      "2023-10-12 06:20:58,467 INFO XGBoost-PySpark: _fit Running xgboost-2.0.0 on 1 workers with\n",
      "\tbooster params: {'objective': 'binary:logistic', 'device': 'cpu', 'max_depth': 7, 'nthread': 1}\n",
      "\ttrain_call_kwargs_params: {'verbose_eval': True, 'num_boost_round': 200}\n",
      "\tdmatrix_kwargs: {'nthread': 1, 'missing': nan}\n",
      "INFO:XGBoost-PySpark:Running xgboost-2.0.0 on 1 workers with\n",
      "\tbooster params: {'objective': 'binary:logistic', 'device': 'cpu', 'max_depth': 7, 'nthread': 1}\n",
      "\ttrain_call_kwargs_params: {'verbose_eval': True, 'num_boost_round': 200}\n",
      "\tdmatrix_kwargs: {'nthread': 1, 'missing': nan}\n",
      "[06:21:01] task 0 got new rank 0                                    (0 + 1) / 1]\n",
      "2023-10-12 06:21:04,103 INFO XGBoost-PySpark: _fit Finished xgboost training!   \n",
      "INFO:XGBoost-PySpark:Finished xgboost training!\n",
      "INFO:XGBoost-PySpark:Do the inference on the CPUs                               \n",
      "2023-10-12 06:21:06,276 INFO XGBoost-PySpark: predict_udf Do the inference on the CPUs\n",
      "INFO:XGBoost-PySpark:Do the inference on the CPUs\n",
      "INFO:XGBoost-PySpark:Do the inference on the CPUs\n",
      "2023-10-12 06:21:06,579 INFO XGBoost-PySpark: predict_udf Do the inference on the CPUs\n",
      "INFO:XGBoost-PySpark:Do the inference on the CPUs\n",
      "2023-10-12 06:21:08,500 INFO XGBoost-PySpark: predict_udf Do the inference on the CPUs\n",
      "INFO:XGBoost-PySpark:Do the inference on the CPUs\n",
      "INFO:XGBoost-PySpark:Do the inference on the CPUs\n",
      "2023-10-12 06:21:08,804 INFO XGBoost-PySpark: predict_udf Do the inference on the CPUs\n",
      "INFO:XGBoost-PySpark:Do the inference on the CPUs\n",
      "INFO:XGBoost-PySpark:Do the inference on the CPUs\n",
      "2023-10-12 06:21:10,773 INFO XGBoost-PySpark: predict_udf Do the inference on the CPUs\n",
      "INFO:XGBoost-PySpark:Do the inference on the CPUs\n",
      "INFO:XGBoost-PySpark:Do the inference on the CPUs\n",
      "INFO:XGBoost-PySpark:Do the inference on the CPUs\n",
      "2023-10-12 06:21:11,080 INFO XGBoost-PySpark: predict_udf Do the inference on the CPUs\n",
      "INFO:XGBoost-PySpark:Do the inference on the CPUs\n",
      "2023-10-12 06:21:13,081 INFO XGBoost-PySpark: predict_udf Do the inference on the CPUs\n",
      "INFO:XGBoost-PySpark:Do the inference on the CPUs\n",
      "INFO:XGBoost-PySpark:Do the inference on the CPUs\n",
      "INFO:XGBoost-PySpark:Do the inference on the CPUs                   (2 + 2) / 4]\n",
      "2023-10-12 06:21:13,399 INFO XGBoost-PySpark: predict_udf Do the inference on the CPUs\n",
      "INFO:XGBoost-PySpark:Do the inference on the CPUs\n",
      "INFO:XGBoost-PySpark:Do the inference on the CPUs                               \n",
      "2023-10-12 06:21:15,295 INFO XGBoost-PySpark: predict_udf Do the inference on the CPUs\n",
      "INFO:XGBoost-PySpark:Do the inference on the CPUs\n",
      "INFO:XGBoost-PySpark:Do the inference on the CPUs                   (2 + 2) / 4]\n",
      "2023-10-12 06:21:15,616 INFO XGBoost-PySpark: predict_udf Do the inference on the CPUs\n",
      "INFO:XGBoost-PySpark:Do the inference on the CPUs\n",
      "                                                                                \r"
     ]
    },
    {
     "name": "stdout",
     "output_type": "stream",
     "text": [
      "MAX_DEPTH: 7 N_ESTIMATORS: 200 ACCURACY: 0.7298 F1: 0.7295 auc: 0.7937\n"
     ]
    },
    {
     "name": "stderr",
     "output_type": "stream",
     "text": [
      "2023-10-12 06:21:19,427 INFO XGBoost-PySpark: _fit Running xgboost-2.0.0 on 1 workers with\n",
      "\tbooster params: {'objective': 'binary:logistic', 'device': 'cpu', 'max_depth': 7, 'nthread': 1}\n",
      "\ttrain_call_kwargs_params: {'verbose_eval': True, 'num_boost_round': 250}\n",
      "\tdmatrix_kwargs: {'nthread': 1, 'missing': nan}\n",
      "INFO:XGBoost-PySpark:Running xgboost-2.0.0 on 1 workers with\n",
      "\tbooster params: {'objective': 'binary:logistic', 'device': 'cpu', 'max_depth': 7, 'nthread': 1}\n",
      "\ttrain_call_kwargs_params: {'verbose_eval': True, 'num_boost_round': 250}\n",
      "\tdmatrix_kwargs: {'nthread': 1, 'missing': nan}\n",
      "[06:21:22] task 0 got new rank 0                                    (0 + 1) / 1]\n",
      "2023-10-12 06:21:25,291 INFO XGBoost-PySpark: _fit Finished xgboost training!   \n",
      "INFO:XGBoost-PySpark:Finished xgboost training!\n",
      "2023-10-12 06:21:27,491 INFO XGBoost-PySpark: predict_udf Do the inference on the CPUs\n",
      "INFO:XGBoost-PySpark:Do the inference on the CPUs\n",
      "INFO:XGBoost-PySpark:Do the inference on the CPUs\n",
      "2023-10-12 06:21:27,797 INFO XGBoost-PySpark: predict_udf Do the inference on the CPUs\n",
      "INFO:XGBoost-PySpark:Do the inference on the CPUs\n",
      "INFO:XGBoost-PySpark:Do the inference on the CPUs\n",
      "INFO:XGBoost-PySpark:Do the inference on the CPUs                               \n",
      "2023-10-12 06:21:29,803 INFO XGBoost-PySpark: predict_udf Do the inference on the CPUs\n",
      "INFO:XGBoost-PySpark:Do the inference on the CPUs\n",
      "INFO:XGBoost-PySpark:Do the inference on the CPUs\n",
      "2023-10-12 06:21:30,125 INFO XGBoost-PySpark: predict_udf Do the inference on the CPUs\n",
      "INFO:XGBoost-PySpark:Do the inference on the CPUs\n",
      "2023-10-12 06:21:32,049 INFO XGBoost-PySpark: predict_udf Do the inference on the CPUs\n",
      "INFO:XGBoost-PySpark:Do the inference on the CPUs\n",
      "INFO:XGBoost-PySpark:Do the inference on the CPUs\n",
      "INFO:XGBoost-PySpark:Do the inference on the CPUs\n",
      "2023-10-12 06:21:32,385 INFO XGBoost-PySpark: predict_udf Do the inference on the CPUs\n",
      "INFO:XGBoost-PySpark:Do the inference on the CPUs\n",
      "INFO:XGBoost-PySpark:Do the inference on the CPUs                               \n",
      "2023-10-12 06:21:34,330 INFO XGBoost-PySpark: predict_udf Do the inference on the CPUs\n",
      "INFO:XGBoost-PySpark:Do the inference on the CPUs\n",
      "INFO:XGBoost-PySpark:Do the inference on the CPUs                   (2 + 2) / 4]\n",
      "2023-10-12 06:21:34,631 INFO XGBoost-PySpark: predict_udf Do the inference on the CPUs\n",
      "INFO:XGBoost-PySpark:Do the inference on the CPUs\n",
      "INFO:XGBoost-PySpark:Do the inference on the CPUs                               \n",
      "2023-10-12 06:21:36,609 INFO XGBoost-PySpark: predict_udf Do the inference on the CPUs\n",
      "INFO:XGBoost-PySpark:Do the inference on the CPUs\n",
      "INFO:XGBoost-PySpark:Do the inference on the CPUs                   (2 + 2) / 4]\n",
      "2023-10-12 06:21:36,931 INFO XGBoost-PySpark: predict_udf Do the inference on the CPUs\n",
      "INFO:XGBoost-PySpark:Do the inference on the CPUs\n",
      "                                                                                \r"
     ]
    },
    {
     "name": "stdout",
     "output_type": "stream",
     "text": [
      "MAX_DEPTH: 7 N_ESTIMATORS: 250 ACCURACY: 0.7287 F1: 0.7285 auc: 0.7919\n"
     ]
    },
    {
     "name": "stderr",
     "output_type": "stream",
     "text": [
      "2023-10-12 06:21:41,015 INFO XGBoost-PySpark: _fit Running xgboost-2.0.0 on 1 workers with\n",
      "\tbooster params: {'objective': 'binary:logistic', 'device': 'cpu', 'max_depth': 8, 'nthread': 1}\n",
      "\ttrain_call_kwargs_params: {'verbose_eval': True, 'num_boost_round': 50}\n",
      "\tdmatrix_kwargs: {'nthread': 1, 'missing': nan}\n",
      "INFO:XGBoost-PySpark:Running xgboost-2.0.0 on 1 workers with\n",
      "\tbooster params: {'objective': 'binary:logistic', 'device': 'cpu', 'max_depth': 8, 'nthread': 1}\n",
      "\ttrain_call_kwargs_params: {'verbose_eval': True, 'num_boost_round': 50}\n",
      "\tdmatrix_kwargs: {'nthread': 1, 'missing': nan}\n",
      "[06:21:44] task 0 got new rank 0                                    (0 + 1) / 1]\n",
      "2023-10-12 06:21:45,862 INFO XGBoost-PySpark: _fit Finished xgboost training!   \n",
      "INFO:XGBoost-PySpark:Finished xgboost training!\n",
      "2023-10-12 06:21:47,947 INFO XGBoost-PySpark: predict_udf Do the inference on the CPUs\n",
      "INFO:XGBoost-PySpark:Do the inference on the CPUs\n",
      "INFO:XGBoost-PySpark:Do the inference on the CPUs\n",
      "INFO:XGBoost-PySpark:Do the inference on the CPUs\n",
      "2023-10-12 06:21:48,294 INFO XGBoost-PySpark: predict_udf Do the inference on the CPUs\n",
      "INFO:XGBoost-PySpark:Do the inference on the CPUs\n",
      "INFO:XGBoost-PySpark:Do the inference on the CPUs                               \n",
      "2023-10-12 06:21:50,215 INFO XGBoost-PySpark: predict_udf Do the inference on the CPUs\n",
      "INFO:XGBoost-PySpark:Do the inference on the CPUs\n",
      "2023-10-12 06:21:50,490 INFO XGBoost-PySpark: predict_udf Do the inference on the CPUs\n",
      "INFO:XGBoost-PySpark:Do the inference on the CPUs\n",
      "INFO:XGBoost-PySpark:Do the inference on the CPUs\n",
      "2023-10-12 06:21:52,427 INFO XGBoost-PySpark: predict_udf Do the inference on the CPUs\n",
      "INFO:XGBoost-PySpark:Do the inference on the CPUs\n",
      "INFO:XGBoost-PySpark:Do the inference on the CPUs\n",
      "INFO:XGBoost-PySpark:Do the inference on the CPUs\n",
      "2023-10-12 06:21:52,801 INFO XGBoost-PySpark: predict_udf Do the inference on the CPUs\n",
      "INFO:XGBoost-PySpark:Do the inference on the CPUs\n",
      "INFO:XGBoost-PySpark:Do the inference on the CPUs                               \n",
      "2023-10-12 06:21:54,795 INFO XGBoost-PySpark: predict_udf Do the inference on the CPUs\n",
      "INFO:XGBoost-PySpark:Do the inference on the CPUs\n",
      "2023-10-12 06:21:55,101 INFO XGBoost-PySpark: predict_udf Do the inference on the CPUs\n",
      "INFO:XGBoost-PySpark:Do the inference on the CPUs\n",
      "INFO:XGBoost-PySpark:Do the inference on the CPUs\n",
      "2023-10-12 06:21:57,121 INFO XGBoost-PySpark: predict_udf Do the inference on the CPUs\n",
      "INFO:XGBoost-PySpark:Do the inference on the CPUs\n",
      "INFO:XGBoost-PySpark:Do the inference on the CPUs\n",
      "INFO:XGBoost-PySpark:Do the inference on the CPUs                   (2 + 2) / 4]\n",
      "2023-10-12 06:21:57,600 INFO XGBoost-PySpark: predict_udf Do the inference on the CPUs\n",
      "INFO:XGBoost-PySpark:Do the inference on the CPUs\n",
      "                                                                                \r"
     ]
    },
    {
     "name": "stdout",
     "output_type": "stream",
     "text": [
      "MAX_DEPTH: 8 N_ESTIMATORS: 50 ACCURACY: 0.7311 F1: 0.7305 auc: 0.7977\n"
     ]
    },
    {
     "name": "stderr",
     "output_type": "stream",
     "text": [
      "2023-10-12 06:22:01,655 INFO XGBoost-PySpark: _fit Running xgboost-2.0.0 on 1 workers with\n",
      "\tbooster params: {'objective': 'binary:logistic', 'device': 'cpu', 'max_depth': 8, 'nthread': 1}\n",
      "\ttrain_call_kwargs_params: {'verbose_eval': True, 'num_boost_round': 100}\n",
      "\tdmatrix_kwargs: {'nthread': 1, 'missing': nan}\n",
      "INFO:XGBoost-PySpark:Running xgboost-2.0.0 on 1 workers with\n",
      "\tbooster params: {'objective': 'binary:logistic', 'device': 'cpu', 'max_depth': 8, 'nthread': 1}\n",
      "\ttrain_call_kwargs_params: {'verbose_eval': True, 'num_boost_round': 100}\n",
      "\tdmatrix_kwargs: {'nthread': 1, 'missing': nan}\n",
      "[06:22:04] task 0 got new rank 0                                    (0 + 1) / 1]\n",
      "2023-10-12 06:22:06,767 INFO XGBoost-PySpark: _fit Finished xgboost training!   \n",
      "INFO:XGBoost-PySpark:Finished xgboost training!\n",
      "2023-10-12 06:22:08,850 INFO XGBoost-PySpark: predict_udf Do the inference on the CPUs\n",
      "INFO:XGBoost-PySpark:Do the inference on the CPUs\n",
      "INFO:XGBoost-PySpark:Do the inference on the CPUs\n",
      "INFO:XGBoost-PySpark:Do the inference on the CPUs\n",
      "2023-10-12 06:22:09,192 INFO XGBoost-PySpark: predict_udf Do the inference on the CPUs\n",
      "INFO:XGBoost-PySpark:Do the inference on the CPUs\n",
      "INFO:XGBoost-PySpark:Do the inference on the CPUs                               \n",
      "2023-10-12 06:22:11,110 INFO XGBoost-PySpark: predict_udf Do the inference on the CPUs\n",
      "INFO:XGBoost-PySpark:Do the inference on the CPUs\n",
      "INFO:XGBoost-PySpark:Do the inference on the CPUs\n",
      "2023-10-12 06:22:11,437 INFO XGBoost-PySpark: predict_udf Do the inference on the CPUs\n",
      "INFO:XGBoost-PySpark:Do the inference on the CPUs\n",
      "INFO:XGBoost-PySpark:Do the inference on the CPUs                               \n",
      "2023-10-12 06:22:13,428 INFO XGBoost-PySpark: predict_udf Do the inference on the CPUs\n",
      "INFO:XGBoost-PySpark:Do the inference on the CPUs\n",
      "INFO:XGBoost-PySpark:Do the inference on the CPUs\n",
      "2023-10-12 06:22:13,732 INFO XGBoost-PySpark: predict_udf Do the inference on the CPUs\n",
      "INFO:XGBoost-PySpark:Do the inference on the CPUs\n",
      "INFO:XGBoost-PySpark:Do the inference on the CPUs                               \n",
      "2023-10-12 06:22:15,648 INFO XGBoost-PySpark: predict_udf Do the inference on the CPUs\n",
      "INFO:XGBoost-PySpark:Do the inference on the CPUs\n",
      "INFO:XGBoost-PySpark:Do the inference on the CPUs\n",
      "2023-10-12 06:22:16,023 INFO XGBoost-PySpark: predict_udf Do the inference on the CPUs\n",
      "INFO:XGBoost-PySpark:Do the inference on the CPUs\n",
      "INFO:XGBoost-PySpark:Do the inference on the CPUs                               \n",
      "2023-10-12 06:22:17,900 INFO XGBoost-PySpark: predict_udf Do the inference on the CPUs\n",
      "INFO:XGBoost-PySpark:Do the inference on the CPUs\n",
      "INFO:XGBoost-PySpark:Do the inference on the CPUs\n",
      "2023-10-12 06:22:18,277 INFO XGBoost-PySpark: predict_udf Do the inference on the CPUs\n",
      "INFO:XGBoost-PySpark:Do the inference on the CPUs\n",
      "                                                                                \r"
     ]
    },
    {
     "name": "stdout",
     "output_type": "stream",
     "text": [
      "MAX_DEPTH: 8 N_ESTIMATORS: 100 ACCURACY: 0.7304 F1: 0.7299 auc: 0.7962\n"
     ]
    },
    {
     "name": "stderr",
     "output_type": "stream",
     "text": [
      "2023-10-12 06:22:22,342 INFO XGBoost-PySpark: _fit Running xgboost-2.0.0 on 1 workers with\n",
      "\tbooster params: {'objective': 'binary:logistic', 'device': 'cpu', 'max_depth': 8, 'nthread': 1}\n",
      "\ttrain_call_kwargs_params: {'verbose_eval': True, 'num_boost_round': 150}\n",
      "\tdmatrix_kwargs: {'nthread': 1, 'missing': nan}\n",
      "INFO:XGBoost-PySpark:Running xgboost-2.0.0 on 1 workers with\n",
      "\tbooster params: {'objective': 'binary:logistic', 'device': 'cpu', 'max_depth': 8, 'nthread': 1}\n",
      "\ttrain_call_kwargs_params: {'verbose_eval': True, 'num_boost_round': 150}\n",
      "\tdmatrix_kwargs: {'nthread': 1, 'missing': nan}\n",
      "[06:22:25] task 0 got new rank 0                                    (0 + 1) / 1]\n",
      "2023-10-12 06:22:27,885 INFO XGBoost-PySpark: _fit Finished xgboost training!   \n",
      "INFO:XGBoost-PySpark:Finished xgboost training!\n",
      "INFO:XGBoost-PySpark:Do the inference on the CPUs                               \n",
      "2023-10-12 06:22:30,089 INFO XGBoost-PySpark: predict_udf Do the inference on the CPUs\n",
      "INFO:XGBoost-PySpark:Do the inference on the CPUs\n",
      "INFO:XGBoost-PySpark:Do the inference on the CPUs                   (2 + 2) / 4]\n",
      "2023-10-12 06:22:30,380 INFO XGBoost-PySpark: predict_udf Do the inference on the CPUs\n",
      "INFO:XGBoost-PySpark:Do the inference on the CPUs\n",
      "2023-10-12 06:22:32,293 INFO XGBoost-PySpark: predict_udf Do the inference on the CPUs\n",
      "INFO:XGBoost-PySpark:Do the inference on the CPUs\n",
      "INFO:XGBoost-PySpark:Do the inference on the CPUs\n",
      "2023-10-12 06:22:32,637 INFO XGBoost-PySpark: predict_udf Do the inference on the CPUs\n",
      "INFO:XGBoost-PySpark:Do the inference on the CPUs\n",
      "INFO:XGBoost-PySpark:Do the inference on the CPUs\n",
      "INFO:XGBoost-PySpark:Do the inference on the CPUs                               \n",
      "2023-10-12 06:22:34,576 INFO XGBoost-PySpark: predict_udf Do the inference on the CPUs\n",
      "INFO:XGBoost-PySpark:Do the inference on the CPUs\n",
      "INFO:XGBoost-PySpark:Do the inference on the CPUs\n",
      "2023-10-12 06:22:34,882 INFO XGBoost-PySpark: predict_udf Do the inference on the CPUs\n",
      "INFO:XGBoost-PySpark:Do the inference on the CPUs\n",
      "2023-10-12 06:22:36,777 INFO XGBoost-PySpark: predict_udf Do the inference on the CPUs\n",
      "INFO:XGBoost-PySpark:Do the inference on the CPUs\n",
      "INFO:XGBoost-PySpark:Do the inference on the CPUs\n",
      "2023-10-12 06:22:37,066 INFO XGBoost-PySpark: predict_udf Do the inference on the CPUs\n",
      "INFO:XGBoost-PySpark:Do the inference on the CPUs\n",
      "INFO:XGBoost-PySpark:Do the inference on the CPUs=====>             (3 + 1) / 4]\n",
      "2023-10-12 06:22:39,064 INFO XGBoost-PySpark: predict_udf Do the inference on the CPUs\n",
      "INFO:XGBoost-PySpark:Do the inference on the CPUs\n",
      "INFO:XGBoost-PySpark:Do the inference on the CPUs\n",
      "2023-10-12 06:22:39,447 INFO XGBoost-PySpark: predict_udf Do the inference on the CPUs\n",
      "INFO:XGBoost-PySpark:Do the inference on the CPUs\n",
      "INFO:XGBoost-PySpark:Do the inference on the CPUs\n",
      "                                                                                \r"
     ]
    },
    {
     "name": "stdout",
     "output_type": "stream",
     "text": [
      "MAX_DEPTH: 8 N_ESTIMATORS: 150 ACCURACY: 0.7290 F1: 0.7286 auc: 0.7955\n"
     ]
    },
    {
     "name": "stderr",
     "output_type": "stream",
     "text": [
      "2023-10-12 06:22:43,279 INFO XGBoost-PySpark: _fit Running xgboost-2.0.0 on 1 workers with\n",
      "\tbooster params: {'objective': 'binary:logistic', 'device': 'cpu', 'max_depth': 8, 'nthread': 1}\n",
      "\ttrain_call_kwargs_params: {'verbose_eval': True, 'num_boost_round': 200}\n",
      "\tdmatrix_kwargs: {'nthread': 1, 'missing': nan}\n",
      "INFO:XGBoost-PySpark:Running xgboost-2.0.0 on 1 workers with\n",
      "\tbooster params: {'objective': 'binary:logistic', 'device': 'cpu', 'max_depth': 8, 'nthread': 1}\n",
      "\ttrain_call_kwargs_params: {'verbose_eval': True, 'num_boost_round': 200}\n",
      "\tdmatrix_kwargs: {'nthread': 1, 'missing': nan}\n",
      "[06:22:46] task 0 got new rank 0                                    (0 + 1) / 1]\n",
      "2023-10-12 06:22:49,149 INFO XGBoost-PySpark: _fit Finished xgboost training!   \n",
      "INFO:XGBoost-PySpark:Finished xgboost training!\n",
      "INFO:XGBoost-PySpark:Do the inference on the CPUs                               \n",
      "2023-10-12 06:22:51,210 INFO XGBoost-PySpark: predict_udf Do the inference on the CPUs\n",
      "INFO:XGBoost-PySpark:Do the inference on the CPUs\n",
      "2023-10-12 06:22:51,502 INFO XGBoost-PySpark: predict_udf Do the inference on the CPUs\n",
      "INFO:XGBoost-PySpark:Do the inference on the CPUs\n",
      "INFO:XGBoost-PySpark:Do the inference on the CPUs\n",
      "INFO:XGBoost-PySpark:Do the inference on the CPUs                               \n",
      "2023-10-12 06:22:53,474 INFO XGBoost-PySpark: predict_udf Do the inference on the CPUs\n",
      "INFO:XGBoost-PySpark:Do the inference on the CPUs\n",
      "INFO:XGBoost-PySpark:Do the inference on the CPUs\n",
      "2023-10-12 06:22:53,784 INFO XGBoost-PySpark: predict_udf Do the inference on the CPUs\n",
      "INFO:XGBoost-PySpark:Do the inference on the CPUs\n",
      "2023-10-12 06:22:55,714 INFO XGBoost-PySpark: predict_udf Do the inference on the CPUs\n",
      "INFO:XGBoost-PySpark:Do the inference on the CPUs\n",
      "INFO:XGBoost-PySpark:Do the inference on the CPUs\n",
      "INFO:XGBoost-PySpark:Do the inference on the CPUs\n",
      "2023-10-12 06:22:56,031 INFO XGBoost-PySpark: predict_udf Do the inference on the CPUs\n",
      "INFO:XGBoost-PySpark:Do the inference on the CPUs\n",
      "INFO:XGBoost-PySpark:Do the inference on the CPUs                               \n",
      "2023-10-12 06:22:58,100 INFO XGBoost-PySpark: predict_udf Do the inference on the CPUs\n",
      "INFO:XGBoost-PySpark:Do the inference on the CPUs\n",
      "INFO:XGBoost-PySpark:Do the inference on the CPUs\n",
      "2023-10-12 06:22:58,378 INFO XGBoost-PySpark: predict_udf Do the inference on the CPUs\n",
      "INFO:XGBoost-PySpark:Do the inference on the CPUs\n",
      "INFO:XGBoost-PySpark:Do the inference on the CPUs                               \n",
      "2023-10-12 06:23:00,355 INFO XGBoost-PySpark: predict_udf Do the inference on the CPUs\n",
      "INFO:XGBoost-PySpark:Do the inference on the CPUs\n",
      "INFO:XGBoost-PySpark:Do the inference on the CPUs\n",
      "2023-10-12 06:23:00,695 INFO XGBoost-PySpark: predict_udf Do the inference on the CPUs\n",
      "INFO:XGBoost-PySpark:Do the inference on the CPUs\n"
     ]
    },
    {
     "name": "stdout",
     "output_type": "stream",
     "text": [
      "MAX_DEPTH: 8 N_ESTIMATORS: 200 ACCURACY: 0.7287 F1: 0.7285 auc: 0.7937\n"
     ]
    },
    {
     "name": "stderr",
     "output_type": "stream",
     "text": [
      "2023-10-12 06:23:04,745 INFO XGBoost-PySpark: _fit Running xgboost-2.0.0 on 1 workers with\n",
      "\tbooster params: {'objective': 'binary:logistic', 'device': 'cpu', 'max_depth': 8, 'nthread': 1}\n",
      "\ttrain_call_kwargs_params: {'verbose_eval': True, 'num_boost_round': 250}\n",
      "\tdmatrix_kwargs: {'nthread': 1, 'missing': nan}\n",
      "INFO:XGBoost-PySpark:Running xgboost-2.0.0 on 1 workers with\n",
      "\tbooster params: {'objective': 'binary:logistic', 'device': 'cpu', 'max_depth': 8, 'nthread': 1}\n",
      "\ttrain_call_kwargs_params: {'verbose_eval': True, 'num_boost_round': 250}\n",
      "\tdmatrix_kwargs: {'nthread': 1, 'missing': nan}\n",
      "[06:23:07] task 0 got new rank 0                                    (0 + 1) / 1]\n",
      "2023-10-12 06:23:10,893 INFO XGBoost-PySpark: _fit Finished xgboost training!   \n",
      "INFO:XGBoost-PySpark:Finished xgboost training!\n",
      "2023-10-12 06:23:13,081 INFO XGBoost-PySpark: predict_udf Do the inference on the CPUs\n",
      "INFO:XGBoost-PySpark:Do the inference on the CPUs\n",
      "INFO:XGBoost-PySpark:Do the inference on the CPUs\n",
      "INFO:XGBoost-PySpark:Do the inference on the CPUs\n",
      "2023-10-12 06:23:13,384 INFO XGBoost-PySpark: predict_udf Do the inference on the CPUs\n",
      "INFO:XGBoost-PySpark:Do the inference on the CPUs\n",
      "INFO:XGBoost-PySpark:Do the inference on the CPUs                               \n",
      "2023-10-12 06:23:15,378 INFO XGBoost-PySpark: predict_udf Do the inference on the CPUs\n",
      "INFO:XGBoost-PySpark:Do the inference on the CPUs\n",
      "INFO:XGBoost-PySpark:Do the inference on the CPUs\n",
      "2023-10-12 06:23:15,685 INFO XGBoost-PySpark: predict_udf Do the inference on the CPUs\n",
      "INFO:XGBoost-PySpark:Do the inference on the CPUs\n",
      "INFO:XGBoost-PySpark:Do the inference on the CPUs                               \n",
      "2023-10-12 06:23:17,736 INFO XGBoost-PySpark: predict_udf Do the inference on the CPUs\n",
      "INFO:XGBoost-PySpark:Do the inference on the CPUs\n",
      "INFO:XGBoost-PySpark:Do the inference on the CPUs                   (2 + 2) / 4]\n",
      "2023-10-12 06:23:18,042 INFO XGBoost-PySpark: predict_udf Do the inference on the CPUs\n",
      "INFO:XGBoost-PySpark:Do the inference on the CPUs\n",
      "INFO:XGBoost-PySpark:Do the inference on the CPUs                               \n",
      "2023-10-12 06:23:19,983 INFO XGBoost-PySpark: predict_udf Do the inference on the CPUs\n",
      "INFO:XGBoost-PySpark:Do the inference on the CPUs\n",
      "INFO:XGBoost-PySpark:Do the inference on the CPUs\n",
      "2023-10-12 06:23:20,306 INFO XGBoost-PySpark: predict_udf Do the inference on the CPUs\n",
      "INFO:XGBoost-PySpark:Do the inference on the CPUs\n",
      "2023-10-12 06:23:22,099 INFO XGBoost-PySpark: predict_udf Do the inference on the CPUs\n",
      "INFO:XGBoost-PySpark:Do the inference on the CPUs\n",
      "INFO:XGBoost-PySpark:Do the inference on the CPUs\n",
      "INFO:XGBoost-PySpark:Do the inference on the CPUs\n",
      "2023-10-12 06:23:22,444 INFO XGBoost-PySpark: predict_udf Do the inference on the CPUs\n",
      "INFO:XGBoost-PySpark:Do the inference on the CPUs\n",
      "                                                                                \r"
     ]
    },
    {
     "name": "stdout",
     "output_type": "stream",
     "text": [
      "MAX_DEPTH: 8 N_ESTIMATORS: 250 ACCURACY: 0.7278 F1: 0.7275 auc: 0.7924\n"
     ]
    },
    {
     "name": "stderr",
     "output_type": "stream",
     "text": [
      "2023-10-12 06:23:26,499 INFO XGBoost-PySpark: _fit Running xgboost-2.0.0 on 1 workers with\n",
      "\tbooster params: {'objective': 'binary:logistic', 'device': 'cpu', 'max_depth': 9, 'nthread': 1}\n",
      "\ttrain_call_kwargs_params: {'verbose_eval': True, 'num_boost_round': 50}\n",
      "\tdmatrix_kwargs: {'nthread': 1, 'missing': nan}\n",
      "INFO:XGBoost-PySpark:Running xgboost-2.0.0 on 1 workers with\n",
      "\tbooster params: {'objective': 'binary:logistic', 'device': 'cpu', 'max_depth': 9, 'nthread': 1}\n",
      "\ttrain_call_kwargs_params: {'verbose_eval': True, 'num_boost_round': 50}\n",
      "\tdmatrix_kwargs: {'nthread': 1, 'missing': nan}\n",
      "[06:23:29] task 0 got new rank 0                                    (0 + 1) / 1]\n",
      "2023-10-12 06:23:31,344 INFO XGBoost-PySpark: _fit Finished xgboost training!   \n",
      "INFO:XGBoost-PySpark:Finished xgboost training!\n",
      "2023-10-12 06:23:33,298 INFO XGBoost-PySpark: predict_udf Do the inference on the CPUs\n",
      "INFO:XGBoost-PySpark:Do the inference on the CPUs\n",
      "INFO:XGBoost-PySpark:Do the inference on the CPUs\n",
      "INFO:XGBoost-PySpark:Do the inference on the CPUs                   (2 + 2) / 4]\n",
      "2023-10-12 06:23:33,788 INFO XGBoost-PySpark: predict_udf Do the inference on the CPUs\n",
      "INFO:XGBoost-PySpark:Do the inference on the CPUs\n",
      "INFO:XGBoost-PySpark:Do the inference on the CPUs                               \n",
      "2023-10-12 06:23:35,849 INFO XGBoost-PySpark: predict_udf Do the inference on the CPUs\n",
      "INFO:XGBoost-PySpark:Do the inference on the CPUs\n",
      "2023-10-12 06:23:36,145 INFO XGBoost-PySpark: predict_udf Do the inference on the CPUs\n",
      "INFO:XGBoost-PySpark:Do the inference on the CPUs\n",
      "INFO:XGBoost-PySpark:Do the inference on the CPUs\n",
      "2023-10-12 06:23:38,104 INFO XGBoost-PySpark: predict_udf Do the inference on the CPUs\n",
      "INFO:XGBoost-PySpark:Do the inference on the CPUs\n",
      "INFO:XGBoost-PySpark:Do the inference on the CPUs\n",
      "INFO:XGBoost-PySpark:Do the inference on the CPUs\n",
      "2023-10-12 06:23:38,432 INFO XGBoost-PySpark: predict_udf Do the inference on the CPUs\n",
      "INFO:XGBoost-PySpark:Do the inference on the CPUs\n",
      "INFO:XGBoost-PySpark:Do the inference on the CPUs                               \n",
      "2023-10-12 06:23:40,437 INFO XGBoost-PySpark: predict_udf Do the inference on the CPUs\n",
      "INFO:XGBoost-PySpark:Do the inference on the CPUs\n",
      "2023-10-12 06:23:40,701 INFO XGBoost-PySpark: predict_udf Do the inference on the CPUs\n",
      "INFO:XGBoost-PySpark:Do the inference on the CPUs\n",
      "INFO:XGBoost-PySpark:Do the inference on the CPUs=====>             (3 + 1) / 4]\n",
      "INFO:XGBoost-PySpark:Do the inference on the CPUs                               \n",
      "2023-10-12 06:23:42,647 INFO XGBoost-PySpark: predict_udf Do the inference on the CPUs\n",
      "INFO:XGBoost-PySpark:Do the inference on the CPUs\n",
      "INFO:XGBoost-PySpark:Do the inference on the CPUs\n",
      "2023-10-12 06:23:42,985 INFO XGBoost-PySpark: predict_udf Do the inference on the CPUs\n",
      "INFO:XGBoost-PySpark:Do the inference on the CPUs\n",
      "                                                                                \r"
     ]
    },
    {
     "name": "stdout",
     "output_type": "stream",
     "text": [
      "MAX_DEPTH: 9 N_ESTIMATORS: 50 ACCURACY: 0.7330 F1: 0.7324 auc: 0.7924\n"
     ]
    },
    {
     "name": "stderr",
     "output_type": "stream",
     "text": [
      "2023-10-12 06:23:46,912 INFO XGBoost-PySpark: _fit Running xgboost-2.0.0 on 1 workers with\n",
      "\tbooster params: {'objective': 'binary:logistic', 'device': 'cpu', 'max_depth': 9, 'nthread': 1}\n",
      "\ttrain_call_kwargs_params: {'verbose_eval': True, 'num_boost_round': 100}\n",
      "\tdmatrix_kwargs: {'nthread': 1, 'missing': nan}\n",
      "INFO:XGBoost-PySpark:Running xgboost-2.0.0 on 1 workers with\n",
      "\tbooster params: {'objective': 'binary:logistic', 'device': 'cpu', 'max_depth': 9, 'nthread': 1}\n",
      "\ttrain_call_kwargs_params: {'verbose_eval': True, 'num_boost_round': 100}\n",
      "\tdmatrix_kwargs: {'nthread': 1, 'missing': nan}\n",
      "[06:23:50] task 0 got new rank 0                                    (0 + 1) / 1]\n",
      "2023-10-12 06:23:52,163 INFO XGBoost-PySpark: _fit Finished xgboost training!   \n",
      "INFO:XGBoost-PySpark:Finished xgboost training!\n",
      "2023-10-12 06:23:54,458 INFO XGBoost-PySpark: predict_udf Do the inference on the CPUs\n",
      "INFO:XGBoost-PySpark:Do the inference on the CPUs\n",
      "INFO:XGBoost-PySpark:Do the inference on the CPUs\n",
      "2023-10-12 06:23:54,722 INFO XGBoost-PySpark: predict_udf Do the inference on the CPUs\n",
      "INFO:XGBoost-PySpark:Do the inference on the CPUs\n",
      "INFO:XGBoost-PySpark:Do the inference on the CPUs=====>             (3 + 1) / 4]\n",
      "2023-10-12 06:23:56,825 INFO XGBoost-PySpark: predict_udf Do the inference on the CPUs\n",
      "INFO:XGBoost-PySpark:Do the inference on the CPUs\n",
      "INFO:XGBoost-PySpark:Do the inference on the CPUs\n",
      "2023-10-12 06:23:57,113 INFO XGBoost-PySpark: predict_udf Do the inference on the CPUs\n",
      "INFO:XGBoost-PySpark:Do the inference on the CPUs\n",
      "INFO:XGBoost-PySpark:Do the inference on the CPUs\n",
      "2023-10-12 06:23:59,051 INFO XGBoost-PySpark: predict_udf Do the inference on the CPUs\n",
      "INFO:XGBoost-PySpark:Do the inference on the CPUs\n",
      "INFO:XGBoost-PySpark:Do the inference on the CPUs\n",
      "2023-10-12 06:23:59,322 INFO XGBoost-PySpark: predict_udf Do the inference on the CPUs\n",
      "INFO:XGBoost-PySpark:Do the inference on the CPUs\n",
      "INFO:XGBoost-PySpark:Do the inference on the CPUs\n",
      "INFO:XGBoost-PySpark:Do the inference on the CPUs                               \n",
      "2023-10-12 06:24:01,461 INFO XGBoost-PySpark: predict_udf Do the inference on the CPUs\n",
      "INFO:XGBoost-PySpark:Do the inference on the CPUs\n",
      "INFO:XGBoost-PySpark:Do the inference on the CPUs\n",
      "INFO:XGBoost-PySpark:Do the inference on the CPUs=====>             (3 + 1) / 4]\n",
      "2023-10-12 06:24:03,759 INFO XGBoost-PySpark: predict_udf Do the inference on the CPUs\n",
      "INFO:XGBoost-PySpark:Do the inference on the CPUs\n",
      "INFO:XGBoost-PySpark:Do the inference on the CPUs\n",
      "2023-10-12 06:24:04,076 INFO XGBoost-PySpark: predict_udf Do the inference on the CPUs\n",
      "INFO:XGBoost-PySpark:Do the inference on the CPUs\n",
      "INFO:XGBoost-PySpark:Do the inference on the CPUs\n",
      "                                                                                \r"
     ]
    },
    {
     "name": "stdout",
     "output_type": "stream",
     "text": [
      "MAX_DEPTH: 9 N_ESTIMATORS: 100 ACCURACY: 0.7273 F1: 0.7269 auc: 0.7908\n"
     ]
    },
    {
     "name": "stderr",
     "output_type": "stream",
     "text": [
      "2023-10-12 06:24:08,067 INFO XGBoost-PySpark: _fit Running xgboost-2.0.0 on 1 workers with\n",
      "\tbooster params: {'objective': 'binary:logistic', 'device': 'cpu', 'max_depth': 9, 'nthread': 1}\n",
      "\ttrain_call_kwargs_params: {'verbose_eval': True, 'num_boost_round': 150}\n",
      "\tdmatrix_kwargs: {'nthread': 1, 'missing': nan}\n",
      "INFO:XGBoost-PySpark:Running xgboost-2.0.0 on 1 workers with\n",
      "\tbooster params: {'objective': 'binary:logistic', 'device': 'cpu', 'max_depth': 9, 'nthread': 1}\n",
      "\ttrain_call_kwargs_params: {'verbose_eval': True, 'num_boost_round': 150}\n",
      "\tdmatrix_kwargs: {'nthread': 1, 'missing': nan}\n",
      "[06:24:11] task 0 got new rank 0                                    (0 + 1) / 1]\n",
      "2023-10-12 06:24:13,817 INFO XGBoost-PySpark: _fit Finished xgboost training!   \n",
      "INFO:XGBoost-PySpark:Finished xgboost training!\n",
      "2023-10-12 06:24:16,145 INFO XGBoost-PySpark: predict_udf Do the inference on the CPUs\n",
      "INFO:XGBoost-PySpark:Do the inference on the CPUs\n",
      "INFO:XGBoost-PySpark:Do the inference on the CPUs\n",
      "2023-10-12 06:24:16,433 INFO XGBoost-PySpark: predict_udf Do the inference on the CPUs\n",
      "INFO:XGBoost-PySpark:Do the inference on the CPUs\n",
      "INFO:XGBoost-PySpark:Do the inference on the CPUs\n",
      "INFO:XGBoost-PySpark:Do the inference on the CPUs                               \n",
      "2023-10-12 06:24:18,505 INFO XGBoost-PySpark: predict_udf Do the inference on the CPUs\n",
      "INFO:XGBoost-PySpark:Do the inference on the CPUs\n",
      "INFO:XGBoost-PySpark:Do the inference on the CPUs\n",
      "2023-10-12 06:24:18,850 INFO XGBoost-PySpark: predict_udf Do the inference on the CPUs\n",
      "INFO:XGBoost-PySpark:Do the inference on the CPUs\n",
      "INFO:XGBoost-PySpark:Do the inference on the CPUs                               \n",
      "2023-10-12 06:24:20,771 INFO XGBoost-PySpark: predict_udf Do the inference on the CPUs\n",
      "INFO:XGBoost-PySpark:Do the inference on the CPUs\n",
      "INFO:XGBoost-PySpark:Do the inference on the CPUs\n",
      "2023-10-12 06:24:21,060 INFO XGBoost-PySpark: predict_udf Do the inference on the CPUs\n",
      "INFO:XGBoost-PySpark:Do the inference on the CPUs\n",
      "2023-10-12 06:24:22,995 INFO XGBoost-PySpark: predict_udf Do the inference on the CPUs\n",
      "INFO:XGBoost-PySpark:Do the inference on the CPUs\n",
      "INFO:XGBoost-PySpark:Do the inference on the CPUs\n",
      "2023-10-12 06:24:23,390 INFO XGBoost-PySpark: predict_udf Do the inference on the CPUs\n",
      "INFO:XGBoost-PySpark:Do the inference on the CPUs\n",
      "INFO:XGBoost-PySpark:Do the inference on the CPUs\n",
      "2023-10-12 06:24:25,431 INFO XGBoost-PySpark: predict_udf Do the inference on the CPUs\n",
      "INFO:XGBoost-PySpark:Do the inference on the CPUs\n",
      "INFO:XGBoost-PySpark:Do the inference on the CPUs\n",
      "2023-10-12 06:24:25,765 INFO XGBoost-PySpark: predict_udf Do the inference on the CPUs\n",
      "INFO:XGBoost-PySpark:Do the inference on the CPUs\n",
      "INFO:XGBoost-PySpark:Do the inference on the CPUs\n",
      "                                                                                \r"
     ]
    },
    {
     "name": "stdout",
     "output_type": "stream",
     "text": [
      "MAX_DEPTH: 9 N_ESTIMATORS: 150 ACCURACY: 0.7298 F1: 0.7296 auc: 0.7900\n"
     ]
    },
    {
     "name": "stderr",
     "output_type": "stream",
     "text": [
      "2023-10-12 06:24:29,771 INFO XGBoost-PySpark: _fit Running xgboost-2.0.0 on 1 workers with\n",
      "\tbooster params: {'objective': 'binary:logistic', 'device': 'cpu', 'max_depth': 9, 'nthread': 1}\n",
      "\ttrain_call_kwargs_params: {'verbose_eval': True, 'num_boost_round': 200}\n",
      "\tdmatrix_kwargs: {'nthread': 1, 'missing': nan}\n",
      "INFO:XGBoost-PySpark:Running xgboost-2.0.0 on 1 workers with\n",
      "\tbooster params: {'objective': 'binary:logistic', 'device': 'cpu', 'max_depth': 9, 'nthread': 1}\n",
      "\ttrain_call_kwargs_params: {'verbose_eval': True, 'num_boost_round': 200}\n",
      "\tdmatrix_kwargs: {'nthread': 1, 'missing': nan}\n",
      "[06:24:32] task 0 got new rank 0                                    (0 + 1) / 1]\n",
      "2023-10-12 06:24:35,836 INFO XGBoost-PySpark: _fit Finished xgboost training!   \n",
      "INFO:XGBoost-PySpark:Finished xgboost training!\n",
      "2023-10-12 06:24:38,057 INFO XGBoost-PySpark: predict_udf Do the inference on the CPUs\n",
      "INFO:XGBoost-PySpark:Do the inference on the CPUs\n",
      "INFO:XGBoost-PySpark:Do the inference on the CPUs\n",
      "2023-10-12 06:24:38,366 INFO XGBoost-PySpark: predict_udf Do the inference on the CPUs\n",
      "INFO:XGBoost-PySpark:Do the inference on the CPUs\n",
      "INFO:XGBoost-PySpark:Do the inference on the CPUs\n",
      "INFO:XGBoost-PySpark:Do the inference on the CPUs                               \n",
      "2023-10-12 06:24:40,407 INFO XGBoost-PySpark: predict_udf Do the inference on the CPUs\n",
      "INFO:XGBoost-PySpark:Do the inference on the CPUs\n",
      "INFO:XGBoost-PySpark:Do the inference on the CPUs\n",
      "2023-10-12 06:24:40,722 INFO XGBoost-PySpark: predict_udf Do the inference on the CPUs\n",
      "INFO:XGBoost-PySpark:Do the inference on the CPUs\n",
      "INFO:XGBoost-PySpark:Do the inference on the CPUs                               \n",
      "2023-10-12 06:24:42,698 INFO XGBoost-PySpark: predict_udf Do the inference on the CPUs\n",
      "INFO:XGBoost-PySpark:Do the inference on the CPUs\n",
      "INFO:XGBoost-PySpark:Do the inference on the CPUs\n",
      "2023-10-12 06:24:43,016 INFO XGBoost-PySpark: predict_udf Do the inference on the CPUs\n",
      "INFO:XGBoost-PySpark:Do the inference on the CPUs\n",
      "INFO:XGBoost-PySpark:Do the inference on the CPUs                               \n",
      "2023-10-12 06:24:44,989 INFO XGBoost-PySpark: predict_udf Do the inference on the CPUs\n",
      "INFO:XGBoost-PySpark:Do the inference on the CPUs\n",
      "INFO:XGBoost-PySpark:Do the inference on the CPUs\n",
      "2023-10-12 06:24:45,316 INFO XGBoost-PySpark: predict_udf Do the inference on the CPUs\n",
      "INFO:XGBoost-PySpark:Do the inference on the CPUs\n",
      "INFO:XGBoost-PySpark:Do the inference on the CPUs                               \n",
      "2023-10-12 06:24:47,255 INFO XGBoost-PySpark: predict_udf Do the inference on the CPUs\n",
      "INFO:XGBoost-PySpark:Do the inference on the CPUs\n",
      "2023-10-12 06:24:47,587 INFO XGBoost-PySpark: predict_udf Do the inference on the CPUs\n",
      "INFO:XGBoost-PySpark:Do the inference on the CPUs\n",
      "INFO:XGBoost-PySpark:Do the inference on the CPUs\n"
     ]
    },
    {
     "name": "stdout",
     "output_type": "stream",
     "text": [
      "MAX_DEPTH: 9 N_ESTIMATORS: 200 ACCURACY: 0.7264 F1: 0.7262 auc: 0.7885\n"
     ]
    },
    {
     "name": "stderr",
     "output_type": "stream",
     "text": [
      "2023-10-12 06:24:51,850 INFO XGBoost-PySpark: _fit Running xgboost-2.0.0 on 1 workers with\n",
      "\tbooster params: {'objective': 'binary:logistic', 'device': 'cpu', 'max_depth': 9, 'nthread': 1}\n",
      "\ttrain_call_kwargs_params: {'verbose_eval': True, 'num_boost_round': 250}\n",
      "\tdmatrix_kwargs: {'nthread': 1, 'missing': nan}\n",
      "INFO:XGBoost-PySpark:Running xgboost-2.0.0 on 1 workers with\n",
      "\tbooster params: {'objective': 'binary:logistic', 'device': 'cpu', 'max_depth': 9, 'nthread': 1}\n",
      "\ttrain_call_kwargs_params: {'verbose_eval': True, 'num_boost_round': 250}\n",
      "\tdmatrix_kwargs: {'nthread': 1, 'missing': nan}\n",
      "[06:24:54] task 0 got new rank 0                                    (0 + 1) / 1]\n",
      "2023-10-12 06:24:58,254 INFO XGBoost-PySpark: _fit Finished xgboost training!   \n",
      "INFO:XGBoost-PySpark:Finished xgboost training!\n",
      "INFO:XGBoost-PySpark:Do the inference on the CPUs                               \n",
      "2023-10-12 06:25:00,549 INFO XGBoost-PySpark: predict_udf Do the inference on the CPUs\n",
      "INFO:XGBoost-PySpark:Do the inference on the CPUs\n",
      "INFO:XGBoost-PySpark:Do the inference on the CPUs\n",
      "2023-10-12 06:25:00,883 INFO XGBoost-PySpark: predict_udf Do the inference on the CPUs\n",
      "INFO:XGBoost-PySpark:Do the inference on the CPUs\n",
      "INFO:XGBoost-PySpark:Do the inference on the CPUs                               \n",
      "2023-10-12 06:25:02,953 INFO XGBoost-PySpark: predict_udf Do the inference on the CPUs\n",
      "INFO:XGBoost-PySpark:Do the inference on the CPUs\n",
      "INFO:XGBoost-PySpark:Do the inference on the CPUs                   (2 + 2) / 4]\n",
      "2023-10-12 06:25:03,280 INFO XGBoost-PySpark: predict_udf Do the inference on the CPUs\n",
      "INFO:XGBoost-PySpark:Do the inference on the CPUs\n",
      "INFO:XGBoost-PySpark:Do the inference on the CPUs                               \n",
      "2023-10-12 06:25:05,325 INFO XGBoost-PySpark: predict_udf Do the inference on the CPUs\n",
      "INFO:XGBoost-PySpark:Do the inference on the CPUs\n",
      "INFO:XGBoost-PySpark:Do the inference on the CPUs\n",
      "2023-10-12 06:25:05,662 INFO XGBoost-PySpark: predict_udf Do the inference on the CPUs\n",
      "INFO:XGBoost-PySpark:Do the inference on the CPUs\n",
      "INFO:XGBoost-PySpark:Do the inference on the CPUs                               \n",
      "2023-10-12 06:25:07,662 INFO XGBoost-PySpark: predict_udf Do the inference on the CPUs\n",
      "INFO:XGBoost-PySpark:Do the inference on the CPUs\n",
      "INFO:XGBoost-PySpark:Do the inference on the CPUs\n",
      "2023-10-12 06:25:07,995 INFO XGBoost-PySpark: predict_udf Do the inference on the CPUs\n",
      "INFO:XGBoost-PySpark:Do the inference on the CPUs\n",
      "2023-10-12 06:25:09,985 INFO XGBoost-PySpark: predict_udf Do the inference on the CPUs\n",
      "INFO:XGBoost-PySpark:Do the inference on the CPUs\n",
      "INFO:XGBoost-PySpark:Do the inference on the CPUs\n",
      "2023-10-12 06:25:10,349 INFO XGBoost-PySpark: predict_udf Do the inference on the CPUs\n",
      "INFO:XGBoost-PySpark:Do the inference on the CPUs\n",
      "INFO:XGBoost-PySpark:Do the inference on the CPUs                   (2 + 2) / 4]\n",
      "                                                                                \r"
     ]
    },
    {
     "name": "stdout",
     "output_type": "stream",
     "text": [
      "MAX_DEPTH: 9 N_ESTIMATORS: 250 ACCURACY: 0.7226 F1: 0.7225 auc: 0.7877\n"
     ]
    },
    {
     "name": "stderr",
     "output_type": "stream",
     "text": [
      "2023-10-12 06:25:14,661 INFO XGBoost-PySpark: _fit Running xgboost-2.0.0 on 1 workers with\n",
      "\tbooster params: {'objective': 'binary:logistic', 'device': 'cpu', 'max_depth': 10, 'nthread': 1}\n",
      "\ttrain_call_kwargs_params: {'verbose_eval': True, 'num_boost_round': 50}\n",
      "\tdmatrix_kwargs: {'nthread': 1, 'missing': nan}\n",
      "INFO:XGBoost-PySpark:Running xgboost-2.0.0 on 1 workers with\n",
      "\tbooster params: {'objective': 'binary:logistic', 'device': 'cpu', 'max_depth': 10, 'nthread': 1}\n",
      "\ttrain_call_kwargs_params: {'verbose_eval': True, 'num_boost_round': 50}\n",
      "\tdmatrix_kwargs: {'nthread': 1, 'missing': nan}\n",
      "[06:25:17] task 0 got new rank 0                                    (0 + 1) / 1]\n",
      "2023-10-12 06:25:19,772 INFO XGBoost-PySpark: _fit Finished xgboost training!   \n",
      "INFO:XGBoost-PySpark:Finished xgboost training!\n",
      "2023-10-12 06:25:21,811 INFO XGBoost-PySpark: predict_udf Do the inference on the CPUs\n",
      "INFO:XGBoost-PySpark:Do the inference on the CPUs\n",
      "INFO:XGBoost-PySpark:Do the inference on the CPUs\n",
      "INFO:XGBoost-PySpark:Do the inference on the CPUs\n",
      "2023-10-12 06:25:22,225 INFO XGBoost-PySpark: predict_udf Do the inference on the CPUs\n",
      "INFO:XGBoost-PySpark:Do the inference on the CPUs\n",
      "INFO:XGBoost-PySpark:Do the inference on the CPUs                               \n",
      "2023-10-12 06:25:24,253 INFO XGBoost-PySpark: predict_udf Do the inference on the CPUs\n",
      "INFO:XGBoost-PySpark:Do the inference on the CPUs\n",
      "INFO:XGBoost-PySpark:Do the inference on the CPUs\n",
      "2023-10-12 06:25:24,590 INFO XGBoost-PySpark: predict_udf Do the inference on the CPUs\n",
      "INFO:XGBoost-PySpark:Do the inference on the CPUs\n",
      "2023-10-12 06:25:26,545 INFO XGBoost-PySpark: predict_udf Do the inference on the CPUs\n",
      "INFO:XGBoost-PySpark:Do the inference on the CPUs\n",
      "INFO:XGBoost-PySpark:Do the inference on the CPUs\n",
      "2023-10-12 06:25:26,913 INFO XGBoost-PySpark: predict_udf Do the inference on the CPUs\n",
      "INFO:XGBoost-PySpark:Do the inference on the CPUs\n",
      "INFO:XGBoost-PySpark:Do the inference on the CPUs\n",
      "2023-10-12 06:25:29,005 INFO XGBoost-PySpark: predict_udf Do the inference on the CPUs\n",
      "INFO:XGBoost-PySpark:Do the inference on the CPUs\n",
      "INFO:XGBoost-PySpark:Do the inference on the CPUs\n",
      "INFO:XGBoost-PySpark:Do the inference on the CPUs\n",
      "2023-10-12 06:25:29,415 INFO XGBoost-PySpark: predict_udf Do the inference on the CPUs\n",
      "INFO:XGBoost-PySpark:Do the inference on the CPUs\n",
      "2023-10-12 06:25:31,343 INFO XGBoost-PySpark: predict_udf Do the inference on the CPUs\n",
      "INFO:XGBoost-PySpark:Do the inference on the CPUs\n",
      "INFO:XGBoost-PySpark:Do the inference on the CPUs\n",
      "INFO:XGBoost-PySpark:Do the inference on the CPUs\n",
      "2023-10-12 06:25:31,714 INFO XGBoost-PySpark: predict_udf Do the inference on the CPUs\n",
      "INFO:XGBoost-PySpark:Do the inference on the CPUs\n"
     ]
    },
    {
     "name": "stdout",
     "output_type": "stream",
     "text": [
      "MAX_DEPTH: 10 N_ESTIMATORS: 50 ACCURACY: 0.7285 F1: 0.7280 auc: 0.7937\n"
     ]
    },
    {
     "name": "stderr",
     "output_type": "stream",
     "text": [
      "2023-10-12 06:25:36,063 INFO XGBoost-PySpark: _fit Running xgboost-2.0.0 on 1 workers with\n",
      "\tbooster params: {'objective': 'binary:logistic', 'device': 'cpu', 'max_depth': 10, 'nthread': 1}\n",
      "\ttrain_call_kwargs_params: {'verbose_eval': True, 'num_boost_round': 100}\n",
      "\tdmatrix_kwargs: {'nthread': 1, 'missing': nan}\n",
      "INFO:XGBoost-PySpark:Running xgboost-2.0.0 on 1 workers with\n",
      "\tbooster params: {'objective': 'binary:logistic', 'device': 'cpu', 'max_depth': 10, 'nthread': 1}\n",
      "\ttrain_call_kwargs_params: {'verbose_eval': True, 'num_boost_round': 100}\n",
      "\tdmatrix_kwargs: {'nthread': 1, 'missing': nan}\n",
      "[06:25:39] task 0 got new rank 0                                    (0 + 1) / 1]\n",
      "2023-10-12 06:25:41,737 INFO XGBoost-PySpark: _fit Finished xgboost training!   \n",
      "INFO:XGBoost-PySpark:Finished xgboost training!\n",
      "INFO:XGBoost-PySpark:Do the inference on the CPUs                               \n",
      "2023-10-12 06:25:44,015 INFO XGBoost-PySpark: predict_udf Do the inference on the CPUs\n",
      "INFO:XGBoost-PySpark:Do the inference on the CPUs\n",
      "INFO:XGBoost-PySpark:Do the inference on the CPUs\n",
      "2023-10-12 06:25:44,387 INFO XGBoost-PySpark: predict_udf Do the inference on the CPUs\n",
      "INFO:XGBoost-PySpark:Do the inference on the CPUs\n",
      "INFO:XGBoost-PySpark:Do the inference on the CPUs                               \n",
      "2023-10-12 06:25:46,426 INFO XGBoost-PySpark: predict_udf Do the inference on the CPUs\n",
      "INFO:XGBoost-PySpark:Do the inference on the CPUs\n",
      "INFO:XGBoost-PySpark:Do the inference on the CPUs                   (2 + 2) / 4]\n",
      "2023-10-12 06:25:46,864 INFO XGBoost-PySpark: predict_udf Do the inference on the CPUs\n",
      "INFO:XGBoost-PySpark:Do the inference on the CPUs\n",
      "2023-10-12 06:25:48,783 INFO XGBoost-PySpark: predict_udf Do the inference on the CPUs\n",
      "INFO:XGBoost-PySpark:Do the inference on the CPUs\n",
      "INFO:XGBoost-PySpark:Do the inference on the CPUs\n",
      "2023-10-12 06:25:49,077 INFO XGBoost-PySpark: predict_udf Do the inference on the CPUs\n",
      "INFO:XGBoost-PySpark:Do the inference on the CPUs\n",
      "INFO:XGBoost-PySpark:Do the inference on the CPUs\n",
      "2023-10-12 06:25:51,135 INFO XGBoost-PySpark: predict_udf Do the inference on the CPUs\n",
      "INFO:XGBoost-PySpark:Do the inference on the CPUs\n",
      "INFO:XGBoost-PySpark:Do the inference on the CPUs\n",
      "2023-10-12 06:25:51,419 INFO XGBoost-PySpark: predict_udf Do the inference on the CPUs\n",
      "INFO:XGBoost-PySpark:Do the inference on the CPUs\n",
      "INFO:XGBoost-PySpark:Do the inference on the CPUs\n",
      "INFO:XGBoost-PySpark:Do the inference on the CPUs                               \n",
      "2023-10-12 06:25:53,741 INFO XGBoost-PySpark: predict_udf Do the inference on the CPUs\n",
      "INFO:XGBoost-PySpark:Do the inference on the CPUs\n",
      "INFO:XGBoost-PySpark:Do the inference on the CPUs                   (2 + 2) / 4]\n",
      "2023-10-12 06:25:54,087 INFO XGBoost-PySpark: predict_udf Do the inference on the CPUs\n",
      "INFO:XGBoost-PySpark:Do the inference on the CPUs\n",
      "                                                                                \r"
     ]
    },
    {
     "name": "stdout",
     "output_type": "stream",
     "text": [
      "MAX_DEPTH: 10 N_ESTIMATORS: 100 ACCURACY: 0.7288 F1: 0.7285 auc: 0.7920\n"
     ]
    },
    {
     "name": "stderr",
     "output_type": "stream",
     "text": [
      "2023-10-12 06:25:58,113 INFO XGBoost-PySpark: _fit Running xgboost-2.0.0 on 1 workers with\n",
      "\tbooster params: {'objective': 'binary:logistic', 'device': 'cpu', 'max_depth': 10, 'nthread': 1}\n",
      "\ttrain_call_kwargs_params: {'verbose_eval': True, 'num_boost_round': 150}\n",
      "\tdmatrix_kwargs: {'nthread': 1, 'missing': nan}\n",
      "INFO:XGBoost-PySpark:Running xgboost-2.0.0 on 1 workers with\n",
      "\tbooster params: {'objective': 'binary:logistic', 'device': 'cpu', 'max_depth': 10, 'nthread': 1}\n",
      "\ttrain_call_kwargs_params: {'verbose_eval': True, 'num_boost_round': 150}\n",
      "\tdmatrix_kwargs: {'nthread': 1, 'missing': nan}\n",
      "[06:26:01] task 0 got new rank 0                                    (0 + 1) / 1]\n",
      "2023-10-12 06:26:04,056 INFO XGBoost-PySpark: _fit Finished xgboost training!   \n",
      "INFO:XGBoost-PySpark:Finished xgboost training!\n",
      "INFO:XGBoost-PySpark:Do the inference on the CPUs                               \n",
      "2023-10-12 06:26:06,378 INFO XGBoost-PySpark: predict_udf Do the inference on the CPUs\n",
      "INFO:XGBoost-PySpark:Do the inference on the CPUs\n",
      "INFO:XGBoost-PySpark:Do the inference on the CPUs\n",
      "2023-10-12 06:26:06,683 INFO XGBoost-PySpark: predict_udf Do the inference on the CPUs\n",
      "INFO:XGBoost-PySpark:Do the inference on the CPUs\n",
      "INFO:XGBoost-PySpark:Do the inference on the CPUs                               \n",
      "2023-10-12 06:26:08,671 INFO XGBoost-PySpark: predict_udf Do the inference on the CPUs\n",
      "INFO:XGBoost-PySpark:Do the inference on the CPUs\n",
      "INFO:XGBoost-PySpark:Do the inference on the CPUs\n",
      "2023-10-12 06:26:08,966 INFO XGBoost-PySpark: predict_udf Do the inference on the CPUs\n",
      "INFO:XGBoost-PySpark:Do the inference on the CPUs\n",
      "INFO:XGBoost-PySpark:Do the inference on the CPUs                               \n",
      "2023-10-12 06:26:10,942 INFO XGBoost-PySpark: predict_udf Do the inference on the CPUs\n",
      "INFO:XGBoost-PySpark:Do the inference on the CPUs\n",
      "2023-10-12 06:26:11,230 INFO XGBoost-PySpark: predict_udf Do the inference on the CPUs\n",
      "INFO:XGBoost-PySpark:Do the inference on the CPUs\n",
      "INFO:XGBoost-PySpark:Do the inference on the CPUs\n",
      "2023-10-12 06:26:13,218 INFO XGBoost-PySpark: predict_udf Do the inference on the CPUs\n",
      "INFO:XGBoost-PySpark:Do the inference on the CPUs\n",
      "INFO:XGBoost-PySpark:Do the inference on the CPUs\n",
      "2023-10-12 06:26:13,523 INFO XGBoost-PySpark: predict_udf Do the inference on the CPUs\n",
      "INFO:XGBoost-PySpark:Do the inference on the CPUs\n",
      "INFO:XGBoost-PySpark:Do the inference on the CPUs\n",
      "2023-10-12 06:26:15,538 INFO XGBoost-PySpark: predict_udf Do the inference on the CPUs\n",
      "INFO:XGBoost-PySpark:Do the inference on the CPUs\n",
      "INFO:XGBoost-PySpark:Do the inference on the CPUs\n",
      "2023-10-12 06:26:15,884 INFO XGBoost-PySpark: predict_udf Do the inference on the CPUs\n",
      "INFO:XGBoost-PySpark:Do the inference on the CPUs\n",
      "INFO:XGBoost-PySpark:Do the inference on the CPUs\n",
      "                                                                                \r"
     ]
    },
    {
     "name": "stdout",
     "output_type": "stream",
     "text": [
      "MAX_DEPTH: 10 N_ESTIMATORS: 150 ACCURACY: 0.7236 F1: 0.7234 auc: 0.7896\n"
     ]
    },
    {
     "name": "stderr",
     "output_type": "stream",
     "text": [
      "2023-10-12 06:26:20,073 INFO XGBoost-PySpark: _fit Running xgboost-2.0.0 on 1 workers with\n",
      "\tbooster params: {'objective': 'binary:logistic', 'device': 'cpu', 'max_depth': 10, 'nthread': 1}\n",
      "\ttrain_call_kwargs_params: {'verbose_eval': True, 'num_boost_round': 200}\n",
      "\tdmatrix_kwargs: {'nthread': 1, 'missing': nan}\n",
      "INFO:XGBoost-PySpark:Running xgboost-2.0.0 on 1 workers with\n",
      "\tbooster params: {'objective': 'binary:logistic', 'device': 'cpu', 'max_depth': 10, 'nthread': 1}\n",
      "\ttrain_call_kwargs_params: {'verbose_eval': True, 'num_boost_round': 200}\n",
      "\tdmatrix_kwargs: {'nthread': 1, 'missing': nan}\n",
      "[06:26:23] task 0 got new rank 0                                    (0 + 1) / 1]\n",
      "2023-10-12 06:26:26,482 INFO XGBoost-PySpark: _fit Finished xgboost training!   \n",
      "INFO:XGBoost-PySpark:Finished xgboost training!\n",
      "INFO:XGBoost-PySpark:Do the inference on the CPUs                               \n",
      "2023-10-12 06:26:28,626 INFO XGBoost-PySpark: predict_udf Do the inference on the CPUs\n",
      "INFO:XGBoost-PySpark:Do the inference on the CPUs\n",
      "INFO:XGBoost-PySpark:Do the inference on the CPUs                   (2 + 2) / 4]\n",
      "2023-10-12 06:26:29,138 INFO XGBoost-PySpark: predict_udf Do the inference on the CPUs\n",
      "INFO:XGBoost-PySpark:Do the inference on the CPUs\n",
      "2023-10-12 06:26:31,068 INFO XGBoost-PySpark: predict_udf Do the inference on the CPUs\n",
      "INFO:XGBoost-PySpark:Do the inference on the CPUs\n",
      "INFO:XGBoost-PySpark:Do the inference on the CPUs\n",
      "2023-10-12 06:26:31,430 INFO XGBoost-PySpark: predict_udf Do the inference on the CPUs\n",
      "INFO:XGBoost-PySpark:Do the inference on the CPUs\n",
      "INFO:XGBoost-PySpark:Do the inference on the CPUs\n",
      "2023-10-12 06:26:33,345 INFO XGBoost-PySpark: predict_udf Do the inference on the CPUs\n",
      "INFO:XGBoost-PySpark:Do the inference on the CPUs\n",
      "INFO:XGBoost-PySpark:Do the inference on the CPUs\n",
      "2023-10-12 06:26:33,670 INFO XGBoost-PySpark: predict_udf Do the inference on the CPUs\n",
      "INFO:XGBoost-PySpark:Do the inference on the CPUs\n",
      "INFO:XGBoost-PySpark:Do the inference on the CPUs\n",
      "INFO:XGBoost-PySpark:Do the inference on the CPUs                               \n",
      "2023-10-12 06:26:35,674 INFO XGBoost-PySpark: predict_udf Do the inference on the CPUs\n",
      "INFO:XGBoost-PySpark:Do the inference on the CPUs\n",
      "INFO:XGBoost-PySpark:Do the inference on the CPUs\n",
      "2023-10-12 06:26:35,993 INFO XGBoost-PySpark: predict_udf Do the inference on the CPUs\n",
      "INFO:XGBoost-PySpark:Do the inference on the CPUs\n",
      "2023-10-12 06:26:38,052 INFO XGBoost-PySpark: predict_udf Do the inference on the CPUs\n",
      "INFO:XGBoost-PySpark:Do the inference on the CPUs\n",
      "INFO:XGBoost-PySpark:Do the inference on the CPUs\n",
      "2023-10-12 06:26:38,400 INFO XGBoost-PySpark: predict_udf Do the inference on the CPUs\n",
      "INFO:XGBoost-PySpark:Do the inference on the CPUs\n",
      "INFO:XGBoost-PySpark:Do the inference on the CPUs\n",
      "                                                                                \r"
     ]
    },
    {
     "name": "stdout",
     "output_type": "stream",
     "text": [
      "MAX_DEPTH: 10 N_ESTIMATORS: 200 ACCURACY: 0.7223 F1: 0.7221 auc: 0.7885\n"
     ]
    },
    {
     "name": "stderr",
     "output_type": "stream",
     "text": [
      "2023-10-12 06:26:42,505 INFO XGBoost-PySpark: _fit Running xgboost-2.0.0 on 1 workers with\n",
      "\tbooster params: {'objective': 'binary:logistic', 'device': 'cpu', 'max_depth': 10, 'nthread': 1}\n",
      "\ttrain_call_kwargs_params: {'verbose_eval': True, 'num_boost_round': 250}\n",
      "\tdmatrix_kwargs: {'nthread': 1, 'missing': nan}\n",
      "INFO:XGBoost-PySpark:Running xgboost-2.0.0 on 1 workers with\n",
      "\tbooster params: {'objective': 'binary:logistic', 'device': 'cpu', 'max_depth': 10, 'nthread': 1}\n",
      "\ttrain_call_kwargs_params: {'verbose_eval': True, 'num_boost_round': 250}\n",
      "\tdmatrix_kwargs: {'nthread': 1, 'missing': nan}\n",
      "[06:26:45] task 0 got new rank 0                                    (0 + 1) / 1]\n",
      "2023-10-12 06:26:49,321 INFO XGBoost-PySpark: _fit Finished xgboost training!   \n",
      "INFO:XGBoost-PySpark:Finished xgboost training!\n",
      "INFO:XGBoost-PySpark:Do the inference on the CPUs                               \n",
      "2023-10-12 06:26:51,758 INFO XGBoost-PySpark: predict_udf Do the inference on the CPUs\n",
      "INFO:XGBoost-PySpark:Do the inference on the CPUs\n",
      "INFO:XGBoost-PySpark:Do the inference on the CPUs                   (2 + 2) / 4]\n",
      "2023-10-12 06:26:52,151 INFO XGBoost-PySpark: predict_udf Do the inference on the CPUs\n",
      "INFO:XGBoost-PySpark:Do the inference on the CPUs\n",
      "INFO:XGBoost-PySpark:Do the inference on the CPUs                               \n",
      "2023-10-12 06:26:54,219 INFO XGBoost-PySpark: predict_udf Do the inference on the CPUs\n",
      "INFO:XGBoost-PySpark:Do the inference on the CPUs\n",
      "INFO:XGBoost-PySpark:Do the inference on the CPUs\n",
      "2023-10-12 06:26:54,552 INFO XGBoost-PySpark: predict_udf Do the inference on the CPUs\n",
      "INFO:XGBoost-PySpark:Do the inference on the CPUs\n",
      "2023-10-12 06:26:56,812 INFO XGBoost-PySpark: predict_udf Do the inference on the CPUs\n",
      "INFO:XGBoost-PySpark:Do the inference on the CPUs\n",
      "INFO:XGBoost-PySpark:Do the inference on the CPUs\n",
      "2023-10-12 06:26:57,165 INFO XGBoost-PySpark: predict_udf Do the inference on the CPUs\n",
      "INFO:XGBoost-PySpark:Do the inference on the CPUs\n",
      "INFO:XGBoost-PySpark:Do the inference on the CPUs                   (2 + 2) / 4]\n",
      "INFO:XGBoost-PySpark:Do the inference on the CPUs                               \n",
      "2023-10-12 06:26:59,368 INFO XGBoost-PySpark: predict_udf Do the inference on the CPUs\n",
      "INFO:XGBoost-PySpark:Do the inference on the CPUs\n",
      "2023-10-12 06:26:59,735 INFO XGBoost-PySpark: predict_udf Do the inference on the CPUs\n",
      "INFO:XGBoost-PySpark:Do the inference on the CPUs\n",
      "INFO:XGBoost-PySpark:Do the inference on the CPUs\n",
      "2023-10-12 06:27:01,972 INFO XGBoost-PySpark: predict_udf Do the inference on the CPUs\n",
      "INFO:XGBoost-PySpark:Do the inference on the CPUs\n",
      "INFO:XGBoost-PySpark:Do the inference on the CPUs\n",
      "2023-10-12 06:27:02,334 INFO XGBoost-PySpark: predict_udf Do the inference on the CPUs\n",
      "INFO:XGBoost-PySpark:Do the inference on the CPUs\n",
      "INFO:XGBoost-PySpark:Do the inference on the CPUs\n",
      "                                                                                \r"
     ]
    },
    {
     "name": "stdout",
     "output_type": "stream",
     "text": [
      "MAX_DEPTH: 10 N_ESTIMATORS: 250 ACCURACY: 0.7233 F1: 0.7231 auc: 0.7865\n"
     ]
    }
   ],
   "source": [
    "from pyspark.ml.evaluation import BinaryClassificationEvaluator, MulticlassClassificationEvaluator\n",
    "\n",
    "# Create both evaluators\n",
    "evaluatorMulti = MulticlassClassificationEvaluator(labelCol=\"label\", predictionCol=\"prediction\")\n",
    "evaluator = BinaryClassificationEvaluator(labelCol=\"label\")\n",
    "\n",
    "train_data_temp, test_data_temp = boostData.randomSplit([0.85, 0.15])\n",
    "\n",
    "result_list = []\n",
    "for md in range(5, 11):\n",
    "    for ne in range(1, 6):\n",
    "        xgc = SparkXGBClassifier(features_col=\"scaledFeatures\",\n",
    "                                 label_col=\"label\",max_depth = md, n_estimators = 50*ne)\n",
    "        xgc_model = xgc.fit(train_data_temp)\n",
    "        xgc_predictions = xgc_model.transform(test_data_temp)\n",
    "        # Make predicitons\n",
    "        predictionAndTarget = xgc_model.transform(test_data_temp).select(\"label\", \"prediction\")\n",
    "\n",
    "        # Get metrics\n",
    "        acc = evaluatorMulti.evaluate(predictionAndTarget, {evaluatorMulti.metricName: \"accuracy\"})\n",
    "        f1 = evaluatorMulti.evaluate(predictionAndTarget, {evaluatorMulti.metricName: \"f1\"})\n",
    "        weightedPrecision = evaluatorMulti.evaluate(predictionAndTarget, {evaluatorMulti.metricName: \"weightedPrecision\"})\n",
    "        weightedRecall = evaluatorMulti.evaluate(predictionAndTarget, {evaluatorMulti.metricName: \"weightedRecall\"})\n",
    "        auc = evaluator.evaluate(xgc_predictions)\n",
    "        result_list.append({'max_depth': md, 'n_estimators': 50*ne, 'accuracy': acc, 'f1': f1, 'auc': auc})\n",
    "        print('MAX_DEPTH: %d'%md, 'N_ESTIMATORS: %d'%(50*ne), 'ACCURACY: %.4f'%acc, 'F1: %.4f'%f1, 'auc: %.4f'%auc)"
   ]
  },
  {
   "cell_type": "code",
   "execution_count": 45,
   "id": "3beee805",
   "metadata": {},
   "outputs": [
    {
     "data": {
      "text/html": [
       "<div>\n",
       "<style scoped>\n",
       "    .dataframe tbody tr th:only-of-type {\n",
       "        vertical-align: middle;\n",
       "    }\n",
       "\n",
       "    .dataframe tbody tr th {\n",
       "        vertical-align: top;\n",
       "    }\n",
       "\n",
       "    .dataframe thead th {\n",
       "        text-align: right;\n",
       "    }\n",
       "</style>\n",
       "<table border=\"1\" class=\"dataframe\">\n",
       "  <thead>\n",
       "    <tr style=\"text-align: right;\">\n",
       "      <th></th>\n",
       "      <th>max_depth</th>\n",
       "      <th>n_estimators</th>\n",
       "      <th>accuracy</th>\n",
       "      <th>f1</th>\n",
       "      <th>auc</th>\n",
       "    </tr>\n",
       "  </thead>\n",
       "  <tbody>\n",
       "    <tr>\n",
       "      <th>11</th>\n",
       "      <td>7</td>\n",
       "      <td>100</td>\n",
       "      <td>0.734007</td>\n",
       "      <td>0.733483</td>\n",
       "      <td>0.797244</td>\n",
       "    </tr>\n",
       "    <tr>\n",
       "      <th>5</th>\n",
       "      <td>6</td>\n",
       "      <td>50</td>\n",
       "      <td>0.733254</td>\n",
       "      <td>0.732573</td>\n",
       "      <td>0.796244</td>\n",
       "    </tr>\n",
       "    <tr>\n",
       "      <th>20</th>\n",
       "      <td>9</td>\n",
       "      <td>50</td>\n",
       "      <td>0.733039</td>\n",
       "      <td>0.732442</td>\n",
       "      <td>0.792446</td>\n",
       "    </tr>\n",
       "    <tr>\n",
       "      <th>4</th>\n",
       "      <td>5</td>\n",
       "      <td>250</td>\n",
       "      <td>0.732932</td>\n",
       "      <td>0.732513</td>\n",
       "      <td>0.797078</td>\n",
       "    </tr>\n",
       "    <tr>\n",
       "      <th>9</th>\n",
       "      <td>6</td>\n",
       "      <td>250</td>\n",
       "      <td>0.731749</td>\n",
       "      <td>0.731414</td>\n",
       "      <td>0.795290</td>\n",
       "    </tr>\n",
       "    <tr>\n",
       "      <th>2</th>\n",
       "      <td>5</td>\n",
       "      <td>150</td>\n",
       "      <td>0.731642</td>\n",
       "      <td>0.731108</td>\n",
       "      <td>0.797065</td>\n",
       "    </tr>\n",
       "    <tr>\n",
       "      <th>1</th>\n",
       "      <td>5</td>\n",
       "      <td>100</td>\n",
       "      <td>0.731427</td>\n",
       "      <td>0.730795</td>\n",
       "      <td>0.797118</td>\n",
       "    </tr>\n",
       "    <tr>\n",
       "      <th>12</th>\n",
       "      <td>7</td>\n",
       "      <td>150</td>\n",
       "      <td>0.731427</td>\n",
       "      <td>0.731055</td>\n",
       "      <td>0.795357</td>\n",
       "    </tr>\n",
       "    <tr>\n",
       "      <th>15</th>\n",
       "      <td>8</td>\n",
       "      <td>50</td>\n",
       "      <td>0.731104</td>\n",
       "      <td>0.730514</td>\n",
       "      <td>0.797654</td>\n",
       "    </tr>\n",
       "    <tr>\n",
       "      <th>8</th>\n",
       "      <td>6</td>\n",
       "      <td>200</td>\n",
       "      <td>0.730567</td>\n",
       "      <td>0.730153</td>\n",
       "      <td>0.795524</td>\n",
       "    </tr>\n",
       "  </tbody>\n",
       "</table>\n",
       "</div>"
      ],
      "text/plain": [
       "    max_depth  n_estimators  accuracy        f1       auc\n",
       "11          7           100  0.734007  0.733483  0.797244\n",
       "5           6            50  0.733254  0.732573  0.796244\n",
       "20          9            50  0.733039  0.732442  0.792446\n",
       "4           5           250  0.732932  0.732513  0.797078\n",
       "9           6           250  0.731749  0.731414  0.795290\n",
       "2           5           150  0.731642  0.731108  0.797065\n",
       "1           5           100  0.731427  0.730795  0.797118\n",
       "12          7           150  0.731427  0.731055  0.795357\n",
       "15          8            50  0.731104  0.730514  0.797654\n",
       "8           6           200  0.730567  0.730153  0.795524"
      ]
     },
     "execution_count": 45,
     "metadata": {},
     "output_type": "execute_result"
    }
   ],
   "source": [
    "grid_df = pd.DataFrame(result_list)\n",
    "grid_df.sort_values(by = 'accuracy', ascending = False, inplace = True)\n",
    "grid_df[['max_depth', 'n_estimators', 'accuracy', 'f1', 'auc']].head(10)\n"
   ]
  },
  {
   "cell_type": "code",
   "execution_count": 47,
   "id": "d18372c1",
   "metadata": {},
   "outputs": [
    {
     "name": "stderr",
     "output_type": "stream",
     "text": [
      "2023-10-12 03:03:13,640 INFO XGBoost-PySpark: _fit Running xgboost-2.0.0 on 1 workers with\n",
      "\tbooster params: {'objective': 'binary:logistic', 'device': 'cpu', 'max_depth': 6, 'nthread': 1}\n",
      "\ttrain_call_kwargs_params: {'verbose_eval': True, 'num_boost_round': 200}\n",
      "\tdmatrix_kwargs: {'nthread': 1, 'missing': nan}\n",
      "[03:03:17] task 0 got new rank 0                                    (0 + 1) / 1]\n",
      "2023-10-12 03:03:19,979 INFO XGBoost-PySpark: _fit Finished xgboost training!   \n",
      "2023-10-12 03:03:22,432 INFO XGBoost-PySpark: predict_udf Do the inference on the CPUs\n",
      "INFO:XGBoost-PySpark:Do the inference on the CPUs\n",
      "INFO:XGBoost-PySpark:Do the inference on the CPUs\n",
      "INFO:XGBoost-PySpark:Do the inference on the CPUs                   (2 + 2) / 4]\n",
      "2023-10-12 03:03:23,067 INFO XGBoost-PySpark: predict_udf Do the inference on the CPUs\n",
      "INFO:XGBoost-PySpark:Do the inference on the CPUs\n",
      "                                                                                \r"
     ]
    },
    {
     "name": "stdout",
     "output_type": "stream",
     "text": [
      "Auc: 0.7860\n"
     ]
    }
   ],
   "source": [
    "xgc = SparkXGBClassifier(features_col=\"scaledFeatures\", label_col=\"label\",max_depth = 6, n_estimators = 200)\n",
    "xgc_model = xgc.fit(train_data)\n",
    "xgc_predictions = xgc_model.transform(test_data)\n",
    "print('Auc: %.4f'%my_binary_eval.evaluate(xgc_predictions))"
   ]
  },
  {
   "cell_type": "code",
   "execution_count": 48,
   "id": "bd625f38",
   "metadata": {},
   "outputs": [
    {
     "name": "stdout",
     "output_type": "stream",
     "text": [
      "{'f0': 800.0, 'f1': 1192.0, 'f2': 243.0, 'f3': 286.0, 'f4': 1073.0, 'f5': 1857.0, 'f6': 354.0, 'f7': 242.0, 'f8': 125.0, 'f9': 91.0, 'f10': 220.0, 'f11': 175.0, 'f12': 420.0, 'f13': 478.0, 'f14': 1474.0}\n"
     ]
    }
   ],
   "source": [
    "print(xgc_model.get_feature_importances())"
   ]
  },
  {
   "cell_type": "code",
   "execution_count": 54,
   "id": "d94f67cb",
   "metadata": {},
   "outputs": [
    {
     "name": "stdout",
     "output_type": "stream",
     "text": [
      "{'height': 800.0, 'weight': 1192.0, 'ap_hi': 243.0, 'ap_lo': 286.0, 'bmi': 1073.0, 'creff': 1857.0, 'cholesterol': 354.0, 'gluc': 242.0, 'smoke': 125.0, 'alco': 91.0, 'active': 220.0, 'gender': 175.0, 'ap_gap': 420.0, 'ap_mul': 478.0, 'bmi_aphi': 1474.0}\n"
     ]
    }
   ],
   "source": [
    "# feature_important = xgc_model.get_booster().get_score(importance_type='weight')\n",
    "# print(feature_important)\n",
    "\n",
    "mapper = {'f{0}'.format(i): v for i, v in enumerate(assembler.getInputCols())}\n",
    "mapped = {mapper[k]: v for k, v in xgc_model.get_booster().get_fscore().items()}\n",
    "print(mapped)"
   ]
  },
  {
   "cell_type": "code",
   "execution_count": 55,
   "id": "84db03ae",
   "metadata": {},
   "outputs": [
    {
     "name": "stdout",
     "output_type": "stream",
     "text": [
      "col: height importance: 800.0\n",
      "col: weight importance: 1192.0\n",
      "col: ap_hi importance: 243.0\n",
      "col: ap_lo importance: 286.0\n",
      "col: bmi importance: 1073.0\n",
      "col: creff importance: 1857.0\n",
      "col: cholesterol importance: 354.0\n",
      "col: gluc importance: 242.0\n",
      "col: smoke importance: 125.0\n",
      "col: alco importance: 91.0\n",
      "col: active importance: 220.0\n",
      "col: gender importance: 175.0\n",
      "col: ap_gap importance: 420.0\n",
      "col: ap_mul importance: 478.0\n",
      "col: bmi_aphi importance: 1474.0\n"
     ]
    },
    {
     "data": {
      "image/png": "[encoded data removed]",
      "text/plain": [
       "<Figure size 432x288 with 1 Axes>"
      ]
     },
     "metadata": {
      "needs_background": "light"
     },
     "output_type": "display_data"
    }
   ],
   "source": [
    "col_list = []\n",
    "importance_list = []\n",
    "for c, v in zip(assembler.getInputCols(), xgc_model.get_feature_importances().values()):\n",
    "    col_list.append(c)\n",
    "    importance_list.append(v)\n",
    "    print('col: %s'%c, 'importance: %.1f'%v)\n",
    "\n",
    "plt.figure()\n",
    "plt.title(\"Feature importances\")\n",
    "plt.barh(col_list, importance_list, color=\"b\")\n",
    "plt.show()"
   ]
  },
  {
   "cell_type": "code",
   "execution_count": 56,
   "id": "8e4f2a24",
   "metadata": {},
   "outputs": [],
   "source": [
    "xgc_model.get_booster().dump_model('xgb_model.txt', with_stats=True)"
   ]
  },
  {
   "cell_type": "code",
   "execution_count": 57,
   "id": "2299ec62",
   "metadata": {},
   "outputs": [
    {
     "name": "stderr",
     "output_type": "stream",
     "text": [
      "2023-10-12 03:13:20,047 INFO XGBoost-PySpark: predict_udf Do the inference on the CPUs\n",
      "2023-10-12 03:13:20,127 INFO XGBoost-PySpark: predict_udf Do the inference on the CPUs\n",
      "2023-10-12 03:13:20,352 INFO XGBoost-PySpark: predict_udf Do the inference on the CPUs\n",
      "2023-10-12 03:13:20,416 INFO XGBoost-PySpark: predict_udf Do the inference on the CPUs\n",
      "2023-10-12 03:13:22,872 INFO XGBoost-PySpark: predict_udf Do the inference on the CPUs\n",
      "2023-10-12 03:13:22,922 INFO XGBoost-PySpark: predict_udf Do the inference on the CPUs\n",
      "2023-10-12 03:13:23,392 INFO XGBoost-PySpark: predict_udf Do the inference on the CPUs\n",
      "2023-10-12 03:13:23,506 INFO XGBoost-PySpark: predict_udf Do the inference on the CPUs\n",
      "2023-10-12 03:13:25,760 INFO XGBoost-PySpark: predict_udf Do the inference on the CPUs\n",
      "2023-10-12 03:13:25,762 INFO XGBoost-PySpark: predict_udf Do the inference on the CPUs\n",
      "2023-10-12 03:13:26,193 INFO XGBoost-PySpark: predict_udf Do the inference on the CPUs\n",
      "2023-10-12 03:13:26,287 INFO XGBoost-PySpark: predict_udf Do the inference on the CPUs\n",
      "2023-10-12 03:13:28,594 INFO XGBoost-PySpark: predict_udf Do the inference on the CPUs\n",
      "2023-10-12 03:13:28,595 INFO XGBoost-PySpark: predict_udf Do the inference on the CPUs\n",
      "2023-10-12 03:13:29,099 INFO XGBoost-PySpark: predict_udf Do the inference on the CPUs\n",
      "2023-10-12 03:13:29,126 INFO XGBoost-PySpark: predict_udf Do the inference on the CPUs\n",
      "2023-10-12 03:13:31,353 INFO XGBoost-PySpark: predict_udf Do the inference on the CPUs\n",
      "2023-10-12 03:13:31,373 INFO XGBoost-PySpark: predict_udf Do the inference on the CPUs\n",
      "2023-10-12 03:13:31,777 INFO XGBoost-PySpark: predict_udf Do the inference on the CPUs\n",
      "2023-10-12 03:13:31,919 INFO XGBoost-PySpark: predict_udf Do the inference on the CPUs\n"
     ]
    },
    {
     "name": "stdout",
     "output_type": "stream",
     "text": [
      "acc: 0.7190043082814744\n",
      "recall: 0.7190043082814743\n",
      "f1: 0.7182813611008362\n",
      "auc: 0.7190611693270365\n"
     ]
    },
    {
     "name": "stderr",
     "output_type": "stream",
     "text": [
      "\r",
      "                                                                                \r"
     ]
    }
   ],
   "source": [
    "from pyspark.ml.evaluation import BinaryClassificationEvaluator, MulticlassClassificationEvaluator\n",
    "\n",
    "# Create both evaluators\n",
    "evaluatorMulti = MulticlassClassificationEvaluator(labelCol=\"label\", predictionCol=\"prediction\")\n",
    "evaluator = BinaryClassificationEvaluator(labelCol=\"label\", rawPredictionCol=\"prediction\", metricName='areaUnderROC')\n",
    "\n",
    "# Make predicitons\n",
    "predictionAndTarget = xgc_model.transform(test_data).select(\"label\", \"prediction\")\n",
    "\n",
    "# Get metrics\n",
    "acc = evaluatorMulti.evaluate(predictionAndTarget, {evaluatorMulti.metricName: \"accuracy\"})\n",
    "f1 = evaluatorMulti.evaluate(predictionAndTarget, {evaluatorMulti.metricName: \"f1\"})\n",
    "weightedPrecision = evaluatorMulti.evaluate(predictionAndTarget, {evaluatorMulti.metricName: \"weightedPrecision\"})\n",
    "weightedRecall = evaluatorMulti.evaluate(predictionAndTarget, {evaluatorMulti.metricName: \"weightedRecall\"})\n",
    "auc = evaluator.evaluate(predictionAndTarget)\n",
    "print('acc:', acc)\n",
    "print('recall:', weightedRecall)\n",
    "print('f1:', f1)\n",
    "print('auc:', auc)"
   ]
  },
  {
   "cell_type": "code",
   "execution_count": 58,
   "id": "c02a6378",
   "metadata": {},
   "outputs": [],
   "source": [
    "from pyspark.mllib.evaluation import BinaryClassificationMetrics\n",
    "\n",
    "# Scala version implements .roc() and .pr()\n",
    "# Python: https://spark.apache.org/docs/latest/api/python/_modules/pyspark/mllib/common.html\n",
    "# Scala: https://spark.apache.org/docs/latest/api/java/org/apache/spark/mllib/evaluation/BinaryClassificationMetrics.html\n",
    "class CurveMetrics(BinaryClassificationMetrics):\n",
    "    def __init__(self, *args):\n",
    "        super(CurveMetrics, self).__init__(*args)\n",
    "\n",
    "    def _to_list(self, rdd):\n",
    "        points = []\n",
    "        # Note this collect could be inefficient for large datasets \n",
    "        # considering there may be one probability per datapoint (at most)\n",
    "        # The Scala version takes a numBins parameter, \n",
    "        # but it doesn't seem possible to pass this from Python to Java\n",
    "        for row in rdd.collect():\n",
    "            # Results are returned as type scala.Tuple2, \n",
    "            # which doesn't appear to have a py4j mapping\n",
    "            points += [(float(row._1()), float(row._2()))]\n",
    "        return points\n",
    "\n",
    "    def get_curve(self, method):\n",
    "        rdd = getattr(self._java_model, method)().toJavaRDD()\n",
    "        return self._to_list(rdd)"
   ]
  },
  {
   "cell_type": "code",
   "execution_count": 59,
   "id": "5d1aedaa",
   "metadata": {},
   "outputs": [
    {
     "name": "stderr",
     "output_type": "stream",
     "text": [
      "/home/ubuntu/spark-3.2.1-bin-hadoop2.7/python/pyspark/sql/context.py:125: FutureWarning: Deprecated in 3.0.0. Use SparkSession.builder.getOrCreate() instead.\n",
      "  warnings.warn(\n",
      "2023-10-12 03:14:00,983 INFO XGBoost-PySpark: predict_udf Do the inference on the CPUs\n",
      "2023-10-12 03:14:01,848 INFO XGBoost-PySpark: predict_udf Do the inference on the CPUs\n",
      "2023-10-12 03:14:01,909 INFO XGBoost-PySpark: predict_udf Do the inference on the CPUs\n",
      "2023-10-12 03:14:02,997 INFO XGBoost-PySpark: predict_udf Do the inference on the CPUs\n",
      "2023-10-12 03:14:03,001 INFO XGBoost-PySpark: predict_udf Do the inference on the CPUs\n",
      "                                                                                \r"
     ]
    },
    {
     "data": {
      "text/plain": [
       "[<matplotlib.lines.Line2D at 0x7f9c4e5b5810>]"
      ]
     },
     "execution_count": 59,
     "metadata": {},
     "output_type": "execute_result"
    },
    {
     "data": {
      "image/png": "[encoded data removed]",
      "text/plain": [
       "<Figure size 432x288 with 1 Axes>"
      ]
     },
     "metadata": {
      "needs_background": "light"
     },
     "output_type": "display_data"
    }
   ],
   "source": [
    "predictions = xgc_model.transform(test_data)\n",
    "preds = predictions.select('label','probability').rdd.map(lambda row: (float(row['probability'][1]), float(row['label'])))\n",
    "points = CurveMetrics(preds).get_curve('roc')\n",
    "\n",
    "plt.figure()\n",
    "x_val = [x[0] for x in points]\n",
    "y_val = [x[1] for x in points]\n",
    "plt.title('roc')\n",
    "plt.xlabel('fpr')\n",
    "plt.ylabel('tpr')\n",
    "plt.plot(x_val, y_val)"
   ]
  },
  {
   "cell_type": "code",
   "execution_count": null,
   "id": "5946f0a0",
   "metadata": {},
   "outputs": [],
   "source": []
  }
 ],
 "metadata": {
  "kernelspec": {
   "display_name": "Python 3 (ipykernel)",
   "language": "python",
   "name": "python3"
  },
  "language_info": {
   "codemirror_mode": {
    "name": "ipython",
    "version": 3
   },
   "file_extension": ".py",
   "mimetype": "text/x-python",
   "name": "python",
   "nbconvert_exporter": "python",
   "pygments_lexer": "ipython3",
   "version": "3.10.12"
  }
 },
 "nbformat": 4,
 "nbformat_minor": 5
}
