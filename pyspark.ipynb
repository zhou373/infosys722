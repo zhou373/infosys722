{
 "cells": [
  {
   "cell_type": "code",
   "execution_count": 1,
   "id": "af529943",
   "metadata": {},
   "outputs": [
    {
     "name": "stderr",
     "output_type": "stream",
     "text": [
      "WARNING: An illegal reflective access operation has occurred\n",
      "WARNING: Illegal reflective access by org.apache.spark.unsafe.Platform (file:/home/ubuntu/spark-3.2.1-bin-hadoop2.7/jars/spark-unsafe_2.12-3.2.1.jar) to constructor java.nio.DirectByteBuffer(long,int)\n",
      "WARNING: Please consider reporting this to the maintainers of org.apache.spark.unsafe.Platform\n",
      "WARNING: Use --illegal-access=warn to enable warnings of further illegal reflective access operations\n",
      "WARNING: All illegal access operations will be denied in a future release\n",
      "Using Spark's default log4j profile: org/apache/spark/log4j-defaults.properties\n",
      "Setting default log level to \"WARN\".\n",
      "To adjust logging level use sc.setLogLevel(newLevel). For SparkR, use setLogLevel(newLevel).\n",
      "23/10/08 11:07:27 WARN NativeCodeLoader: Unable to load native-hadoop library for your platform... using builtin-java classes where applicable\n"
     ]
    }
   ],
   "source": [
    "# Must be included at the beginning of each new notebook. Remember to change the app name.\n",
    "import findspark\n",
    "findspark.init('/home/ubuntu/spark-3.2.1-bin-hadoop2.7')\n",
    "import pyspark\n",
    "from pyspark.sql import SparkSession\n",
    "spark = SparkSession.builder.appName('operations').getOrCreate()"
   ]
  },
  {
   "cell_type": "code",
   "execution_count": 6,
   "id": "139a8dd4",
   "metadata": {},
   "outputs": [
    {
     "name": "stdout",
     "output_type": "stream",
     "text": [
      "Defaulting to user installation because normal site-packages is not writeable\n",
      "Collecting openpyxl\n",
      "  Downloading openpyxl-3.1.2-py2.py3-none-any.whl (249 kB)\n",
      "\u001b[2K     \u001b[90m━━━━━━━━━━━━━━━━━━━━━━━━━━━━━━━━━━━━━━━\u001b[0m \u001b[32m250.0/250.0 KB\u001b[0m \u001b[31m4.2 MB/s\u001b[0m eta \u001b[36m0:00:00\u001b[0ma \u001b[36m0:00:01\u001b[0m\n",
      "\u001b[?25hCollecting et-xmlfile\n",
      "  Downloading et_xmlfile-1.1.0-py3-none-any.whl (4.7 kB)\n",
      "Installing collected packages: et-xmlfile, openpyxl\n",
      "Successfully installed et-xmlfile-1.1.0 openpyxl-3.1.2\n",
      "Note: you may need to restart the kernel to use updated packages.\n"
     ]
    }
   ],
   "source": [
    "%pip install openpyxl"
   ]
  },
  {
   "cell_type": "code",
   "execution_count": 8,
   "id": "1e631e00",
   "metadata": {},
   "outputs": [
    {
     "name": "stdout",
     "output_type": "stream",
     "text": [
      "root\n",
      " |-- id: long (nullable = true)\n",
      " |-- age: long (nullable = true)\n",
      " |-- gender: string (nullable = true)\n",
      " |-- height: double (nullable = true)\n",
      " |-- weight: double (nullable = true)\n",
      " |-- ap_hi: long (nullable = true)\n",
      " |-- ap_lo: long (nullable = true)\n",
      " |-- cholesterol: long (nullable = true)\n",
      " |-- gluc: long (nullable = true)\n",
      " |-- smoke: long (nullable = true)\n",
      " |-- alco: long (nullable = true)\n",
      " |-- active: long (nullable = true)\n",
      " |-- mock: double (nullable = true)\n",
      " |-- cardio: long (nullable = true)\n",
      "\n"
     ]
    }
   ],
   "source": [
    "# Schemas can only be inferred for CSV files. \n",
    "import pandas as pd\n",
    "df_pandas = pd.read_excel(\"dataset/cardio.xlsx\")\n",
    "df = spark.createDataFrame(df_pandas)\n",
    "# df = spark.read.xlsx('dataset/cardio.xlsx', inferSchema=True, header=True)\n",
    "df.printSchema()"
   ]
  },
  {
   "cell_type": "code",
   "execution_count": 9,
   "id": "c38d5b5a",
   "metadata": {},
   "outputs": [
    {
     "name": "stderr",
     "output_type": "stream",
     "text": [
      "23/10/08 11:17:24 WARN TaskSetManager: Stage 0 contains a task of very large size (1733 KiB). The maximum recommended task size is 1000 KiB.\n",
      "[Stage 0:>                                                          (0 + 1) / 1]\r"
     ]
    },
    {
     "name": "stdout",
     "output_type": "stream",
     "text": [
      "+---+-----+------+------+------+-----+-----+-----------+----+-----+----+------+----+------+\n",
      "| id|  age|gender|height|weight|ap_hi|ap_lo|cholesterol|gluc|smoke|alco|active|mock|cardio|\n",
      "+---+-----+------+------+------+-----+-----+-----------+----+-----+----+------+----+------+\n",
      "|  0|18393|   men|   NaN|  62.0|  110|   80|          1|   1|    0|   0|     1| NaN|     0|\n",
      "|  1|20228| women| 156.0|  85.0|  140|   90|          3|   1|    0|   0|     1| 1.0|     1|\n",
      "|  2|18857| women| 165.0|  64.0|  130|   70|          3|   1|    0|   0|     0| 1.0|     1|\n",
      "|  3|17623|   men| 169.0|  82.0|  150|  100|          1|   1|    0|   0|     1| NaN|     1|\n",
      "|  4|17474| women|   NaN|  56.0|  100|   60|          1|   1|    0|   0|     0| NaN|     0|\n",
      "|  8|21914| women| 151.0|  67.0|  120|   80|          2|   2|    0|   0|     0| 1.0|     0|\n",
      "|  9|22113| women| 157.0|  93.0|  130|   80|          3|   1|    0|   0|     1| 1.0|     0|\n",
      "| 12|22584|   men| 178.0|  95.0|  130|   90|          3|   3|    0|   0|     1| 1.0|     1|\n",
      "| 13|17668| women| 158.0|  71.0|  110|   70|          1|   1|    0|   0|     1| 1.0|     0|\n",
      "| 14|19834| women| 164.0|  68.0|  110|   60|          1|   1|    0|   0|     0| 1.0|     0|\n",
      "| 15|22530| women| 169.0|  80.0|  120|   80|          1|   1|    0|   0|     1| NaN|     0|\n",
      "| 16|18815|   men| 173.0|  60.0|  120|   80|          1|   1|    0|   0|     1| NaN|     0|\n",
      "| 18|14791|   men| 165.0|  60.0|  120|   80|          1|   1|    0|   0|     0| 1.0|     0|\n",
      "| 21|19809| women| 158.0|  78.0|  110|   70|          1|   1|    0|   0|     1| 1.0|     0|\n",
      "| 23|14532|   men| 181.0|  95.0|  130|   90|          1|   1|    1|   1|     1| NaN|     0|\n",
      "| 24|16782|   men| 172.0| 112.0|  120|   80|          1|   1|    0|   0|     0| NaN|     1|\n",
      "| 25|21296| women| 170.0|  75.0|  130|   70|          1|   1|    0|   0|     0| NaN|     0|\n",
      "| 27|16747| women| 158.0|  52.0|  110|   70|          1|   3|    0|   0|     1| NaN|     0|\n",
      "| 28|17482| women| 154.0|  68.0|  100|   70|          1|   1|    0|   0|     0| 1.0|     0|\n",
      "| 29|21755|   men| 162.0|  56.0|  120|   70|          1|   1|    1|   0|     1| NaN|     0|\n",
      "+---+-----+------+------+------+-----+-----+-----------+----+-----+----+------+----+------+\n",
      "only showing top 20 rows\n",
      "\n"
     ]
    },
    {
     "name": "stderr",
     "output_type": "stream",
     "text": [
      "\r",
      "                                                                                \r"
     ]
    }
   ],
   "source": [
    "df.show()"
   ]
  },
  {
   "cell_type": "code",
   "execution_count": 10,
   "id": "9cd1e79c",
   "metadata": {},
   "outputs": [
    {
     "name": "stderr",
     "output_type": "stream",
     "text": [
      "23/10/08 11:17:42 WARN TaskSetManager: Stage 1 contains a task of very large size (1733 KiB). The maximum recommended task size is 1000 KiB.\n"
     ]
    },
    {
     "data": {
      "text/plain": [
       "[Row(id=0, age=18393, gender='men', height=nan, weight=62.0, ap_hi=110, ap_lo=80, cholesterol=1, gluc=1, smoke=0, alco=0, active=1, mock=nan, cardio=0)]"
      ]
     },
     "execution_count": 10,
     "metadata": {},
     "output_type": "execute_result"
    }
   ],
   "source": [
    "df.head(1)"
   ]
  },
  {
   "cell_type": "code",
   "execution_count": 15,
   "id": "fb01d531",
   "metadata": {},
   "outputs": [
    {
     "name": "stderr",
     "output_type": "stream",
     "text": [
      "23/10/08 11:19:48 WARN TaskSetManager: Stage 2 contains a task of very large size (1733 KiB). The maximum recommended task size is 1000 KiB.\n"
     ]
    },
    {
     "name": "stdout",
     "output_type": "stream",
     "text": [
      "+------+------+\n",
      "|gender|active|\n",
      "+------+------+\n",
      "| women|     1|\n",
      "| women|     0|\n",
      "|   men|     1|\n",
      "|   men|     1|\n",
      "|   men|     0|\n",
      "| women|     1|\n",
      "| women|     1|\n",
      "| women|     1|\n",
      "| women|     1|\n",
      "| women|     0|\n",
      "|   men|     0|\n",
      "|   men|     1|\n",
      "| women|     1|\n",
      "| women|     1|\n",
      "|   men|     1|\n",
      "|   men|     1|\n",
      "| women|     1|\n",
      "| women|     1|\n",
      "| women|     1|\n",
      "| women|     1|\n",
      "+------+------+\n",
      "only showing top 20 rows\n",
      "\n"
     ]
    }
   ],
   "source": [
    "df.filter(\"cardio == 1\").select('gender','active').show()"
   ]
  },
  {
   "cell_type": "code",
   "execution_count": 17,
   "id": "88cb84c4",
   "metadata": {},
   "outputs": [
    {
     "name": "stdout",
     "output_type": "stream",
     "text": [
      "+------+------+\n",
      "|gender|active|\n",
      "+------+------+\n",
      "| women|     1|\n",
      "| women|     0|\n",
      "|   men|     1|\n",
      "|   men|     1|\n",
      "|   men|     0|\n",
      "| women|     1|\n",
      "| women|     1|\n",
      "| women|     1|\n",
      "| women|     1|\n",
      "| women|     0|\n",
      "|   men|     0|\n",
      "|   men|     1|\n",
      "| women|     1|\n",
      "| women|     1|\n",
      "|   men|     1|\n",
      "|   men|     1|\n",
      "| women|     1|\n",
      "| women|     1|\n",
      "| women|     1|\n",
      "| women|     1|\n",
      "+------+------+\n",
      "only showing top 20 rows\n",
      "\n"
     ]
    },
    {
     "name": "stderr",
     "output_type": "stream",
     "text": [
      "23/10/08 11:20:43 WARN TaskSetManager: Stage 3 contains a task of very large size (1733 KiB). The maximum recommended task size is 1000 KiB.\n"
     ]
    }
   ],
   "source": [
    "df.filter(df['cardio'] == 1).select('gender','active').show()"
   ]
  },
  {
   "cell_type": "code",
   "execution_count": null,
   "id": "580a5ba4",
   "metadata": {},
   "outputs": [],
   "source": []
  }
 ],
 "metadata": {
  "kernelspec": {
   "display_name": "Python 3 (ipykernel)",
   "language": "python",
   "name": "python3"
  },
  "language_info": {
   "codemirror_mode": {
    "name": "ipython",
    "version": 3
   },
   "file_extension": ".py",
   "mimetype": "text/x-python",
   "name": "python",
   "nbconvert_exporter": "python",
   "pygments_lexer": "ipython3",
   "version": "3.10.4"
  }
 },
 "nbformat": 4,
 "nbformat_minor": 5
}
